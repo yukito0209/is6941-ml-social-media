{
 "cells": [
  {
   "cell_type": "code",
   "execution_count": 24,
   "id": "2fb027d5",
   "metadata": {},
   "outputs": [],
   "source": [
    "import pandas as pd\n",
    "import xgboost as xgb\n",
    "from sklearn.model_selection import train_test_split\n",
    "from sklearn.metrics import classification_report, confusion_matrix\n",
    "from sklearn.feature_extraction.text import TfidfVectorizer\n",
    "from sklearn.preprocessing import OneHotEncoder\n",
    "from sklearn.compose import ColumnTransformer\n",
    "from sklearn.pipeline import Pipeline\n",
    "from sklearn.impute import SimpleImputer # To handle potential NaNs in 'likes'\n",
    "import matplotlib.pyplot as plt\n",
    "import seaborn as sns\n",
    "import time\n",
    "import numpy as np # For handling sparse matrix if needed"
   ]
  },
  {
   "cell_type": "code",
   "execution_count": 25,
   "id": "8d8dbb71",
   "metadata": {},
   "outputs": [],
   "source": [
    "# --- Configuration ---\n",
    "file_path = r'D:\\GitHubRepos\\is6941-ml-social-media\\taptap\\data\\integrated\\lm_cleaned_taptap_reviews.csv'\n",
    "# Feature columns - EXCLUDING 'rating' to avoid data leakage\n",
    "text_col = 'review_content'\n",
    "categorical_cols = ['game_name']\n",
    "numerical_cols = ['likes']\n",
    "feature_columns = [text_col] + categorical_cols + numerical_cols\n",
    "target_column = 'sentiment'\n",
    "test_size = 0.2\n",
    "random_state = 42"
   ]
  },
  {
   "cell_type": "code",
   "execution_count": 26,
   "id": "892df126",
   "metadata": {},
   "outputs": [
    {
     "name": "stdout",
     "output_type": "stream",
     "text": [
      "开始加载数据: D:\\GitHubRepos\\is6941-ml-social-media\\taptap\\data\\integrated\\lm_cleaned_taptap_reviews.csv\n",
      "数据加载成功，总行数: 39985\n",
      "\n",
      "处理必要列的缺失值后，剩余行数: 39985\n",
      "\n",
      "数据信息 (选择的列):\n",
      "<class 'pandas.core.frame.DataFrame'>\n",
      "RangeIndex: 39985 entries, 0 to 39984\n",
      "Data columns (total 4 columns):\n",
      " #   Column          Non-Null Count  Dtype \n",
      "---  ------          --------------  ----- \n",
      " 0   review_content  39985 non-null  object\n",
      " 1   game_name       39985 non-null  object\n",
      " 2   likes           39985 non-null  int64 \n",
      " 3   sentiment       39985 non-null  int32 \n",
      "dtypes: int32(1), int64(1), object(2)\n",
      "memory usage: 1.1+ MB\n",
      "\n",
      "目标变量 'sentiment' 分布:\n",
      "sentiment\n",
      "1    0.659072\n",
      "0    0.340928\n",
      "Name: proportion, dtype: float64\n"
     ]
    }
   ],
   "source": [
    "# --- 1. Load Data ---\n",
    "print(f\"开始加载数据: {file_path}\")\n",
    "try:\n",
    "    df = pd.read_csv(file_path)\n",
    "    print(f\"数据加载成功，总行数: {len(df)}\")\n",
    "    # Select only necessary columns + target\n",
    "    df = df[feature_columns + [target_column]].copy()\n",
    "\n",
    "    # Basic Missing Value Handling (Important before encoding/vectorizing)\n",
    "    df[text_col] = df[text_col].fillna('') # Fill missing reviews with empty string\n",
    "    df[categorical_cols] = df[categorical_cols].fillna('Unknown') # Fill missing categoricals\n",
    "    # Keep NaNs in numerical for now, SimpleImputer will handle them later in the pipeline\n",
    "    df.dropna(subset=[target_column], inplace=True) # Drop rows where target is missing\n",
    "    print(f\"\\n处理必要列的缺失值后，剩余行数: {len(df)}\")\n",
    "\n",
    "    # Ensure target column is integer type\n",
    "    df[target_column] = df[target_column].astype(int)\n",
    "\n",
    "    print(\"\\n数据信息 (选择的列):\")\n",
    "    df.info()\n",
    "    print(f\"\\n目标变量 '{target_column}' 分布:\")\n",
    "    print(df[target_column].value_counts(normalize=True))\n",
    "\n",
    "except FileNotFoundError:\n",
    "    print(f\"错误: 文件未找到 {file_path}\")\n",
    "    exit()\n",
    "except Exception as e:\n",
    "    print(f\"加载或初步处理数据时发生错误: {e}\")\n",
    "    exit()"
   ]
  },
  {
   "cell_type": "code",
   "execution_count": 27,
   "id": "25d61e18",
   "metadata": {},
   "outputs": [],
   "source": [
    "# --- 2. Prepare Features and Target ---\n",
    "X = df[feature_columns]\n",
    "y = df[target_column]"
   ]
  },
  {
   "cell_type": "code",
   "execution_count": 28,
   "id": "c297def1",
   "metadata": {},
   "outputs": [
    {
     "name": "stdout",
     "output_type": "stream",
     "text": [
      "\n",
      "划分数据集，测试集比例: 0.2\n",
      "训练集大小: 31988, 测试集大小: 7997\n"
     ]
    }
   ],
   "source": [
    "# --- 3. Split Data ---\n",
    "print(f\"\\n划分数据集，测试集比例: {test_size}\")\n",
    "X_train, X_test, y_train, y_test = train_test_split(\n",
    "    X, y,\n",
    "    test_size=test_size,\n",
    "    random_state=random_state,\n",
    "    stratify=y\n",
    ")\n",
    "print(f\"训练集大小: {X_train.shape[0]}, 测试集大小: {X_test.shape[0]}\")"
   ]
  },
  {
   "cell_type": "code",
   "execution_count": 29,
   "id": "320e2b4d",
   "metadata": {},
   "outputs": [
    {
     "name": "stdout",
     "output_type": "stream",
     "text": [
      "\n",
      "创建预处理和模型管道...\n"
     ]
    }
   ],
   "source": [
    "# --- 4. Create Preprocessing Pipeline ---\n",
    "print(\"\\n创建预处理和模型管道...\")\n",
    "\n",
    "# Define preprocessing steps for different column types\n",
    "# Text: TF-IDF Vectorizer\n",
    "text_transformer = Pipeline(steps=[\n",
    "    ('tfidf', TfidfVectorizer(max_features=5000, stop_words=None)) # Limit features for efficiency\n",
    "    # Consider adding stop_words='english' or a custom list if needed\n",
    "])\n",
    "\n",
    "# Categorical: One-Hot Encoder\n",
    "categorical_transformer = Pipeline(steps=[\n",
    "    ('onehot', OneHotEncoder(handle_unknown='ignore', sparse_output=False)) # handle_unknown ignores categories present only in test set\n",
    "])\n",
    "\n",
    "# Numerical: Simple Imputer (e.g., fill with median)\n",
    "numerical_transformer = Pipeline(steps=[\n",
    "    ('imputer', SimpleImputer(strategy='median'))\n",
    "    # Optionally add StandardScaler here: ('scaler', StandardScaler())\n",
    "])\n",
    "\n",
    "# Combine preprocessing steps using ColumnTransformer\n",
    "preprocessor = ColumnTransformer(\n",
    "    transformers=[\n",
    "        ('text', text_transformer, text_col),\n",
    "        ('cat', categorical_transformer, categorical_cols),\n",
    "        ('num', numerical_transformer, numerical_cols)\n",
    "    ],\n",
    "    remainder='passthrough' # Keep other columns (if any) - should be none here\n",
    ")"
   ]
  },
  {
   "cell_type": "code",
   "execution_count": 30,
   "id": "97a0ae20",
   "metadata": {},
   "outputs": [
    {
     "name": "stdout",
     "output_type": "stream",
     "text": [
      "初始化 XGBoost 分类器...\n",
      "检测到二分类任务\n"
     ]
    }
   ],
   "source": [
    "# --- 5. Define XGBoost Classifier ---\n",
    "print(\"初始化 XGBoost 分类器...\")\n",
    "# Determine objective based on number of classes\n",
    "num_classes = len(y.unique())\n",
    "if num_classes == 2:\n",
    "    objective = 'binary:logistic'\n",
    "    eval_metric = 'logloss' # Common metrics: 'logloss', 'auc', 'error'\n",
    "    print(\"检测到二分类任务\")\n",
    "elif num_classes > 2:\n",
    "    objective = 'multi:softmax' # Or 'multi:softprob' to get probabilities\n",
    "    eval_metric = 'mlogloss' # Common metrics: 'mlogloss', 'merror'\n",
    "    print(f\"检测到 {num_classes} 分类任务\")\n",
    "else:\n",
    "    print(\"错误：目标变量类别数少于2。\")\n",
    "    exit()\n",
    "\n",
    "\n",
    "xgb_model = xgb.XGBClassifier(\n",
    "    objective=objective,\n",
    "    eval_metric=eval_metric,\n",
    "    use_label_encoder=False, # Recommended to set False for newer XGBoost versions\n",
    "    n_estimators=1200,       # Number of boosting rounds (trees)\n",
    "    learning_rate=0.05,\n",
    "    max_depth=10,            # Max depth of trees\n",
    "    subsample=0.8,           # Fraction of samples used per tree\n",
    "    colsample_bytree=0.8,    # Fraction of features used per tree\n",
    "    random_state=random_state,\n",
    "    early_stopping_rounds=50, # Stop if eval metric doesn't improve for 50 rounds\n",
    "    # --- GPU Parameters ---\n",
    "    tree_method='hist',      # Use 'hist' for GPU support (also fast on CPU)\n",
    "    device='cuda'            # Specify 'cuda' to use the GPU\n",
    ")"
   ]
  },
  {
   "cell_type": "code",
   "execution_count": 31,
   "id": "b8ecab32",
   "metadata": {},
   "outputs": [],
   "source": [
    "# --- 6. Create Full Pipeline (Preprocessor + Classifier) ---\n",
    "pipeline = Pipeline(steps=[('preprocessor', preprocessor), ('classifier', xgb_model)])"
   ]
  },
  {
   "cell_type": "code",
   "execution_count": 32,
   "id": "a9ddc8d2",
   "metadata": {},
   "outputs": [
    {
     "name": "stdout",
     "output_type": "stream",
     "text": [
      "\n",
      "开始手动预处理数据...\n",
      "数据预处理完成，耗时: 0.75 秒\n",
      "处理后训练数据维度: (31988, 5041)\n",
      "处理后测试数据维度: (7997, 5041)\n",
      "\n",
      "开始训练 XGBoost 模型 (使用预处理后的数据进行早停)...\n",
      "[0]\tvalidation_0-logloss:0.63154\n"
     ]
    },
    {
     "name": "stderr",
     "output_type": "stream",
     "text": [
      "c:\\Users\\wjw20\\miniconda3\\envs\\IS6941\\Lib\\site-packages\\xgboost\\callback.py:386: UserWarning: [22:35:22] WARNING: C:\\actions-runner\\_work\\xgboost\\xgboost\\src\\learner.cc:738: \n",
      "Parameters: { \"use_label_encoder\" } are not used.\n",
      "\n",
      "  self.starting_round = model.num_boosted_rounds()\n"
     ]
    },
    {
     "name": "stdout",
     "output_type": "stream",
     "text": [
      "[100]\tvalidation_0-logloss:0.47138\n",
      "[200]\tvalidation_0-logloss:0.45947\n",
      "[300]\tvalidation_0-logloss:0.45429\n",
      "[400]\tvalidation_0-logloss:0.45108\n",
      "[500]\tvalidation_0-logloss:0.44916\n",
      "[600]\tvalidation_0-logloss:0.44753\n",
      "[700]\tvalidation_0-logloss:0.44668\n",
      "[800]\tvalidation_0-logloss:0.44628\n",
      "[900]\tvalidation_0-logloss:0.44589\n",
      "[916]\tvalidation_0-logloss:0.44599\n",
      "模型训练完成，耗时: 4.96 秒\n"
     ]
    }
   ],
   "source": [
    "# --- 7. Fit Preprocessor and Train Classifier Separately ---\n",
    "print(\"\\n开始手动预处理数据...\")\n",
    "start_preprocess_time = time.time()\n",
    "\n",
    "# 7.1 Fit the preprocessor on the training data\n",
    "pipeline.named_steps['preprocessor'].fit(X_train, y_train)\n",
    "\n",
    "# 7.2 Transform both training and test data\n",
    "X_train_processed = pipeline.named_steps['preprocessor'].transform(X_train)\n",
    "X_test_processed = pipeline.named_steps['preprocessor'].transform(X_test)\n",
    "\n",
    "end_preprocess_time = time.time()\n",
    "print(f\"数据预处理完成，耗时: {end_preprocess_time - start_preprocess_time:.2f} 秒\")\n",
    "print(f\"处理后训练数据维度: {X_train_processed.shape}\")\n",
    "print(f\"处理后测试数据维度: {X_test_processed.shape}\")\n",
    "\n",
    "\n",
    "print(\"\\n开始训练 XGBoost 模型 (使用预处理后的数据进行早停)...\")\n",
    "start_train_time = time.time()\n",
    "\n",
    "# 7.3 Train the classifier directly on the PROCESSED data\n",
    "# Access the classifier instance from the pipeline to train it\n",
    "# Note: We are fitting the classifier step directly here.\n",
    "pipeline.named_steps['classifier'].fit(X_train_processed, y_train,\n",
    "                                       eval_set=[(X_test_processed, y_test)], # Use PROCESSED test data for eval\n",
    "                                       verbose=100) # Show progress every 100 rounds\n",
    "\n",
    "end_train_time = time.time()\n",
    "print(f\"模型训练完成，耗时: {end_train_time - start_train_time:.2f} 秒\")"
   ]
  },
  {
   "cell_type": "code",
   "execution_count": 33,
   "id": "a19414df",
   "metadata": {},
   "outputs": [
    {
     "name": "stdout",
     "output_type": "stream",
     "text": [
      "\n",
      "在测试集上进行预测 (使用完整管道)...\n"
     ]
    }
   ],
   "source": [
    "# --- 8. Predict on Test Set using the Full Pipeline ---\n",
    "print(\"\\n在测试集上进行预测 (使用完整管道)...\")\n",
    "# Now, calling pipeline.predict(X_test) works correctly because:\n",
    "# 1. It uses the already fitted 'preprocessor' step to transform X_test internally.\n",
    "# 2. It then uses the already fitted 'classifier' step (fitted in step 7.3) to predict.\n",
    "y_pred = pipeline.predict(X_test)"
   ]
  },
  {
   "cell_type": "code",
   "execution_count": 34,
   "id": "915b349d",
   "metadata": {},
   "outputs": [
    {
     "name": "stdout",
     "output_type": "stream",
     "text": [
      "\n",
      "模型评估:\n",
      "Classification Report:\n",
      "              precision    recall  f1-score   support\n",
      "\n",
      "           0       0.71      0.62      0.66      2726\n",
      "           1       0.82      0.87      0.84      5271\n",
      "\n",
      "    accuracy                           0.79      7997\n",
      "   macro avg       0.77      0.75      0.75      7997\n",
      "weighted avg       0.78      0.79      0.78      7997\n",
      "\n",
      "\n",
      "Confusion Matrix:\n",
      "[[1685 1041]\n",
      " [ 672 4599]]\n"
     ]
    },
    {
     "data": {
      "image/png": "[encoded data removed]",
      "text/plain": [
       "<Figure size 800x600 with 2 Axes>"
      ]
     },
     "metadata": {},
     "output_type": "display_data"
    },
    {
     "name": "stdout",
     "output_type": "stream",
     "text": [
      "\n",
      "脚本执行完毕。\n"
     ]
    }
   ],
   "source": [
    "# --- 9. Evaluate Model ---\n",
    "print(\"\\n模型评估:\")\n",
    "\n",
    "# Classification Report\n",
    "print(\"Classification Report:\")\n",
    "try:\n",
    "    target_names = [str(c) for c in sorted(y.unique())]\n",
    "    print(classification_report(y_test, y_pred, target_names=target_names))\n",
    "except Exception as e:\n",
    "    print(f\"生成 classification report 时出错: {e}\")\n",
    "    print(\"Classification Report (无 target_names):\")\n",
    "    print(classification_report(y_test, y_pred))\n",
    "\n",
    "\n",
    "# Confusion Matrix\n",
    "print(\"\\nConfusion Matrix:\")\n",
    "cm = confusion_matrix(y_test, y_pred)\n",
    "print(cm)\n",
    "\n",
    "# Visualize Confusion Matrix\n",
    "plt.figure(figsize=(8, 6))\n",
    "sns.heatmap(cm, annot=True, fmt='d', cmap='Blues', xticklabels=target_names, yticklabels=target_names)\n",
    "plt.xlabel('Predicted Label')\n",
    "plt.ylabel('True Label')\n",
    "plt.title('XGBoost Confusion Matrix')\n",
    "plt.show()\n",
    "\n",
    "print(\"\\n脚本执行完毕。\")"
   ]
  }
 ],
 "metadata": {
  "kernelspec": {
   "display_name": "IS6941",
   "language": "python",
   "name": "python3"
  },
  "language_info": {
   "codemirror_mode": {
    "name": "ipython",
    "version": 3
   },
   "file_extension": ".py",
   "mimetype": "text/x-python",
   "name": "python",
   "nbconvert_exporter": "python",
   "pygments_lexer": "ipython3",
   "version": "3.11.11"
  }
 },
 "nbformat": 4,
 "nbformat_minor": 5
}
