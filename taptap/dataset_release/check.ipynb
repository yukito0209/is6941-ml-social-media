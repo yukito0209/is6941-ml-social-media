{
 "cells": [
  {
   "cell_type": "code",
   "execution_count": 10,
   "id": "b447d49b",
   "metadata": {},
   "outputs": [],
   "source": [
    "import pandas as pd\n",
    "import numpy as np"
   ]
  },
  {
   "cell_type": "code",
   "execution_count": 11,
   "id": "a3c38d41",
   "metadata": {},
   "outputs": [],
   "source": [
    "df = pd.read_csv(r\"/Users/wangjingwen/Documents/GitHub/is6941-ml-social-media/taptap/data/integrated/lm_cleaned_taptap_reviews.csv\")"
   ]
  },
  {
   "cell_type": "code",
   "execution_count": 12,
   "id": "be71d0d4",
   "metadata": {},
   "outputs": [
    {
     "name": "stdout",
     "output_type": "stream",
     "text": [
      "<class 'pandas.core.frame.DataFrame'>\n",
      "RangeIndex: 39985 entries, 0 to 39984\n",
      "Data columns (total 9 columns):\n",
      " #   Column          Non-Null Count  Dtype \n",
      "---  ------          --------------  ----- \n",
      " 0   user_id         39985 non-null  int64 \n",
      " 1   username        39979 non-null  object\n",
      " 2   rating          39985 non-null  int64 \n",
      " 3   review_content  39985 non-null  object\n",
      " 4   likes           39985 non-null  int64 \n",
      " 5   publish_time    39985 non-null  object\n",
      " 6   device_model    39985 non-null  object\n",
      " 7   game_name       39985 non-null  object\n",
      " 8   sentiment       39985 non-null  int64 \n",
      "dtypes: int64(4), object(5)\n",
      "memory usage: 2.7+ MB\n",
      "None\n"
     ]
    }
   ],
   "source": [
    "print(df.info())"
   ]
  },
  {
   "cell_type": "code",
   "execution_count": 13,
   "id": "30b42b4d",
   "metadata": {},
   "outputs": [
    {
     "name": "stdout",
     "output_type": "stream",
     "text": [
      "            user_id        rating         likes     sentiment\n",
      "count  3.998500e+04  39985.000000  39985.000000  39985.000000\n",
      "mean   4.023951e+08      3.379992      4.456996      0.659072\n",
      "std    2.435563e+08      1.667205     28.214437      0.474027\n",
      "min    1.860000e+03      1.000000      0.000000      0.000000\n",
      "25%    1.047468e+08      1.000000      0.000000      0.000000\n",
      "50%    4.599568e+08      4.000000      1.000000      1.000000\n",
      "75%    6.066681e+08      5.000000      2.000000      1.000000\n",
      "max    7.116104e+08      5.000000   2855.000000      1.000000\n"
     ]
    }
   ],
   "source": [
    "print(df.describe())"
   ]
  },
  {
   "cell_type": "code",
   "execution_count": 14,
   "id": "5aa78a1e",
   "metadata": {},
   "outputs": [],
   "source": [
    "df['publish_time'] = pd.to_datetime(df['publish_time'])"
   ]
  },
  {
   "cell_type": "code",
   "execution_count": 15,
   "id": "911923fa",
   "metadata": {},
   "outputs": [],
   "source": [
    "df_cleaned = df.drop(columns=['user_id', 'username'], axis=1)"
   ]
  },
  {
   "cell_type": "code",
   "execution_count": 16,
   "id": "49e009bc",
   "metadata": {},
   "outputs": [
    {
     "name": "stdout",
     "output_type": "stream",
     "text": [
      "<class 'pandas.core.frame.DataFrame'>\n",
      "RangeIndex: 39985 entries, 0 to 39984\n",
      "Data columns (total 7 columns):\n",
      " #   Column          Non-Null Count  Dtype         \n",
      "---  ------          --------------  -----         \n",
      " 0   rating          39985 non-null  int64         \n",
      " 1   review_content  39985 non-null  object        \n",
      " 2   likes           39985 non-null  int64         \n",
      " 3   publish_time    39985 non-null  datetime64[ns]\n",
      " 4   device_model    39985 non-null  object        \n",
      " 5   game_name       39985 non-null  object        \n",
      " 6   sentiment       39985 non-null  int64         \n",
      "dtypes: datetime64[ns](1), int64(3), object(3)\n",
      "memory usage: 2.1+ MB\n",
      "None\n"
     ]
    }
   ],
   "source": [
    "print(df_cleaned.info())"
   ]
  },
  {
   "cell_type": "code",
   "execution_count": 17,
   "id": "0efa268d",
   "metadata": {},
   "outputs": [
    {
     "data": {
      "application/vnd.microsoft.datawrangler.viewer.v0+json": {
       "columns": [
        {
         "name": "index",
         "rawType": "int64",
         "type": "integer"
        },
        {
         "name": "rating",
         "rawType": "int64",
         "type": "integer"
        },
        {
         "name": "review_content",
         "rawType": "object",
         "type": "string"
        },
        {
         "name": "likes",
         "rawType": "int64",
         "type": "integer"
        },
        {
         "name": "publish_time",
         "rawType": "datetime64[ns]",
         "type": "datetime"
        },
        {
         "name": "device_model",
         "rawType": "object",
         "type": "string"
        },
        {
         "name": "game_name",
         "rawType": "object",
         "type": "string"
        },
        {
         "name": "sentiment",
         "rawType": "int64",
         "type": "integer"
        }
       ],
       "conversionMethod": "pd.DataFrame",
       "ref": "5f199867-e0f3-4938-9e0e-a8a7e2d1115c",
       "rows": [
        [
         "0",
         "5",
         "可以体验一下，剧情不错，但可能会有点迷",
         "0",
         "2025-04-05 20:13:00",
         "OPPO K7x中国版",
         "7_years_from_now",
         "1"
        ],
        [
         "1",
         "5",
         "剧情很好",
         "0",
         "2025-04-05 17:35:00",
         "Honor Play 40 5G",
         "7_years_from_now",
         "1"
        ],
        [
         "2",
         "5",
         "刺激，感受到了友情，亲情，自我，爱慕，传承，等待 ，与纯真",
         "1",
         "2025-04-04 22:59:00",
         "OPPO PGGM10",
         "7_years_from_now",
         "1"
        ],
        [
         "3",
         "5",
         "毋庸置疑的神作 第一次回溯时间的是葵啊",
         "2",
         "2025-04-03 09:48:00",
         "Redmi Note 10 Pro",
         "7_years_from_now",
         "1"
        ],
        [
         "4",
         "5",
         "没有别的可以说，剧情神作",
         "1",
         "2025-04-03 01:08:00",
         "Vivo V2148A",
         "7_years_from_now",
         "1"
        ],
        [
         "5",
         "5",
         "好好好",
         "1",
         "2025-04-01 22:53:00",
         "unknown",
         "7_years_from_now",
         "1"
        ],
        [
         "6",
         "5",
         "怎么付款怎么付款怎么付款！！！ 点支付除了黑屏一小下就没反应了！！！",
         "1",
         "2025-04-01 22:50:00",
         "unknown",
         "7_years_from_now",
         "1"
        ],
        [
         "7",
         "5",
         "不多说",
         "1",
         "2025-04-01 20:36:00",
         "iPad (5th generation)",
         "7_years_from_now",
         "1"
        ],
        [
         "8",
         "5",
         "呜呜呜太好玩了，春人你一定要和葵在一起啊啊啊啊啊啊啊啊啊啊啊啊😭😭😭😭😭😭😭😭😭😭😭😭😭",
         "1",
         "2025-04-01 19:51:00",
         "OPPO Reno 5",
         "7_years_from_now",
         "1"
        ],
        [
         "9",
         "5",
         "虽然还没有玩完，但我觉得这个游戏做的挺好的，一开始我以为就单纯帮主角春人找回丢失的记忆，但是到了后面整个事情变得扑朔迷离，一个个人物的关系连在一起，所有的东西都指向七年前，石打是咲的父亲一出来给我CPU干烧了，后面等我打通关了我也会在发一下我通关后的体验",
         "1",
         "2025-04-01 01:58:00",
         "Vivo IQOO Neo9",
         "7_years_from_now",
         "1"
        ]
       ],
       "shape": {
        "columns": 7,
        "rows": 10
       }
      },
      "text/html": [
       "<div>\n",
       "<style scoped>\n",
       "    .dataframe tbody tr th:only-of-type {\n",
       "        vertical-align: middle;\n",
       "    }\n",
       "\n",
       "    .dataframe tbody tr th {\n",
       "        vertical-align: top;\n",
       "    }\n",
       "\n",
       "    .dataframe thead th {\n",
       "        text-align: right;\n",
       "    }\n",
       "</style>\n",
       "<table border=\"1\" class=\"dataframe\">\n",
       "  <thead>\n",
       "    <tr style=\"text-align: right;\">\n",
       "      <th></th>\n",
       "      <th>rating</th>\n",
       "      <th>review_content</th>\n",
       "      <th>likes</th>\n",
       "      <th>publish_time</th>\n",
       "      <th>device_model</th>\n",
       "      <th>game_name</th>\n",
       "      <th>sentiment</th>\n",
       "    </tr>\n",
       "  </thead>\n",
       "  <tbody>\n",
       "    <tr>\n",
       "      <th>0</th>\n",
       "      <td>5</td>\n",
       "      <td>可以体验一下，剧情不错，但可能会有点迷</td>\n",
       "      <td>0</td>\n",
       "      <td>2025-04-05 20:13:00</td>\n",
       "      <td>OPPO K7x中国版</td>\n",
       "      <td>7_years_from_now</td>\n",
       "      <td>1</td>\n",
       "    </tr>\n",
       "    <tr>\n",
       "      <th>1</th>\n",
       "      <td>5</td>\n",
       "      <td>剧情很好</td>\n",
       "      <td>0</td>\n",
       "      <td>2025-04-05 17:35:00</td>\n",
       "      <td>Honor Play 40 5G</td>\n",
       "      <td>7_years_from_now</td>\n",
       "      <td>1</td>\n",
       "    </tr>\n",
       "    <tr>\n",
       "      <th>2</th>\n",
       "      <td>5</td>\n",
       "      <td>刺激，感受到了友情，亲情，自我，爱慕，传承，等待 ，与纯真</td>\n",
       "      <td>1</td>\n",
       "      <td>2025-04-04 22:59:00</td>\n",
       "      <td>OPPO PGGM10</td>\n",
       "      <td>7_years_from_now</td>\n",
       "      <td>1</td>\n",
       "    </tr>\n",
       "    <tr>\n",
       "      <th>3</th>\n",
       "      <td>5</td>\n",
       "      <td>毋庸置疑的神作 第一次回溯时间的是葵啊</td>\n",
       "      <td>2</td>\n",
       "      <td>2025-04-03 09:48:00</td>\n",
       "      <td>Redmi Note 10 Pro</td>\n",
       "      <td>7_years_from_now</td>\n",
       "      <td>1</td>\n",
       "    </tr>\n",
       "    <tr>\n",
       "      <th>4</th>\n",
       "      <td>5</td>\n",
       "      <td>没有别的可以说，剧情神作</td>\n",
       "      <td>1</td>\n",
       "      <td>2025-04-03 01:08:00</td>\n",
       "      <td>Vivo V2148A</td>\n",
       "      <td>7_years_from_now</td>\n",
       "      <td>1</td>\n",
       "    </tr>\n",
       "    <tr>\n",
       "      <th>5</th>\n",
       "      <td>5</td>\n",
       "      <td>好好好</td>\n",
       "      <td>1</td>\n",
       "      <td>2025-04-01 22:53:00</td>\n",
       "      <td>unknown</td>\n",
       "      <td>7_years_from_now</td>\n",
       "      <td>1</td>\n",
       "    </tr>\n",
       "    <tr>\n",
       "      <th>6</th>\n",
       "      <td>5</td>\n",
       "      <td>怎么付款怎么付款怎么付款！！！ 点支付除了黑屏一小下就没反应了！！！</td>\n",
       "      <td>1</td>\n",
       "      <td>2025-04-01 22:50:00</td>\n",
       "      <td>unknown</td>\n",
       "      <td>7_years_from_now</td>\n",
       "      <td>1</td>\n",
       "    </tr>\n",
       "    <tr>\n",
       "      <th>7</th>\n",
       "      <td>5</td>\n",
       "      <td>不多说</td>\n",
       "      <td>1</td>\n",
       "      <td>2025-04-01 20:36:00</td>\n",
       "      <td>iPad (5th generation)</td>\n",
       "      <td>7_years_from_now</td>\n",
       "      <td>1</td>\n",
       "    </tr>\n",
       "    <tr>\n",
       "      <th>8</th>\n",
       "      <td>5</td>\n",
       "      <td>呜呜呜太好玩了，春人你一定要和葵在一起啊啊啊啊啊啊啊啊啊啊啊啊😭😭😭😭😭😭😭😭😭😭😭😭😭</td>\n",
       "      <td>1</td>\n",
       "      <td>2025-04-01 19:51:00</td>\n",
       "      <td>OPPO Reno 5</td>\n",
       "      <td>7_years_from_now</td>\n",
       "      <td>1</td>\n",
       "    </tr>\n",
       "    <tr>\n",
       "      <th>9</th>\n",
       "      <td>5</td>\n",
       "      <td>虽然还没有玩完，但我觉得这个游戏做的挺好的，一开始我以为就单纯帮主角春人找回丢失的记忆，但是...</td>\n",
       "      <td>1</td>\n",
       "      <td>2025-04-01 01:58:00</td>\n",
       "      <td>Vivo IQOO Neo9</td>\n",
       "      <td>7_years_from_now</td>\n",
       "      <td>1</td>\n",
       "    </tr>\n",
       "  </tbody>\n",
       "</table>\n",
       "</div>"
      ],
      "text/plain": [
       "   rating                                     review_content  likes  \\\n",
       "0       5                                可以体验一下，剧情不错，但可能会有点迷      0   \n",
       "1       5                                               剧情很好      0   \n",
       "2       5                      刺激，感受到了友情，亲情，自我，爱慕，传承，等待 ，与纯真      1   \n",
       "3       5                                毋庸置疑的神作 第一次回溯时间的是葵啊      2   \n",
       "4       5                                       没有别的可以说，剧情神作      1   \n",
       "5       5                                                好好好      1   \n",
       "6       5                 怎么付款怎么付款怎么付款！！！ 点支付除了黑屏一小下就没反应了！！！      1   \n",
       "7       5                                                不多说      1   \n",
       "8       5       呜呜呜太好玩了，春人你一定要和葵在一起啊啊啊啊啊啊啊啊啊啊啊啊😭😭😭😭😭😭😭😭😭😭😭😭😭      1   \n",
       "9       5  虽然还没有玩完，但我觉得这个游戏做的挺好的，一开始我以为就单纯帮主角春人找回丢失的记忆，但是...      1   \n",
       "\n",
       "         publish_time           device_model         game_name  sentiment  \n",
       "0 2025-04-05 20:13:00            OPPO K7x中国版  7_years_from_now          1  \n",
       "1 2025-04-05 17:35:00       Honor Play 40 5G  7_years_from_now          1  \n",
       "2 2025-04-04 22:59:00            OPPO PGGM10  7_years_from_now          1  \n",
       "3 2025-04-03 09:48:00      Redmi Note 10 Pro  7_years_from_now          1  \n",
       "4 2025-04-03 01:08:00            Vivo V2148A  7_years_from_now          1  \n",
       "5 2025-04-01 22:53:00                unknown  7_years_from_now          1  \n",
       "6 2025-04-01 22:50:00                unknown  7_years_from_now          1  \n",
       "7 2025-04-01 20:36:00  iPad (5th generation)  7_years_from_now          1  \n",
       "8 2025-04-01 19:51:00            OPPO Reno 5  7_years_from_now          1  \n",
       "9 2025-04-01 01:58:00         Vivo IQOO Neo9  7_years_from_now          1  "
      ]
     },
     "execution_count": 17,
     "metadata": {},
     "output_type": "execute_result"
    }
   ],
   "source": [
    "df_cleaned.head(10)"
   ]
  },
  {
   "cell_type": "code",
   "execution_count": 18,
   "id": "158c7a9b",
   "metadata": {},
   "outputs": [],
   "source": [
    "df_cleaned.to_csv(r\"/Users/wangjingwen/Documents/GitHub/is6941-ml-social-media/taptap/dataset_release/taptap_game_reviews.csv\", index=False, encoding='utf-8-sig')"
   ]
  }
 ],
 "metadata": {
  "kernelspec": {
   "display_name": "IS6941",
   "language": "python",
   "name": "python3"
  },
  "language_info": {
   "codemirror_mode": {
    "name": "ipython",
    "version": 3
   },
   "file_extension": ".py",
   "mimetype": "text/x-python",
   "name": "python",
   "nbconvert_exporter": "python",
   "pygments_lexer": "ipython3",
   "version": "3.11.11"
  }
 },
 "nbformat": 4,
 "nbformat_minor": 5
}
