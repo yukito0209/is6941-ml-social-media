{
 "cells": [
  {
   "cell_type": "code",
   "execution_count": 1,
   "id": "e79d8ede",
   "metadata": {},
   "outputs": [],
   "source": [
    "import pandas as pd\n",
    "import numpy as np\n",
    "import re"
   ]
  },
  {
   "cell_type": "markdown",
   "id": "77d96776",
   "metadata": {},
   "source": [
    "### 1. Data Exploring for taptap_reviews.csv"
   ]
  },
  {
   "cell_type": "code",
   "execution_count": 2,
   "id": "07d51d02",
   "metadata": {},
   "outputs": [
    {
     "data": {
      "application/vnd.microsoft.datawrangler.viewer.v0+json": {
       "columns": [
        {
         "name": "index",
         "rawType": "int64",
         "type": "integer"
        },
        {
         "name": "用户ID",
         "rawType": "int64",
         "type": "integer"
        },
        {
         "name": "用户名",
         "rawType": "object",
         "type": "string"
        },
        {
         "name": "评分",
         "rawType": "int64",
         "type": "integer"
        },
        {
         "name": "评论内容",
         "rawType": "object",
         "type": "string"
        },
        {
         "name": "点赞数",
         "rawType": "float64",
         "type": "float"
        },
        {
         "name": "发布时间",
         "rawType": "object",
         "type": "string"
        },
        {
         "name": "设备型号",
         "rawType": "object",
         "type": "string"
        },
        {
         "name": "游戏名称",
         "rawType": "object",
         "type": "string"
        }
       ],
       "conversionMethod": "pd.DataFrame",
       "ref": "4a78bd71-e0ed-4e90-883e-7c1dec68438e",
       "rows": [
        [
         "0",
         "696432312",
         "。。。",
         "5",
         "可以体验一下，剧情不错，但可能会有点迷",
         null,
         "2025-04-05 20:13",
         "OPPO K7x中国版",
         "7_years_from_now"
        ],
        [
         "1",
         "679295528",
         "云淡风轻",
         "5",
         "剧情很好",
         null,
         "2025-04-05 17:35",
         "Honor Play 40 5G",
         "7_years_from_now"
        ],
        [
         "2",
         "700357357",
         "qqqqq美女",
         "5",
         "刺激，感受到了友情，亲情，自我，爱慕，传承，等待 ，与纯真",
         "1.0",
         "2025-04-04 22:59",
         "OPPO PGGM10",
         "7_years_from_now"
        ],
        [
         "3",
         "402380140",
         "User402380140",
         "5",
         "毋庸置疑的神作<br />第一次回溯时间的是葵啊",
         "2.0",
         "2025-04-03 09:48",
         "Redmi Note 10 Pro",
         "7_years_from_now"
        ],
        [
         "4",
         "434114561",
         "不忆往事",
         "5",
         "没有别的可以说，剧情神作",
         "1.0",
         "2025-04-03 01:08",
         "Vivo V2148A",
         "7_years_from_now"
        ],
        [
         "5",
         "651407597",
         "哈哈哈",
         "5",
         "好好好",
         "1.0",
         "2025-04-01 22:53",
         "未提供",
         "7_years_from_now"
        ],
        [
         "6",
         "611873270",
         "半束流光",
         "5",
         "怎么付款怎么付款怎么付款！！！<br />点支付除了黑屏一小下就没反应了！！！",
         "1.0",
         "2025-04-01 22:50",
         "未提供",
         "7_years_from_now"
        ],
        [
         "7",
         "439951893",
         "User439951893",
         "5",
         "不多说",
         "1.0",
         "2025-04-01 20:36",
         "iPad (5th generation)",
         "7_years_from_now"
        ],
        [
         "8",
         "700099883",
         "空入",
         "5",
         "呜呜呜太好玩了，春人你一定要和葵在一起啊啊啊啊啊啊啊啊啊啊啊啊😭😭😭😭😭😭😭😭😭😭😭😭😭",
         "1.0",
         "2025-04-01 19:51",
         "OPPO Reno 5",
         "7_years_from_now"
        ],
        [
         "9",
         "50432703",
         "江牢湿",
         "5",
         "虽然还没有玩完，但我觉得这个游戏做的挺好的，一开始我以为就单纯帮主角春人找回丢失的记忆，但是到了后面整个事情变得扑朔迷离，一个个人物的关系连在一起，所有的东西都指向七年前，石打是咲的父亲一出来给我CPU干烧了，后面等我打通关了我也会在发一下我通关后的体验",
         "1.0",
         "2025-04-01 01:58",
         "Vivo IQOO Neo9",
         "7_years_from_now"
        ]
       ],
       "shape": {
        "columns": 8,
        "rows": 10
       }
      },
      "text/html": [
       "<div>\n",
       "<style scoped>\n",
       "    .dataframe tbody tr th:only-of-type {\n",
       "        vertical-align: middle;\n",
       "    }\n",
       "\n",
       "    .dataframe tbody tr th {\n",
       "        vertical-align: top;\n",
       "    }\n",
       "\n",
       "    .dataframe thead th {\n",
       "        text-align: right;\n",
       "    }\n",
       "</style>\n",
       "<table border=\"1\" class=\"dataframe\">\n",
       "  <thead>\n",
       "    <tr style=\"text-align: right;\">\n",
       "      <th></th>\n",
       "      <th>用户ID</th>\n",
       "      <th>用户名</th>\n",
       "      <th>评分</th>\n",
       "      <th>评论内容</th>\n",
       "      <th>点赞数</th>\n",
       "      <th>发布时间</th>\n",
       "      <th>设备型号</th>\n",
       "      <th>游戏名称</th>\n",
       "    </tr>\n",
       "  </thead>\n",
       "  <tbody>\n",
       "    <tr>\n",
       "      <th>0</th>\n",
       "      <td>696432312</td>\n",
       "      <td>。。。</td>\n",
       "      <td>5</td>\n",
       "      <td>可以体验一下，剧情不错，但可能会有点迷</td>\n",
       "      <td>NaN</td>\n",
       "      <td>2025-04-05 20:13</td>\n",
       "      <td>OPPO K7x中国版</td>\n",
       "      <td>7_years_from_now</td>\n",
       "    </tr>\n",
       "    <tr>\n",
       "      <th>1</th>\n",
       "      <td>679295528</td>\n",
       "      <td>云淡风轻</td>\n",
       "      <td>5</td>\n",
       "      <td>剧情很好</td>\n",
       "      <td>NaN</td>\n",
       "      <td>2025-04-05 17:35</td>\n",
       "      <td>Honor Play 40 5G</td>\n",
       "      <td>7_years_from_now</td>\n",
       "    </tr>\n",
       "    <tr>\n",
       "      <th>2</th>\n",
       "      <td>700357357</td>\n",
       "      <td>qqqqq美女</td>\n",
       "      <td>5</td>\n",
       "      <td>刺激，感受到了友情，亲情，自我，爱慕，传承，等待 ，与纯真</td>\n",
       "      <td>1.0</td>\n",
       "      <td>2025-04-04 22:59</td>\n",
       "      <td>OPPO PGGM10</td>\n",
       "      <td>7_years_from_now</td>\n",
       "    </tr>\n",
       "    <tr>\n",
       "      <th>3</th>\n",
       "      <td>402380140</td>\n",
       "      <td>User402380140</td>\n",
       "      <td>5</td>\n",
       "      <td>毋庸置疑的神作&lt;br /&gt;第一次回溯时间的是葵啊</td>\n",
       "      <td>2.0</td>\n",
       "      <td>2025-04-03 09:48</td>\n",
       "      <td>Redmi Note 10 Pro</td>\n",
       "      <td>7_years_from_now</td>\n",
       "    </tr>\n",
       "    <tr>\n",
       "      <th>4</th>\n",
       "      <td>434114561</td>\n",
       "      <td>不忆往事</td>\n",
       "      <td>5</td>\n",
       "      <td>没有别的可以说，剧情神作</td>\n",
       "      <td>1.0</td>\n",
       "      <td>2025-04-03 01:08</td>\n",
       "      <td>Vivo V2148A</td>\n",
       "      <td>7_years_from_now</td>\n",
       "    </tr>\n",
       "    <tr>\n",
       "      <th>5</th>\n",
       "      <td>651407597</td>\n",
       "      <td>哈哈哈</td>\n",
       "      <td>5</td>\n",
       "      <td>好好好</td>\n",
       "      <td>1.0</td>\n",
       "      <td>2025-04-01 22:53</td>\n",
       "      <td>未提供</td>\n",
       "      <td>7_years_from_now</td>\n",
       "    </tr>\n",
       "    <tr>\n",
       "      <th>6</th>\n",
       "      <td>611873270</td>\n",
       "      <td>半束流光</td>\n",
       "      <td>5</td>\n",
       "      <td>怎么付款怎么付款怎么付款！！！&lt;br /&gt;点支付除了黑屏一小下就没反应了！！！</td>\n",
       "      <td>1.0</td>\n",
       "      <td>2025-04-01 22:50</td>\n",
       "      <td>未提供</td>\n",
       "      <td>7_years_from_now</td>\n",
       "    </tr>\n",
       "    <tr>\n",
       "      <th>7</th>\n",
       "      <td>439951893</td>\n",
       "      <td>User439951893</td>\n",
       "      <td>5</td>\n",
       "      <td>不多说</td>\n",
       "      <td>1.0</td>\n",
       "      <td>2025-04-01 20:36</td>\n",
       "      <td>iPad (5th generation)</td>\n",
       "      <td>7_years_from_now</td>\n",
       "    </tr>\n",
       "    <tr>\n",
       "      <th>8</th>\n",
       "      <td>700099883</td>\n",
       "      <td>空入</td>\n",
       "      <td>5</td>\n",
       "      <td>呜呜呜太好玩了，春人你一定要和葵在一起啊啊啊啊啊啊啊啊啊啊啊啊😭😭😭😭😭😭😭😭😭😭😭😭😭</td>\n",
       "      <td>1.0</td>\n",
       "      <td>2025-04-01 19:51</td>\n",
       "      <td>OPPO Reno 5</td>\n",
       "      <td>7_years_from_now</td>\n",
       "    </tr>\n",
       "    <tr>\n",
       "      <th>9</th>\n",
       "      <td>50432703</td>\n",
       "      <td>江牢湿</td>\n",
       "      <td>5</td>\n",
       "      <td>虽然还没有玩完，但我觉得这个游戏做的挺好的，一开始我以为就单纯帮主角春人找回丢失的记忆，但是...</td>\n",
       "      <td>1.0</td>\n",
       "      <td>2025-04-01 01:58</td>\n",
       "      <td>Vivo IQOO Neo9</td>\n",
       "      <td>7_years_from_now</td>\n",
       "    </tr>\n",
       "  </tbody>\n",
       "</table>\n",
       "</div>"
      ],
      "text/plain": [
       "        用户ID            用户名  评分  \\\n",
       "0  696432312            。。。   5   \n",
       "1  679295528           云淡风轻   5   \n",
       "2  700357357        qqqqq美女   5   \n",
       "3  402380140  User402380140   5   \n",
       "4  434114561           不忆往事   5   \n",
       "5  651407597            哈哈哈   5   \n",
       "6  611873270           半束流光   5   \n",
       "7  439951893  User439951893   5   \n",
       "8  700099883             空入   5   \n",
       "9   50432703            江牢湿   5   \n",
       "\n",
       "                                                评论内容  点赞数              发布时间  \\\n",
       "0                                可以体验一下，剧情不错，但可能会有点迷  NaN  2025-04-05 20:13   \n",
       "1                                               剧情很好  NaN  2025-04-05 17:35   \n",
       "2                      刺激，感受到了友情，亲情，自我，爱慕，传承，等待 ，与纯真  1.0  2025-04-04 22:59   \n",
       "3                           毋庸置疑的神作<br />第一次回溯时间的是葵啊  2.0  2025-04-03 09:48   \n",
       "4                                       没有别的可以说，剧情神作  1.0  2025-04-03 01:08   \n",
       "5                                                好好好  1.0  2025-04-01 22:53   \n",
       "6            怎么付款怎么付款怎么付款！！！<br />点支付除了黑屏一小下就没反应了！！！  1.0  2025-04-01 22:50   \n",
       "7                                                不多说  1.0  2025-04-01 20:36   \n",
       "8       呜呜呜太好玩了，春人你一定要和葵在一起啊啊啊啊啊啊啊啊啊啊啊啊😭😭😭😭😭😭😭😭😭😭😭😭😭  1.0  2025-04-01 19:51   \n",
       "9  虽然还没有玩完，但我觉得这个游戏做的挺好的，一开始我以为就单纯帮主角春人找回丢失的记忆，但是...  1.0  2025-04-01 01:58   \n",
       "\n",
       "                    设备型号              游戏名称  \n",
       "0            OPPO K7x中国版  7_years_from_now  \n",
       "1       Honor Play 40 5G  7_years_from_now  \n",
       "2            OPPO PGGM10  7_years_from_now  \n",
       "3      Redmi Note 10 Pro  7_years_from_now  \n",
       "4            Vivo V2148A  7_years_from_now  \n",
       "5                    未提供  7_years_from_now  \n",
       "6                    未提供  7_years_from_now  \n",
       "7  iPad (5th generation)  7_years_from_now  \n",
       "8            OPPO Reno 5  7_years_from_now  \n",
       "9         Vivo IQOO Neo9  7_years_from_now  "
      ]
     },
     "execution_count": 2,
     "metadata": {},
     "output_type": "execute_result"
    }
   ],
   "source": [
    "df = pd.read_csv(r\"D:\\GitHubRepos\\is6941-ml-social-media\\taptap\\data\\integrated\\taptap_reviews.csv\")\n",
    "df.head(10)"
   ]
  },
  {
   "cell_type": "code",
   "execution_count": 3,
   "id": "fc687d43",
   "metadata": {},
   "outputs": [
    {
     "name": "stdout",
     "output_type": "stream",
     "text": [
      "<class 'pandas.core.frame.DataFrame'>\n",
      "RangeIndex: 39994 entries, 0 to 39993\n",
      "Data columns (total 8 columns):\n",
      " #   Column  Non-Null Count  Dtype  \n",
      "---  ------  --------------  -----  \n",
      " 0   用户ID    39994 non-null  int64  \n",
      " 1   用户名     39992 non-null  object \n",
      " 2   评分      39994 non-null  int64  \n",
      " 3   评论内容    39994 non-null  object \n",
      " 4   点赞数     22546 non-null  float64\n",
      " 5   发布时间    39994 non-null  object \n",
      " 6   设备型号    39994 non-null  object \n",
      " 7   游戏名称    39994 non-null  object \n",
      "dtypes: float64(1), int64(2), object(5)\n",
      "memory usage: 2.4+ MB\n"
     ]
    }
   ],
   "source": [
    "df.info()"
   ]
  },
  {
   "cell_type": "code",
   "execution_count": 4,
   "id": "48c5e1c9",
   "metadata": {},
   "outputs": [
    {
     "data": {
      "application/vnd.microsoft.datawrangler.viewer.v0+json": {
       "columns": [
        {
         "name": "index",
         "rawType": "object",
         "type": "string"
        },
        {
         "name": "用户ID",
         "rawType": "float64",
         "type": "float"
        },
        {
         "name": "评分",
         "rawType": "float64",
         "type": "float"
        },
        {
         "name": "点赞数",
         "rawType": "float64",
         "type": "float"
        }
       ],
       "conversionMethod": "pd.DataFrame",
       "ref": "dcc7efde-d01e-4c64-99a9-feddd5110c90",
       "rows": [
        [
         "count",
         "39994.0",
         "39994.0",
         "22546.0"
        ],
        [
         "mean",
         "402418227.3631295",
         "3.380107016052408",
         "7.904417635057216"
        ],
        [
         "std",
         "243549094.33637476",
         "1.667131281790369",
         "37.209771417375244"
        ],
        [
         "min",
         "1860.0",
         "1.0",
         "1.0"
        ],
        [
         "25%",
         "104748448.5",
         "1.0",
         "1.0"
        ],
        [
         "50%",
         "459965172.5",
         "4.0",
         "2.0"
        ],
        [
         "75%",
         "606684034.25",
         "5.0",
         "5.0"
        ],
        [
         "max",
         "711610373.0",
         "5.0",
         "2855.0"
        ]
       ],
       "shape": {
        "columns": 3,
        "rows": 8
       }
      },
      "text/html": [
       "<div>\n",
       "<style scoped>\n",
       "    .dataframe tbody tr th:only-of-type {\n",
       "        vertical-align: middle;\n",
       "    }\n",
       "\n",
       "    .dataframe tbody tr th {\n",
       "        vertical-align: top;\n",
       "    }\n",
       "\n",
       "    .dataframe thead th {\n",
       "        text-align: right;\n",
       "    }\n",
       "</style>\n",
       "<table border=\"1\" class=\"dataframe\">\n",
       "  <thead>\n",
       "    <tr style=\"text-align: right;\">\n",
       "      <th></th>\n",
       "      <th>用户ID</th>\n",
       "      <th>评分</th>\n",
       "      <th>点赞数</th>\n",
       "    </tr>\n",
       "  </thead>\n",
       "  <tbody>\n",
       "    <tr>\n",
       "      <th>count</th>\n",
       "      <td>3.999400e+04</td>\n",
       "      <td>39994.000000</td>\n",
       "      <td>22546.000000</td>\n",
       "    </tr>\n",
       "    <tr>\n",
       "      <th>mean</th>\n",
       "      <td>4.024182e+08</td>\n",
       "      <td>3.380107</td>\n",
       "      <td>7.904418</td>\n",
       "    </tr>\n",
       "    <tr>\n",
       "      <th>std</th>\n",
       "      <td>2.435491e+08</td>\n",
       "      <td>1.667131</td>\n",
       "      <td>37.209771</td>\n",
       "    </tr>\n",
       "    <tr>\n",
       "      <th>min</th>\n",
       "      <td>1.860000e+03</td>\n",
       "      <td>1.000000</td>\n",
       "      <td>1.000000</td>\n",
       "    </tr>\n",
       "    <tr>\n",
       "      <th>25%</th>\n",
       "      <td>1.047484e+08</td>\n",
       "      <td>1.000000</td>\n",
       "      <td>1.000000</td>\n",
       "    </tr>\n",
       "    <tr>\n",
       "      <th>50%</th>\n",
       "      <td>4.599652e+08</td>\n",
       "      <td>4.000000</td>\n",
       "      <td>2.000000</td>\n",
       "    </tr>\n",
       "    <tr>\n",
       "      <th>75%</th>\n",
       "      <td>6.066840e+08</td>\n",
       "      <td>5.000000</td>\n",
       "      <td>5.000000</td>\n",
       "    </tr>\n",
       "    <tr>\n",
       "      <th>max</th>\n",
       "      <td>7.116104e+08</td>\n",
       "      <td>5.000000</td>\n",
       "      <td>2855.000000</td>\n",
       "    </tr>\n",
       "  </tbody>\n",
       "</table>\n",
       "</div>"
      ],
      "text/plain": [
       "               用户ID            评分           点赞数\n",
       "count  3.999400e+04  39994.000000  22546.000000\n",
       "mean   4.024182e+08      3.380107      7.904418\n",
       "std    2.435491e+08      1.667131     37.209771\n",
       "min    1.860000e+03      1.000000      1.000000\n",
       "25%    1.047484e+08      1.000000      1.000000\n",
       "50%    4.599652e+08      4.000000      2.000000\n",
       "75%    6.066840e+08      5.000000      5.000000\n",
       "max    7.116104e+08      5.000000   2855.000000"
      ]
     },
     "execution_count": 4,
     "metadata": {},
     "output_type": "execute_result"
    }
   ],
   "source": [
    "df.describe()"
   ]
  },
  {
   "cell_type": "code",
   "execution_count": 5,
   "id": "1ad0e177",
   "metadata": {},
   "outputs": [],
   "source": [
    "# 用户名缺失填充为\"未知用户\"\n",
    "df['用户名'] = df['用户名'].fillna('未知用户')\n",
    "# 点赞数缺失填充为0\n",
    "df['点赞数'] = df['点赞数'].fillna(0)"
   ]
  },
  {
   "cell_type": "code",
   "execution_count": 6,
   "id": "dedb99c9",
   "metadata": {},
   "outputs": [],
   "source": [
    "df['点赞数'] = df['点赞数'].astype(np.int64)  # 点赞数转整型"
   ]
  },
  {
   "cell_type": "code",
   "execution_count": 7,
   "id": "13c50b66",
   "metadata": {},
   "outputs": [],
   "source": [
    "# 确保评分在1-5范围内\n",
    "df['评分'] = df['评分'].clip(1, 5)"
   ]
  },
  {
   "cell_type": "code",
   "execution_count": 8,
   "id": "e6f4af68",
   "metadata": {},
   "outputs": [],
   "source": [
    "# 去除评论中的HTML标签\n",
    "df['评论内容'] = df['评论内容'].apply(lambda x: re.sub(r'<br\\s*/?>', ' ', x))\n",
    "# 用户名去前后空格\n",
    "df['用户名'] = df['用户名'].str.strip()"
   ]
  },
  {
   "cell_type": "code",
   "execution_count": 9,
   "id": "0fa063e4",
   "metadata": {},
   "outputs": [],
   "source": [
    "# 5. 设备型号标准化\n",
    "df['设备型号'] = df['设备型号'].replace('未提供', pd.NA)"
   ]
  },
  {
   "cell_type": "code",
   "execution_count": 10,
   "id": "8301ffd2",
   "metadata": {},
   "outputs": [],
   "source": [
    "# 基于用户ID和发布时间去重\n",
    "df = df.drop_duplicates(subset=['用户ID', '发布时间'])"
   ]
  },
  {
   "cell_type": "code",
   "execution_count": 11,
   "id": "ada72ed0",
   "metadata": {},
   "outputs": [
    {
     "name": "stdout",
     "output_type": "stream",
     "text": [
      "评分  情感倾向\n",
      "5   1       16845\n",
      "1   0       10191\n",
      "4   1        5327\n",
      "3   1        4181\n",
      "2   0        3441\n",
      "Name: count, dtype: int64\n"
     ]
    }
   ],
   "source": [
    "df['情感倾向'] = np.where(df['评分'] >= 3, 1, 0)\n",
    "print(df[['评分', '情感倾向']].value_counts())"
   ]
  },
  {
   "cell_type": "code",
   "execution_count": 12,
   "id": "9d93a3d4",
   "metadata": {},
   "outputs": [],
   "source": [
    "# 创建列名映射字典\n",
    "column_mapping = {\n",
    "    '用户ID': 'user_id',\n",
    "    '用户名': 'username',\n",
    "    '评分': 'rating',\n",
    "    '评论内容': 'review_content',\n",
    "    '点赞数': 'likes',\n",
    "    '发布时间': 'publish_time',\n",
    "    '设备型号': 'device_model',\n",
    "    '游戏名称': 'game_name',\n",
    "    '情感倾向': 'sentiment'\n",
    "}\n",
    "\n",
    "# 执行列名替换\n",
    "df = df.rename(columns=column_mapping)"
   ]
  },
  {
   "cell_type": "code",
   "execution_count": 13,
   "id": "1812da6e",
   "metadata": {},
   "outputs": [],
   "source": [
    "# 用 \"unknown\" 填充缺失值，明确标识未知设备\n",
    "df['device_model'] = df['device_model'].fillna('unknown')"
   ]
  },
  {
   "cell_type": "code",
   "execution_count": 14,
   "id": "8aad4298",
   "metadata": {},
   "outputs": [],
   "source": [
    "# 重置索引\n",
    "df = df.reset_index(drop=True)"
   ]
  },
  {
   "cell_type": "code",
   "execution_count": 15,
   "id": "18231ab3",
   "metadata": {},
   "outputs": [
    {
     "data": {
      "application/vnd.microsoft.datawrangler.viewer.v0+json": {
       "columns": [
        {
         "name": "index",
         "rawType": "int64",
         "type": "integer"
        },
        {
         "name": "user_id",
         "rawType": "int64",
         "type": "integer"
        },
        {
         "name": "username",
         "rawType": "object",
         "type": "string"
        },
        {
         "name": "rating",
         "rawType": "int64",
         "type": "integer"
        },
        {
         "name": "review_content",
         "rawType": "object",
         "type": "string"
        },
        {
         "name": "likes",
         "rawType": "int64",
         "type": "integer"
        },
        {
         "name": "publish_time",
         "rawType": "object",
         "type": "string"
        },
        {
         "name": "device_model",
         "rawType": "object",
         "type": "string"
        },
        {
         "name": "game_name",
         "rawType": "object",
         "type": "string"
        },
        {
         "name": "sentiment",
         "rawType": "int64",
         "type": "integer"
        }
       ],
       "conversionMethod": "pd.DataFrame",
       "ref": "af16a44c-7f0a-443f-abd4-79782615e5da",
       "rows": [
        [
         "0",
         "696432312",
         "。。。",
         "5",
         "可以体验一下，剧情不错，但可能会有点迷",
         "0",
         "2025-04-05 20:13",
         "OPPO K7x中国版",
         "7_years_from_now",
         "1"
        ],
        [
         "1",
         "679295528",
         "云淡风轻",
         "5",
         "剧情很好",
         "0",
         "2025-04-05 17:35",
         "Honor Play 40 5G",
         "7_years_from_now",
         "1"
        ],
        [
         "2",
         "700357357",
         "qqqqq美女",
         "5",
         "刺激，感受到了友情，亲情，自我，爱慕，传承，等待 ，与纯真",
         "1",
         "2025-04-04 22:59",
         "OPPO PGGM10",
         "7_years_from_now",
         "1"
        ],
        [
         "3",
         "402380140",
         "User402380140",
         "5",
         "毋庸置疑的神作 第一次回溯时间的是葵啊",
         "2",
         "2025-04-03 09:48",
         "Redmi Note 10 Pro",
         "7_years_from_now",
         "1"
        ],
        [
         "4",
         "434114561",
         "不忆往事",
         "5",
         "没有别的可以说，剧情神作",
         "1",
         "2025-04-03 01:08",
         "Vivo V2148A",
         "7_years_from_now",
         "1"
        ]
       ],
       "shape": {
        "columns": 9,
        "rows": 5
       }
      },
      "text/html": [
       "<div>\n",
       "<style scoped>\n",
       "    .dataframe tbody tr th:only-of-type {\n",
       "        vertical-align: middle;\n",
       "    }\n",
       "\n",
       "    .dataframe tbody tr th {\n",
       "        vertical-align: top;\n",
       "    }\n",
       "\n",
       "    .dataframe thead th {\n",
       "        text-align: right;\n",
       "    }\n",
       "</style>\n",
       "<table border=\"1\" class=\"dataframe\">\n",
       "  <thead>\n",
       "    <tr style=\"text-align: right;\">\n",
       "      <th></th>\n",
       "      <th>user_id</th>\n",
       "      <th>username</th>\n",
       "      <th>rating</th>\n",
       "      <th>review_content</th>\n",
       "      <th>likes</th>\n",
       "      <th>publish_time</th>\n",
       "      <th>device_model</th>\n",
       "      <th>game_name</th>\n",
       "      <th>sentiment</th>\n",
       "    </tr>\n",
       "  </thead>\n",
       "  <tbody>\n",
       "    <tr>\n",
       "      <th>0</th>\n",
       "      <td>696432312</td>\n",
       "      <td>。。。</td>\n",
       "      <td>5</td>\n",
       "      <td>可以体验一下，剧情不错，但可能会有点迷</td>\n",
       "      <td>0</td>\n",
       "      <td>2025-04-05 20:13</td>\n",
       "      <td>OPPO K7x中国版</td>\n",
       "      <td>7_years_from_now</td>\n",
       "      <td>1</td>\n",
       "    </tr>\n",
       "    <tr>\n",
       "      <th>1</th>\n",
       "      <td>679295528</td>\n",
       "      <td>云淡风轻</td>\n",
       "      <td>5</td>\n",
       "      <td>剧情很好</td>\n",
       "      <td>0</td>\n",
       "      <td>2025-04-05 17:35</td>\n",
       "      <td>Honor Play 40 5G</td>\n",
       "      <td>7_years_from_now</td>\n",
       "      <td>1</td>\n",
       "    </tr>\n",
       "    <tr>\n",
       "      <th>2</th>\n",
       "      <td>700357357</td>\n",
       "      <td>qqqqq美女</td>\n",
       "      <td>5</td>\n",
       "      <td>刺激，感受到了友情，亲情，自我，爱慕，传承，等待 ，与纯真</td>\n",
       "      <td>1</td>\n",
       "      <td>2025-04-04 22:59</td>\n",
       "      <td>OPPO PGGM10</td>\n",
       "      <td>7_years_from_now</td>\n",
       "      <td>1</td>\n",
       "    </tr>\n",
       "    <tr>\n",
       "      <th>3</th>\n",
       "      <td>402380140</td>\n",
       "      <td>User402380140</td>\n",
       "      <td>5</td>\n",
       "      <td>毋庸置疑的神作 第一次回溯时间的是葵啊</td>\n",
       "      <td>2</td>\n",
       "      <td>2025-04-03 09:48</td>\n",
       "      <td>Redmi Note 10 Pro</td>\n",
       "      <td>7_years_from_now</td>\n",
       "      <td>1</td>\n",
       "    </tr>\n",
       "    <tr>\n",
       "      <th>4</th>\n",
       "      <td>434114561</td>\n",
       "      <td>不忆往事</td>\n",
       "      <td>5</td>\n",
       "      <td>没有别的可以说，剧情神作</td>\n",
       "      <td>1</td>\n",
       "      <td>2025-04-03 01:08</td>\n",
       "      <td>Vivo V2148A</td>\n",
       "      <td>7_years_from_now</td>\n",
       "      <td>1</td>\n",
       "    </tr>\n",
       "  </tbody>\n",
       "</table>\n",
       "</div>"
      ],
      "text/plain": [
       "     user_id       username  rating                 review_content  likes  \\\n",
       "0  696432312            。。。       5            可以体验一下，剧情不错，但可能会有点迷      0   \n",
       "1  679295528           云淡风轻       5                           剧情很好      0   \n",
       "2  700357357        qqqqq美女       5  刺激，感受到了友情，亲情，自我，爱慕，传承，等待 ，与纯真      1   \n",
       "3  402380140  User402380140       5            毋庸置疑的神作 第一次回溯时间的是葵啊      2   \n",
       "4  434114561           不忆往事       5                   没有别的可以说，剧情神作      1   \n",
       "\n",
       "       publish_time       device_model         game_name  sentiment  \n",
       "0  2025-04-05 20:13        OPPO K7x中国版  7_years_from_now          1  \n",
       "1  2025-04-05 17:35   Honor Play 40 5G  7_years_from_now          1  \n",
       "2  2025-04-04 22:59        OPPO PGGM10  7_years_from_now          1  \n",
       "3  2025-04-03 09:48  Redmi Note 10 Pro  7_years_from_now          1  \n",
       "4  2025-04-03 01:08        Vivo V2148A  7_years_from_now          1  "
      ]
     },
     "execution_count": 15,
     "metadata": {},
     "output_type": "execute_result"
    }
   ],
   "source": [
    "df.head()"
   ]
  },
  {
   "cell_type": "code",
   "execution_count": 16,
   "id": "4e129fe6",
   "metadata": {},
   "outputs": [
    {
     "name": "stdout",
     "output_type": "stream",
     "text": [
      "<class 'pandas.core.frame.DataFrame'>\n",
      "RangeIndex: 39985 entries, 0 to 39984\n",
      "Data columns (total 9 columns):\n",
      " #   Column          Non-Null Count  Dtype \n",
      "---  ------          --------------  ----- \n",
      " 0   user_id         39985 non-null  int64 \n",
      " 1   username        39985 non-null  object\n",
      " 2   rating          39985 non-null  int64 \n",
      " 3   review_content  39985 non-null  object\n",
      " 4   likes           39985 non-null  int64 \n",
      " 5   publish_time    39985 non-null  object\n",
      " 6   device_model    39985 non-null  object\n",
      " 7   game_name       39985 non-null  object\n",
      " 8   sentiment       39985 non-null  int64 \n",
      "dtypes: int64(4), object(5)\n",
      "memory usage: 2.7+ MB\n"
     ]
    }
   ],
   "source": [
    "df.info()"
   ]
  },
  {
   "cell_type": "code",
   "execution_count": 17,
   "id": "d85885a0",
   "metadata": {},
   "outputs": [
    {
     "data": {
      "application/vnd.microsoft.datawrangler.viewer.v0+json": {
       "columns": [
        {
         "name": "index",
         "rawType": "object",
         "type": "string"
        },
        {
         "name": "user_id",
         "rawType": "float64",
         "type": "float"
        },
        {
         "name": "rating",
         "rawType": "float64",
         "type": "float"
        },
        {
         "name": "likes",
         "rawType": "float64",
         "type": "float"
        },
        {
         "name": "sentiment",
         "rawType": "float64",
         "type": "float"
        }
       ],
       "conversionMethod": "pd.DataFrame",
       "ref": "b6d7e6de-0a0f-4dec-9e0e-c6efe293499c",
       "rows": [
        [
         "count",
         "39985.0",
         "39985.0",
         "39985.0",
         "39985.0"
        ],
        [
         "mean",
         "402395121.9511317",
         "3.379992497186445",
         "4.4569963736401155",
         "0.6590721520570214"
        ],
        [
         "std",
         "243556332.52205497",
         "1.667204750058143",
         "28.21443654236927",
         "0.4740270773796869"
        ],
        [
         "min",
         "1860.0",
         "1.0",
         "0.0",
         "0.0"
        ],
        [
         "25%",
         "104746831.0",
         "1.0",
         "0.0",
         "0.0"
        ],
        [
         "50%",
         "459956798.0",
         "4.0",
         "1.0",
         "1.0"
        ],
        [
         "75%",
         "606668123.0",
         "5.0",
         "2.0",
         "1.0"
        ],
        [
         "max",
         "711610373.0",
         "5.0",
         "2855.0",
         "1.0"
        ]
       ],
       "shape": {
        "columns": 4,
        "rows": 8
       }
      },
      "text/html": [
       "<div>\n",
       "<style scoped>\n",
       "    .dataframe tbody tr th:only-of-type {\n",
       "        vertical-align: middle;\n",
       "    }\n",
       "\n",
       "    .dataframe tbody tr th {\n",
       "        vertical-align: top;\n",
       "    }\n",
       "\n",
       "    .dataframe thead th {\n",
       "        text-align: right;\n",
       "    }\n",
       "</style>\n",
       "<table border=\"1\" class=\"dataframe\">\n",
       "  <thead>\n",
       "    <tr style=\"text-align: right;\">\n",
       "      <th></th>\n",
       "      <th>user_id</th>\n",
       "      <th>rating</th>\n",
       "      <th>likes</th>\n",
       "      <th>sentiment</th>\n",
       "    </tr>\n",
       "  </thead>\n",
       "  <tbody>\n",
       "    <tr>\n",
       "      <th>count</th>\n",
       "      <td>3.998500e+04</td>\n",
       "      <td>39985.000000</td>\n",
       "      <td>39985.000000</td>\n",
       "      <td>39985.000000</td>\n",
       "    </tr>\n",
       "    <tr>\n",
       "      <th>mean</th>\n",
       "      <td>4.023951e+08</td>\n",
       "      <td>3.379992</td>\n",
       "      <td>4.456996</td>\n",
       "      <td>0.659072</td>\n",
       "    </tr>\n",
       "    <tr>\n",
       "      <th>std</th>\n",
       "      <td>2.435563e+08</td>\n",
       "      <td>1.667205</td>\n",
       "      <td>28.214437</td>\n",
       "      <td>0.474027</td>\n",
       "    </tr>\n",
       "    <tr>\n",
       "      <th>min</th>\n",
       "      <td>1.860000e+03</td>\n",
       "      <td>1.000000</td>\n",
       "      <td>0.000000</td>\n",
       "      <td>0.000000</td>\n",
       "    </tr>\n",
       "    <tr>\n",
       "      <th>25%</th>\n",
       "      <td>1.047468e+08</td>\n",
       "      <td>1.000000</td>\n",
       "      <td>0.000000</td>\n",
       "      <td>0.000000</td>\n",
       "    </tr>\n",
       "    <tr>\n",
       "      <th>50%</th>\n",
       "      <td>4.599568e+08</td>\n",
       "      <td>4.000000</td>\n",
       "      <td>1.000000</td>\n",
       "      <td>1.000000</td>\n",
       "    </tr>\n",
       "    <tr>\n",
       "      <th>75%</th>\n",
       "      <td>6.066681e+08</td>\n",
       "      <td>5.000000</td>\n",
       "      <td>2.000000</td>\n",
       "      <td>1.000000</td>\n",
       "    </tr>\n",
       "    <tr>\n",
       "      <th>max</th>\n",
       "      <td>7.116104e+08</td>\n",
       "      <td>5.000000</td>\n",
       "      <td>2855.000000</td>\n",
       "      <td>1.000000</td>\n",
       "    </tr>\n",
       "  </tbody>\n",
       "</table>\n",
       "</div>"
      ],
      "text/plain": [
       "            user_id        rating         likes     sentiment\n",
       "count  3.998500e+04  39985.000000  39985.000000  39985.000000\n",
       "mean   4.023951e+08      3.379992      4.456996      0.659072\n",
       "std    2.435563e+08      1.667205     28.214437      0.474027\n",
       "min    1.860000e+03      1.000000      0.000000      0.000000\n",
       "25%    1.047468e+08      1.000000      0.000000      0.000000\n",
       "50%    4.599568e+08      4.000000      1.000000      1.000000\n",
       "75%    6.066681e+08      5.000000      2.000000      1.000000\n",
       "max    7.116104e+08      5.000000   2855.000000      1.000000"
      ]
     },
     "execution_count": 17,
     "metadata": {},
     "output_type": "execute_result"
    }
   ],
   "source": [
    "df.describe()"
   ]
  },
  {
   "cell_type": "code",
   "execution_count": 18,
   "id": "8c3ead2d",
   "metadata": {},
   "outputs": [],
   "source": [
    "df.to_csv(r\"D:\\GitHubRepos\\is6941-ml-social-media\\taptap\\data\\integrated\\cleaned_taptap_reviews.csv\", encoding='utf-8-sig', index=False)"
   ]
  }
 ],
 "metadata": {
  "kernelspec": {
   "display_name": "IS6941",
   "language": "python",
   "name": "python3"
  },
  "language_info": {
   "codemirror_mode": {
    "name": "ipython",
    "version": 3
   },
   "file_extension": ".py",
   "mimetype": "text/x-python",
   "name": "python",
   "nbconvert_exporter": "python",
   "pygments_lexer": "ipython3",
   "version": "3.13.2"
  }
 },
 "nbformat": 4,
 "nbformat_minor": 5
}
