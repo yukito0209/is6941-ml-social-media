{
 "cells": [
  {
   "cell_type": "code",
   "execution_count": 1,
   "id": "457178cb",
   "metadata": {},
   "outputs": [],
   "source": [
    "import pandas as pd\n",
    "from snownlp import SnowNLP\n",
    "from sklearn.model_selection import train_test_split\n",
    "from sklearn.metrics import classification_report, confusion_matrix\n",
    "import seaborn as sns\n",
    "import matplotlib.pyplot as plt\n",
    "from tqdm import tqdm # 用于显示进度条"
   ]
  },
  {
   "cell_type": "code",
   "execution_count": 2,
   "id": "fd3a3784",
   "metadata": {},
   "outputs": [],
   "source": [
    "# --- 配置参数 ---\n",
    "# 使用原始字符串或双反斜杠来处理 Windows 路径\n",
    "FILE_PATH = r\"D:\\GitHubRepos\\is6941-ml-social-media\\taptap\\data\\integrated\\lm_cleaned_taptap_reviews.csv\"\n",
    "TEXT_COLUMN = 'review_content' # 包含评论文本的列名\n",
    "LABEL_COLUMN = 'sentiment'    # 包含真实情感标签 (0 或 1) 的列名\n",
    "TEST_SIZE = 0.2               # 测试集所占比例 (例如 20%)\n",
    "RANDOM_STATE = 42             # 随机种子，确保每次划分结果一致\n",
    "SENTIMENT_THRESHOLD = 0.5     # SnowNLP 得分阈值，大于等于此值为正面 (1)，否则为负面 (0)"
   ]
  },
  {
   "cell_type": "code",
   "execution_count": 3,
   "id": "82ffadf7",
   "metadata": {},
   "outputs": [
    {
     "name": "stdout",
     "output_type": "stream",
     "text": [
      "正在加载数据: D:\\GitHubRepos\\is6941-ml-social-media\\taptap\\data\\integrated\\lm_cleaned_taptap_reviews.csv\n",
      "数据加载完成. 数据形状: (39985, 9)\n"
     ]
    }
   ],
   "source": [
    "# --- 1. 加载数据 ---\n",
    "print(f\"正在加载数据: {FILE_PATH}\")\n",
    "try:\n",
    "    df = pd.read_csv(FILE_PATH)\n",
    "    print(f\"数据加载完成. 数据形状: {df.shape}\")\n",
    "    # 显示前几行和列信息，检查是否加载正确\n",
    "    # print(df.head())\n",
    "    # print(df.info())\n",
    "except FileNotFoundError:\n",
    "    print(f\"错误: 文件未找到 {FILE_PATH}\")\n",
    "    exit()\n",
    "except Exception as e:\n",
    "    print(f\"加载 CSV 时出错: {e}\")\n",
    "    exit()"
   ]
  },
  {
   "cell_type": "code",
   "execution_count": 5,
   "id": "c12a15d7",
   "metadata": {},
   "outputs": [
    {
     "name": "stdout",
     "output_type": "stream",
     "text": [
      "准备数据 (选择列，处理缺失值)...\n",
      "因缺失值删除了 0 行.\n",
      "数据准备完成. 处理后数据形状: (39985, 2)\n",
      "标签分布:\n",
      "sentiment\n",
      "1    0.659072\n",
      "0    0.340928\n",
      "Name: proportion, dtype: float64\n"
     ]
    }
   ],
   "source": [
    "# --- 2. 数据准备 ---\n",
    "print(\"准备数据 (选择列，处理缺失值)...\")\n",
    "# 选择需要的列，并创建副本以避免 SettingWithCopyWarning\n",
    "df_processed = df[[TEXT_COLUMN, LABEL_COLUMN]].copy()\n",
    "\n",
    "# 删除包含缺失评论或缺失标签的行\n",
    "initial_rows = len(df_processed)\n",
    "df_processed.dropna(subset=[TEXT_COLUMN, LABEL_COLUMN], inplace=True)\n",
    "rows_after_na = len(df_processed)\n",
    "print(f\"因缺失值删除了 {initial_rows - rows_after_na} 行.\")\n",
    "\n",
    "# 确保标签列是整数类型\n",
    "try:\n",
    "    df_processed[LABEL_COLUMN] = df_processed[LABEL_COLUMN].astype(int)\n",
    "except ValueError as e:\n",
    "    print(f\"错误: 无法将 '{LABEL_COLUMN}' 列转换为整数. 请检查数据. 错误: {e}\")\n",
    "    # 查找无法转换的值 (可选)\n",
    "    # non_numeric = df_processed[pd.to_numeric(df_processed[LABEL_COLUMN], errors='coerce').isna()]\n",
    "    # print(\"无法转换为整数的值示例:\\n\", non_numeric[LABEL_COLUMN].unique())\n",
    "    exit()\n",
    "\n",
    "# 确保评论列是字符串类型\n",
    "df_processed[TEXT_COLUMN] = df_processed[TEXT_COLUMN].astype(str)\n",
    "\n",
    "# 检查清理后是否还有数据\n",
    "if df_processed.empty:\n",
    "    print(\"错误: 清理后没有剩余数据。请检查输入文件和列名。\")\n",
    "    exit()\n",
    "\n",
    "print(f\"数据准备完成. 处理后数据形状: {df_processed.shape}\")\n",
    "print(f\"标签分布:\\n{df_processed[LABEL_COLUMN].value_counts(normalize=True)}\")"
   ]
  },
  {
   "cell_type": "code",
   "execution_count": 6,
   "id": "1adb2883",
   "metadata": {},
   "outputs": [
    {
     "name": "stdout",
     "output_type": "stream",
     "text": [
      "划分数据集 (测试集比例: 0.2)...\n",
      "训练集大小: 31988\n",
      "测试集大小: 7997\n"
     ]
    }
   ],
   "source": [
    "# --- 3. 划分数据集 ---\n",
    "print(f\"划分数据集 (测试集比例: {TEST_SIZE})...\")\n",
    "X = df_processed[TEXT_COLUMN]\n",
    "y = df_processed[LABEL_COLUMN]\n",
    "\n",
    "# 使用 stratify=y 确保训练集和测试集中的标签比例与原始数据大致相同\n",
    "try:\n",
    "    X_train, X_test, y_train, y_test = train_test_split(\n",
    "        X, y,\n",
    "        test_size=TEST_SIZE,\n",
    "        random_state=RANDOM_STATE,\n",
    "        stratify=y\n",
    "    )\n",
    "    print(f\"训练集大小: {len(X_train)}\")\n",
    "    print(f\"测试集大小: {len(X_test)}\")\n",
    "except ValueError as e:\n",
    "    # 如果某个类别的样本太少，stratify 可能会失败\n",
    "    print(f\"划分数据集时出现错误 (可能是由于类别样本过少): {e}. 尝试不使用 stratify...\")\n",
    "    X_train, X_test, y_train, y_test = train_test_split(\n",
    "        X, y,\n",
    "        test_size=TEST_SIZE,\n",
    "        random_state=RANDOM_STATE\n",
    "    )\n",
    "    print(f\"训练集大小: {len(X_train)}\")\n",
    "    print(f\"测试集大小: {len(X_test)}\")"
   ]
  },
  {
   "cell_type": "code",
   "execution_count": 7,
   "id": "8071b469",
   "metadata": {},
   "outputs": [
    {
     "name": "stdout",
     "output_type": "stream",
     "text": [
      "\n",
      "使用 SnowNLP 对测试集进行情感预测...\n"
     ]
    },
    {
     "name": "stderr",
     "output_type": "stream",
     "text": [
      "分析评论: 100%|██████████| 7997/7997 [01:07<00:00, 118.55it/s]\n"
     ]
    }
   ],
   "source": [
    "# --- 4. 使用 SnowNLP 进行情感预测 ---\n",
    "print(\"\\n使用 SnowNLP 对测试集进行情感预测...\")\n",
    "predictions = []\n",
    "# 使用 tqdm 显示进度条\n",
    "for review in tqdm(X_test, desc=\"分析评论\"):\n",
    "    try:\n",
    "        # 确保输入是有效字符串\n",
    "        if review and isinstance(review, str):\n",
    "            s = SnowNLP(review)\n",
    "            score = s.sentiments\n",
    "        else:\n",
    "            score = SENTIMENT_THRESHOLD # 对空或非字符串评论赋予中性分数\n",
    "    except Exception as e:\n",
    "        # print(f\"警告: 处理评论时出错: '{str(review)[:50]}...' - {e}. 赋予中性分数.\")\n",
    "        score = SENTIMENT_THRESHOLD # 出错时赋予中性分数\n",
    "    # 根据阈值转换为 0 或 1\n",
    "    predictions.append(1 if score >= SENTIMENT_THRESHOLD else 0)"
   ]
  },
  {
   "cell_type": "code",
   "execution_count": 9,
   "id": "4af2f60c",
   "metadata": {},
   "outputs": [
    {
     "name": "stdout",
     "output_type": "stream",
     "text": [
      "\n",
      "--- 评估结果 ---\n",
      "分类报告 (Classification Report):\n",
      "              precision    recall  f1-score   support\n",
      "\n",
      "      负面 (0)       0.52      0.63      0.57      2726\n",
      "      正面 (1)       0.78      0.69      0.74      5271\n",
      "\n",
      "    accuracy                           0.67      7997\n",
      "   macro avg       0.65      0.66      0.65      7997\n",
      "weighted avg       0.69      0.67      0.68      7997\n",
      "\n",
      "\n",
      "混淆矩阵 (Confusion Matrix):\n",
      "[[1726 1000]\n",
      " [1624 3647]]\n",
      "\n",
      "绘制混淆矩阵...\n"
     ]
    },
    {
     "data": {
      "image/png": "[encoded data removed]",
      "text/plain": [
       "<Figure size 800x600 with 2 Axes>"
      ]
     },
     "metadata": {},
     "output_type": "display_data"
    }
   ],
   "source": [
    "# --- 5. 评估模型 ---\n",
    "print(\"\\n--- 评估结果 ---\")\n",
    "\n",
    "# Classification Report\n",
    "print(\"分类报告 (Classification Report):\")\n",
    "# zero_division=0 避免在某个类别没有预测样本时产生警告\n",
    "try:\n",
    "    report = classification_report(y_test, predictions, target_names=['负面 (0)', '正面 (1)'], zero_division=0)\n",
    "    print(report)\n",
    "except ValueError as e:\n",
    "    print(f\"生成分类报告时出错: {e}\")\n",
    "    print(\"真实标签:\", y_test.unique())\n",
    "    print(\"预测标签:\", pd.Series(predictions).unique())\n",
    "\n",
    "\n",
    "# Confusion Matrix\n",
    "print(\"\\n混淆矩阵 (Confusion Matrix):\")\n",
    "try:\n",
    "    cm = confusion_matrix(y_test, predictions)\n",
    "    print(cm)\n",
    "\n",
    "    # --- 6. 可视化混淆矩阵 ---\n",
    "    print(\"\\n绘制混淆矩阵...\")\n",
    "    plt.figure(figsize=(8, 6))\n",
    "    sns.heatmap(cm, annot=True, fmt='d', cmap='Blues',\n",
    "                xticklabels=['预测负面 (0)', '预测正面 (1)'],\n",
    "                yticklabels=['实际负面 (0)', '实际正面 (1)'])\n",
    "    plt.xlabel('预测标签')\n",
    "    plt.ylabel('实际标签')\n",
    "    plt.title('SnowNLP 情感分析混淆矩阵')\n",
    "    # 解决中文显示问题 (如果需要)\n",
    "    plt.rcParams['font.sans-serif'] = ['Microsoft YaHei'] # 或者其他支持中文的字体如 'Microsoft YaHei'\n",
    "    plt.rcParams['axes.unicode_minus'] = False # 解决负号显示问题\n",
    "    plt.show()\n",
    "except ValueError as e:\n",
    "    print(f\"生成或绘制混淆矩阵时出错: {e}\")\n",
    "    print(\"真实标签:\", y_test.unique())\n",
    "    print(\"预测标签:\", pd.Series(predictions).unique())"
   ]
  }
 ],
 "metadata": {
  "kernelspec": {
   "display_name": "IS6941",
   "language": "python",
   "name": "python3"
  },
  "language_info": {
   "codemirror_mode": {
    "name": "ipython",
    "version": 3
   },
   "file_extension": ".py",
   "mimetype": "text/x-python",
   "name": "python",
   "nbconvert_exporter": "python",
   "pygments_lexer": "ipython3",
   "version": "3.11.11"
  }
 },
 "nbformat": 4,
 "nbformat_minor": 5
}
