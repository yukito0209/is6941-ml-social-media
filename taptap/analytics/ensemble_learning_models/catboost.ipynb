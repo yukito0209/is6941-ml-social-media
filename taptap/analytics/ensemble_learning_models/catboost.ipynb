{
 "cells": [
  {
   "cell_type": "code",
   "execution_count": 41,
   "id": "8cb30382",
   "metadata": {},
   "outputs": [],
   "source": [
    "import pandas as pd\n",
    "from catboost import CatBoostClassifier\n",
    "from sklearn.model_selection import train_test_split\n",
    "from sklearn.metrics import classification_report, confusion_matrix\n",
    "import matplotlib.pyplot as plt\n",
    "import seaborn as sns\n",
    "import time # 用于计时"
   ]
  },
  {
   "cell_type": "code",
   "execution_count": 42,
   "id": "985acca5",
   "metadata": {},
   "outputs": [],
   "source": [
    "# --- 配置 ---\n",
    "file_path = r'D:\\GitHubRepos\\is6941-ml-social-media\\taptap\\data\\integrated\\lm_cleaned_taptap_reviews.csv'\n",
    "# 选择用于训练的特征列\n",
    "# review_content 是文本特征\n",
    "# rating 和 game_name 是类别特征 (rating也可以视为数值，但作为类别通常效果不错)\n",
    "# likes 是数值特征\n",
    "feature_columns = ['review_content', 'likes', 'game_name']\n",
    "text_feature_columns = ['review_content']\n",
    "categorical_feature_columns = ['game_name']\n",
    "target_column = 'sentiment'\n",
    "test_size = 0.2 # 20% 的数据作为测试集\n",
    "random_state = 42 # 为了结果可复现"
   ]
  },
  {
   "cell_type": "code",
   "execution_count": 43,
   "id": "d579af3e",
   "metadata": {},
   "outputs": [
    {
     "name": "stdout",
     "output_type": "stream",
     "text": [
      "开始加载数据: D:\\GitHubRepos\\is6941-ml-social-media\\taptap\\data\\integrated\\lm_cleaned_taptap_reviews.csv\n",
      "数据加载成功，总行数: 39985\n",
      "\n",
      "数据前5行:\n",
      "     user_id       username  rating                 review_content  likes  \\\n",
      "0  696432312            。。。       5            可以体验一下，剧情不错，但可能会有点迷      0   \n",
      "1  679295528           云淡风轻       5                           剧情很好      0   \n",
      "2  700357357        qqqqq美女       5  刺激，感受到了友情，亲情，自我，爱慕，传承，等待 ，与纯真      1   \n",
      "3  402380140  User402380140       5            毋庸置疑的神作 第一次回溯时间的是葵啊      2   \n",
      "4  434114561           不忆往事       5                   没有别的可以说，剧情神作      1   \n",
      "\n",
      "          publish_time       device_model         game_name  sentiment  \n",
      "0  2025-04-05 20:13:00        OPPO K7x中国版  7_years_from_now          1  \n",
      "1  2025-04-05 17:35:00   Honor Play 40 5G  7_years_from_now          1  \n",
      "2  2025-04-04 22:59:00        OPPO PGGM10  7_years_from_now          1  \n",
      "3  2025-04-03 09:48:00  Redmi Note 10 Pro  7_years_from_now          1  \n",
      "4  2025-04-03 01:08:00        Vivo V2148A  7_years_from_now          1  \n",
      "\n",
      "数据信息:\n",
      "<class 'pandas.core.frame.DataFrame'>\n",
      "RangeIndex: 39985 entries, 0 to 39984\n",
      "Data columns (total 9 columns):\n",
      " #   Column          Non-Null Count  Dtype \n",
      "---  ------          --------------  ----- \n",
      " 0   user_id         39985 non-null  int64 \n",
      " 1   username        39979 non-null  object\n",
      " 2   rating          39985 non-null  int64 \n",
      " 3   review_content  39985 non-null  object\n",
      " 4   likes           39985 non-null  int64 \n",
      " 5   publish_time    39985 non-null  object\n",
      " 6   device_model    39985 non-null  object\n",
      " 7   game_name       39985 non-null  object\n",
      " 8   sentiment       39985 non-null  int64 \n",
      "dtypes: int64(4), object(5)\n",
      "memory usage: 2.7+ MB\n",
      "\n",
      "目标变量 'sentiment' 分布:\n",
      "sentiment\n",
      "1    0.659072\n",
      "0    0.340928\n",
      "Name: proportion, dtype: float64\n",
      "\n",
      "处理缺失值后，剩余行数: 39985\n"
     ]
    }
   ],
   "source": [
    "# --- 1. 加载数据 ---\n",
    "print(f\"开始加载数据: {file_path}\")\n",
    "try:\n",
    "    df = pd.read_csv(file_path)\n",
    "    print(f\"数据加载成功，总行数: {len(df)}\")\n",
    "    # 查看数据基本信息和目标变量分布\n",
    "    print(\"\\n数据前5行:\")\n",
    "    print(df.head())\n",
    "    print(\"\\n数据信息:\")\n",
    "    df.info()\n",
    "    print(f\"\\n目标变量 '{target_column}' 分布:\")\n",
    "    print(df[target_column].value_counts(normalize=True))\n",
    "\n",
    "    # 简单处理缺失值 (例如，填充文本和类别特征，删除数值特征缺失行)\n",
    "    # 注意：CatBoost 内部可以处理缺失值，但显式处理有时更好控制\n",
    "    df['review_content'] = df['review_content'].fillna('') # 文本填充空字符串\n",
    "    df['game_name'] = df['game_name'].fillna('Unknown') # 类别填充特定值\n",
    "    df['rating'] = df['rating'].fillna(df['rating'].mode()[0]) # 类别用众数填充\n",
    "    df.dropna(subset=['likes', target_column], inplace=True) # 删除数值或目标列的缺失值行\n",
    "    print(f\"\\n处理缺失值后，剩余行数: {len(df)}\")\n",
    "\n",
    "    # 确保目标列是整数类型\n",
    "    df[target_column] = df[target_column].astype(int)\n",
    "\n",
    "except FileNotFoundError:\n",
    "    print(f\"错误: 文件未找到 {file_path}\")\n",
    "    exit()\n",
    "except Exception as e:\n",
    "    print(f\"加载或预处理数据时发生错误: {e}\")\n",
    "    exit()"
   ]
  },
  {
   "cell_type": "code",
   "execution_count": 44,
   "id": "8e800791",
   "metadata": {},
   "outputs": [
    {
     "name": "stdout",
     "output_type": "stream",
     "text": [
      "\n",
      "划分数据集，测试集比例: 0.2\n",
      "训练集大小: 31988, 测试集大小: 7997\n"
     ]
    }
   ],
   "source": [
    "# --- 2. 准备特征和目标变量 ---\n",
    "X = df[feature_columns]\n",
    "y = df[target_column]\n",
    "\n",
    "# --- 3. 划分训练集和测试集 ---\n",
    "print(f\"\\n划分数据集，测试集比例: {test_size}\")\n",
    "X_train, X_test, y_train, y_test = train_test_split(\n",
    "    X, y,\n",
    "    test_size=test_size,\n",
    "    random_state=random_state,\n",
    "    stratify=y # 保持训练集和测试集中类别比例一致\n",
    ")\n",
    "print(f\"训练集大小: {X_train.shape[0]}, 测试集大小: {X_test.shape[0]}\")"
   ]
  },
  {
   "cell_type": "code",
   "execution_count": 45,
   "id": "50ca33c8",
   "metadata": {},
   "outputs": [
    {
     "name": "stdout",
     "output_type": "stream",
     "text": [
      "\n",
      "初始化 CatBoostClassifier...\n",
      "检测到二分类任务，使用 'Logloss'\n"
     ]
    }
   ],
   "source": [
    "# --- 4. 初始化 CatBoost 分类器 ---\n",
    "print(\"\\n初始化 CatBoostClassifier...\")\n",
    "# 确定损失函数（根据目标变量的类别数量）\n",
    "num_classes = len(y.unique())\n",
    "if num_classes == 2:\n",
    "    loss_function = 'Logloss'\n",
    "    eval_metric = 'Accuracy' # 或者 'AUC', 'F1'\n",
    "    print(\"检测到二分类任务，使用 'Logloss'\")\n",
    "elif num_classes > 2:\n",
    "    loss_function = 'MultiClass'\n",
    "    eval_metric = 'Accuracy' # 或者 'TotalF1'\n",
    "    print(f\"检测到 {num_classes} 分类任务，使用 'MultiClass'\")\n",
    "else:\n",
    "    print(\"错误：目标变量类别数少于2，无法进行分类。\")\n",
    "    exit()\n",
    "\n",
    "model = CatBoostClassifier(\n",
    "    iterations=1000,          # 迭代次数（树的数量）\n",
    "    learning_rate=0.1,       # 学习率\n",
    "    depth=8,                 # 树的深度\n",
    "    loss_function=loss_function, # 损失函数\n",
    "    eval_metric=eval_metric,     # 评估指标\n",
    "    task_type=\"GPU\",         # 使用 GPU\n",
    "    devices='0',             # 指定 GPU 设备 ID (通常是 '0')\n",
    "    random_seed=random_state,  # 随机种子\n",
    "    verbose=10,             # 每 10 次迭代输出一次信息\n",
    "    early_stopping_rounds=50, # 如果验证集指标在 50 轮内没有提升，则停止训练\n",
    "    text_features=text_feature_columns,         # 指定文本特征列名\n",
    "    cat_features=categorical_feature_columns    # 指定类别特征列名\n",
    "    # CatBoost 会自动处理类别特征和文本特征，无需手动编码\n",
    ")"
   ]
  },
  {
   "cell_type": "code",
   "execution_count": 46,
   "id": "178a94da",
   "metadata": {},
   "outputs": [
    {
     "name": "stdout",
     "output_type": "stream",
     "text": [
      "\n",
      "开始训练模型...\n",
      "0:\tlearn: 0.7499687\ttest: 0.7405277\tbest: 0.7405277 (0)\ttotal: 84.6ms\tremaining: 1m 24s\n",
      "10:\tlearn: 0.7739465\ttest: 0.7635363\tbest: 0.7635363 (9)\ttotal: 928ms\tremaining: 1m 23s\n",
      "20:\tlearn: 0.7731649\ttest: 0.7636614\tbest: 0.7637864 (14)\ttotal: 1.74s\tremaining: 1m 21s\n",
      "30:\tlearn: 0.7765099\ttest: 0.7641616\tbest: 0.7655371 (26)\ttotal: 2.58s\tremaining: 1m 20s\n",
      "40:\tlearn: 0.7780418\ttest: 0.7642866\tbest: 0.7655371 (26)\ttotal: 3.41s\tremaining: 1m 19s\n",
      "50:\tlearn: 0.7796049\ttest: 0.7651619\tbest: 0.7655371 (26)\ttotal: 4.26s\tremaining: 1m 19s\n",
      "60:\tlearn: 0.7795423\ttest: 0.7650369\tbest: 0.7655371 (26)\ttotal: 5.01s\tremaining: 1m 17s\n",
      "70:\tlearn: 0.7803864\ttest: 0.7657872\tbest: 0.7657872 (65)\ttotal: 5.73s\tremaining: 1m 15s\n",
      "80:\tlearn: 0.7810429\ttest: 0.7654120\tbest: 0.7657872 (65)\ttotal: 6.51s\tremaining: 1m 13s\n",
      "90:\tlearn: 0.7811992\ttest: 0.7657872\tbest: 0.7657872 (65)\ttotal: 7.23s\tremaining: 1m 12s\n",
      "100:\tlearn: 0.7817932\ttest: 0.7659122\tbest: 0.7660373 (95)\ttotal: 8.05s\tremaining: 1m 11s\n",
      "110:\tlearn: 0.7819182\ttest: 0.7655371\tbest: 0.7660373 (95)\ttotal: 8.86s\tremaining: 1m 10s\n",
      "120:\tlearn: 0.7833250\ttest: 0.7657872\tbest: 0.7660373 (95)\ttotal: 9.67s\tremaining: 1m 10s\n",
      "130:\tlearn: 0.7834188\ttest: 0.7664124\tbest: 0.7664124 (130)\ttotal: 10.5s\tremaining: 1m 9s\n",
      "140:\tlearn: 0.7837314\ttest: 0.7659122\tbest: 0.7664124 (130)\ttotal: 11.2s\tremaining: 1m 8s\n",
      "150:\tlearn: 0.7837939\ttest: 0.7660373\tbest: 0.7664124 (130)\ttotal: 11.9s\tremaining: 1m 7s\n",
      "160:\tlearn: 0.7837939\ttest: 0.7659122\tbest: 0.7664124 (130)\ttotal: 12.7s\tremaining: 1m 6s\n",
      "170:\tlearn: 0.7837939\ttest: 0.7657872\tbest: 0.7664124 (130)\ttotal: 13.4s\tremaining: 1m 5s\n",
      "180:\tlearn: 0.7838564\ttest: 0.7657872\tbest: 0.7664124 (130)\ttotal: 14.2s\tremaining: 1m 4s\n",
      "bestTest = 0.7664124047\n",
      "bestIteration = 130\n",
      "Shrink model to first 131 iterations.\n",
      "模型训练完成，耗时: 15.01 秒\n"
     ]
    }
   ],
   "source": [
    "# --- 5. 训练模型 ---\n",
    "print(\"\\n开始训练模型...\")\n",
    "start_time = time.time()\n",
    "model.fit(\n",
    "    X_train, y_train,\n",
    "    eval_set=(X_test, y_test), # 使用测试集进行早停和性能监控\n",
    "    # text_features 和 cat_features 在初始化时已指定\n",
    "    # plot=True # 如果你想在训练过程中看到图表（可能需要额外库或在Jupyter环境）\n",
    ")\n",
    "end_time = time.time()\n",
    "print(f\"模型训练完成，耗时: {end_time - start_time:.2f} 秒\")"
   ]
  },
  {
   "cell_type": "code",
   "execution_count": 47,
   "id": "535a7451",
   "metadata": {},
   "outputs": [
    {
     "name": "stdout",
     "output_type": "stream",
     "text": [
      "\n",
      "在测试集上进行预测...\n"
     ]
    }
   ],
   "source": [
    "# --- 6. 进行预测 ---\n",
    "print(\"\\n在测试集上进行预测...\")\n",
    "y_pred = model.predict(X_test)\n",
    "# CatBoost predict 默认返回概率最高的类别，如果是二分类且需要概率，用 predict_proba"
   ]
  },
  {
   "cell_type": "code",
   "execution_count": 48,
   "id": "5b5acbf1",
   "metadata": {},
   "outputs": [
    {
     "name": "stdout",
     "output_type": "stream",
     "text": [
      "\n",
      "模型评估:\n",
      "Classification Report:\n",
      "              precision    recall  f1-score   support\n",
      "\n",
      "           0       0.70      0.56      0.62      2726\n",
      "           1       0.79      0.87      0.83      5271\n",
      "\n",
      "    accuracy                           0.77      7997\n",
      "   macro avg       0.74      0.72      0.73      7997\n",
      "weighted avg       0.76      0.77      0.76      7997\n",
      "\n",
      "\n",
      "Confusion Matrix:\n",
      "[[1528 1198]\n",
      " [ 670 4601]]\n"
     ]
    },
    {
     "data": {
      "image/png": "[encoded data removed]",
      "text/plain": [
       "<Figure size 800x600 with 2 Axes>"
      ]
     },
     "metadata": {},
     "output_type": "display_data"
    },
    {
     "name": "stdout",
     "output_type": "stream",
     "text": [
      "\n",
      "脚本执行完毕。\n"
     ]
    }
   ],
   "source": [
    "# --- 7. 评估模型 ---\n",
    "print(\"\\n模型评估:\")\n",
    "\n",
    "# Classification Report\n",
    "print(\"Classification Report:\")\n",
    "try:\n",
    "    # 获取目标类别的名称 (如果 y 是数字 0, 1, ...)\n",
    "    target_names = [str(c) for c in sorted(y.unique())]\n",
    "    print(classification_report(y_test, y_pred, target_names=target_names))\n",
    "except Exception as e:\n",
    "    print(f\"生成 classification report 时出错: {e}\")\n",
    "    print(\"Classification Report (无 target_names):\")\n",
    "    print(classification_report(y_test, y_pred))\n",
    "\n",
    "\n",
    "# Confusion Matrix\n",
    "print(\"\\nConfusion Matrix:\")\n",
    "cm = confusion_matrix(y_test, y_pred)\n",
    "print(cm)\n",
    "\n",
    "# 可视化 Confusion Matrix\n",
    "plt.figure(figsize=(8, 6))\n",
    "sns.heatmap(cm, annot=True, fmt='d', cmap='Blues', xticklabels=target_names, yticklabels=target_names)\n",
    "plt.xlabel('Predicted Label')\n",
    "plt.ylabel('True Label')\n",
    "plt.title('Confusion Matrix')\n",
    "plt.show()\n",
    "\n",
    "print(\"\\n脚本执行完毕。\")"
   ]
  }
 ],
 "metadata": {
  "kernelspec": {
   "display_name": "IS6941",
   "language": "python",
   "name": "python3"
  },
  "language_info": {
   "codemirror_mode": {
    "name": "ipython",
    "version": 3
   },
   "file_extension": ".py",
   "mimetype": "text/x-python",
   "name": "python",
   "nbconvert_exporter": "python",
   "pygments_lexer": "ipython3",
   "version": "3.11.11"
  }
 },
 "nbformat": 4,
 "nbformat_minor": 5
}
