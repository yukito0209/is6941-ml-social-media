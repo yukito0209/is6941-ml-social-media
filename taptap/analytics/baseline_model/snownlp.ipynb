{
 "cells": [
  {
   "cell_type": "code",
   "execution_count": 23,
   "id": "457178cb",
   "metadata": {},
   "outputs": [],
   "source": [
    "import pandas as pd\n",
    "from snownlp import SnowNLP\n",
    "from sklearn.metrics import classification_report, confusion_matrix\n",
    "from tqdm import tqdm"
   ]
  },
  {
   "cell_type": "code",
   "execution_count": 24,
   "id": "583b0b17",
   "metadata": {},
   "outputs": [],
   "source": [
    "def preprocess_text(text):\n",
    "    \"\"\"确保输入为字符串并处理缺失值\"\"\"\n",
    "    if pd.isna(text):\n",
    "        return \"\"\n",
    "    return str(text).strip()"
   ]
  },
  {
   "cell_type": "code",
   "execution_count": 25,
   "id": "365b8cbc",
   "metadata": {},
   "outputs": [],
   "source": [
    "# ================== 自定义阈值优化 ==================\n",
    "def find_optimal_threshold(scores, labels):\n",
    "    \"\"\"寻找最佳分类阈值\"\"\"\n",
    "    from sklearn.metrics import f1_score\n",
    "    best_thresh = 0.5\n",
    "    best_f1 = 0\n",
    "    for thresh in [x/100 for x in range(20, 80)]:\n",
    "        preds = (scores > thresh).astype(int)\n",
    "        f1 = f1_score(labels, preds)\n",
    "        if f1 > best_f1:\n",
    "            best_f1 = f1\n",
    "            best_thresh = thresh\n",
    "    return best_thresh"
   ]
  },
  {
   "cell_type": "code",
   "execution_count": 26,
   "id": "2c2ab683",
   "metadata": {},
   "outputs": [],
   "source": [
    "def safe_snownlp(text):\n",
    "    \"\"\"处理空文本的增强函数\"\"\"\n",
    "    if not text.strip():  # 过滤空字符串和纯空格\n",
    "        return 0.5  # 返回中性值\n",
    "    \n",
    "    try:\n",
    "        return SnowNLP(text).sentiments\n",
    "    except Exception as e:\n",
    "        print(f\"处理异常文本: {text}，错误: {str(e)}\")\n",
    "        return 0.5  # 异常文本返回中性值"
   ]
  },
  {
   "cell_type": "code",
   "execution_count": 27,
   "id": "63cc4ec2",
   "metadata": {},
   "outputs": [],
   "source": [
    "# 1. 加载预处理数据\n",
    "df = pd.read_csv(r\"D:\\GitHubRepos\\is6941-ml-social-media\\taptap\\data\\integrated\\cleaned_taptap_reviews.csv\")\n",
    "df['review_content'] = df['review_content'].apply(preprocess_text)"
   ]
  },
  {
   "cell_type": "code",
   "execution_count": 28,
   "id": "a7e30f83",
   "metadata": {},
   "outputs": [
    {
     "name": "stderr",
     "output_type": "stream",
     "text": [
      "情感分析进度: 100%|██████████| 39985/39985 [01:10<00:00, 567.62it/s] \n"
     ]
    }
   ],
   "source": [
    "# 2. 计算情感得分（启用并行加速）\n",
    "# 修改后的情感计算部分\n",
    "tqdm.pandas(desc=\"情感分析进度\")\n",
    "df['snownlp_score'] = df['review_content'].progress_apply(\n",
    "    lambda x: safe_snownlp(x)  # 使用安全处理函数\n",
    ")"
   ]
  },
  {
   "cell_type": "code",
   "execution_count": 29,
   "id": "2788d456",
   "metadata": {},
   "outputs": [
    {
     "name": "stdout",
     "output_type": "stream",
     "text": [
      "最优分类阈值: 0.20\n"
     ]
    }
   ],
   "source": [
    "# 3. 寻找最佳分类阈值\n",
    "optimal_thresh = find_optimal_threshold(df['snownlp_score'], df['sentiment'])\n",
    "print(f\"最优分类阈值: {optimal_thresh:.2f}\")"
   ]
  },
  {
   "cell_type": "code",
   "execution_count": 30,
   "id": "9299d723",
   "metadata": {},
   "outputs": [],
   "source": [
    "# 4. 生成预测结果\n",
    "df['pred'] = df['snownlp_score'].apply(\n",
    "    lambda x: 1 if x > optimal_thresh else 0\n",
    ")"
   ]
  },
  {
   "cell_type": "code",
   "execution_count": 31,
   "id": "363e59ba",
   "metadata": {},
   "outputs": [
    {
     "name": "stdout",
     "output_type": "stream",
     "text": [
      "\n",
      "分类报告:\n",
      "              precision    recall  f1-score   support\n",
      "\n",
      "           0       0.56      0.47      0.51     13632\n",
      "           1       0.75      0.81      0.78     26353\n",
      "\n",
      "    accuracy                           0.69     39985\n",
      "   macro avg       0.65      0.64      0.64     39985\n",
      "weighted avg       0.68      0.69      0.69     39985\n",
      "\n",
      "\n",
      "混淆矩阵:\n",
      "[[ 6356  7276]\n",
      " [ 5005 21348]]\n"
     ]
    }
   ],
   "source": [
    "# 5. 评估模型表现\n",
    "print(\"\\n分类报告:\")\n",
    "print(classification_report(df['sentiment'], df['pred']))\n",
    "print(\"\\n混淆矩阵:\")\n",
    "print(confusion_matrix(df['sentiment'], df['pred']))"
   ]
  }
 ],
 "metadata": {
  "kernelspec": {
   "display_name": "IS6941",
   "language": "python",
   "name": "python3"
  },
  "language_info": {
   "codemirror_mode": {
    "name": "ipython",
    "version": 3
   },
   "file_extension": ".py",
   "mimetype": "text/x-python",
   "name": "python",
   "nbconvert_exporter": "python",
   "pygments_lexer": "ipython3",
   "version": "3.13.2"
  }
 },
 "nbformat": 4,
 "nbformat_minor": 5
}
