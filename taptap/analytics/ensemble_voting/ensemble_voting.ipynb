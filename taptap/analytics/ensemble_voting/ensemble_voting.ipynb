{
 "cells": [
  {
   "cell_type": "code",
   "execution_count": 1,
   "id": "ce78283b",
   "metadata": {},
   "outputs": [
    {
     "name": "stdout",
     "output_type": "stream",
     "text": [
      "WARNING:tensorflow:From c:\\Users\\wjw20\\miniconda3\\envs\\IS6941\\Lib\\site-packages\\tf_keras\\src\\losses.py:2976: The name tf.losses.sparse_softmax_cross_entropy is deprecated. Please use tf.compat.v1.losses.sparse_softmax_cross_entropy instead.\n",
      "\n"
     ]
    }
   ],
   "source": [
    "import pandas as pd\n",
    "import numpy as np\n",
    "import os\n",
    "import time\n",
    "import matplotlib.pyplot as plt\n",
    "import seaborn as sns\n",
    "import joblib # For potentially saving/loading models/preprocessors\n",
    "\n",
    "# --- Sklearn ---\n",
    "from sklearn.model_selection import train_test_split, StratifiedKFold\n",
    "from sklearn.metrics import classification_report, confusion_matrix, accuracy_score\n",
    "from sklearn.linear_model import LogisticRegression\n",
    "from sklearn.feature_extraction.text import TfidfVectorizer\n",
    "from sklearn.preprocessing import OneHotEncoder, StandardScaler # Added StandardScaler\n",
    "from sklearn.compose import ColumnTransformer\n",
    "from sklearn.pipeline import Pipeline\n",
    "from sklearn.impute import SimpleImputer\n",
    "\n",
    "# --- Model Libraries ---\n",
    "import catboost\n",
    "from catboost import CatBoostClassifier\n",
    "import xgboost as xgb\n",
    "import torch\n",
    "from torch.utils.data import Dataset, DataLoader\n",
    "from transformers import BertTokenizer, BertForSequenceClassification, Trainer, TrainingArguments, logging as hf_logging"
   ]
  },
  {
   "cell_type": "code",
   "execution_count": 2,
   "id": "909c6366",
   "metadata": {},
   "outputs": [
    {
     "name": "stdout",
     "output_type": "stream",
     "text": [
      "Using device: cuda\n"
     ]
    }
   ],
   "source": [
    "# --- Configuration ---\n",
    "# Paths\n",
    "data_path_cleaned = r'D:\\GitHubRepos\\is6941-ml-social-media\\taptap\\data\\integrated\\cleaned_taptap_reviews.csv' # For CatBoost, XGBoost\n",
    "data_path_lm = r'D:\\GitHubRepos\\is6941-ml-social-media\\taptap\\data\\integrated\\lm_cleaned_taptap_reviews.csv' # For BERT\n",
    "output_dir = 'stacking_outputs_comp_key' # Changed output dir name\n",
    "os.makedirs(output_dir, exist_ok=True)\n",
    "\n",
    "# Split & CV Params\n",
    "test_size = 0.2\n",
    "n_splits = 5 # Number of folds for K-Fold CV\n",
    "random_state = 42\n",
    "\n",
    "# Target Column\n",
    "target_column = 'sentiment'\n",
    "\n",
    "# --- !!! Define Composite Key Columns !!! ---\n",
    "composite_key_cols = ['user_id', 'publish_time', 'game_name']\n",
    "\n",
    "# Base Model Params (Keep consistent with your original scripts)\n",
    "# CatBoost\n",
    "cb_params = {\n",
    "    'iterations': 1000, 'learning_rate': 0.1, 'depth': 8,\n",
    "    'loss_function': 'Logloss', 'eval_metric': 'Accuracy',\n",
    "    'task_type': \"GPU\", 'devices': '0', 'random_seed': random_state,\n",
    "    'verbose': 0, # Quieter for stacking loops\n",
    "    'early_stopping_rounds': 50,\n",
    "    'text_features': ['review_content_cleaned'], # Will use renamed column\n",
    "    'cat_features': ['game_name'] # game_name is also part of the key\n",
    "}\n",
    "# XGBoost (Define preprocessing separately)\n",
    "xgb_params = {\n",
    "    'objective': 'binary:logistic', 'eval_metric': 'logloss',\n",
    "    'use_label_encoder': False, 'n_estimators': 1200,\n",
    "    'learning_rate': 0.05, 'max_depth': 10, 'subsample': 0.8,\n",
    "    'colsample_bytree': 0.8, 'random_state': random_state,\n",
    "    'early_stopping_rounds': 50, 'tree_method': 'hist', 'device': 'cuda'\n",
    "}\n",
    "# BERT\n",
    "bert_model_name = \"bert-base-chinese\"\n",
    "bert_train_args = TrainingArguments(\n",
    "    output_dir=os.path.join(output_dir, 'bert_temp'),\n",
    "    per_device_train_batch_size=32,\n",
    "    per_device_eval_batch_size=64,\n",
    "    num_train_epochs=3, # Keep epochs reasonable for multiple runs\n",
    "    eval_strategy=\"no\", # No eval during OOF training\n",
    "    save_strategy=\"no\",\n",
    "    logging_steps=500, # Log less often\n",
    "    fp16=True,\n",
    "    dataloader_pin_memory=True,\n",
    "    report_to=\"none\", # Disable wandb/tensorboard logging during OOF\n",
    "    # learning_rate=3e-5, warmup_ratio=0.1, weight_decay=0.01,\n",
    ")\n",
    "\n",
    "# Disable excessive logging from transformers\n",
    "hf_logging.set_verbosity_error()\n",
    "\n",
    "# --- GPU Check ---\n",
    "device = torch.device(\"cuda\" if torch.cuda.is_available() else \"cpu\")\n",
    "print(f\"Using device: {device}\")\n",
    "if device == torch.device(\"cpu\"):\n",
    "    print(\"警告: 未检测到兼容 CUDA 的 GPU。BERT 训练和预测会非常慢。\")\n",
    "    # Adjust params if no GPU\n",
    "    cb_params['task_type'] = 'CPU'\n",
    "    if 'devices' in cb_params: del cb_params['devices']\n",
    "    xgb_params['device'] = 'cpu'\n",
    "    bert_train_args.fp16 = False"
   ]
  },
  {
   "cell_type": "code",
   "execution_count": null,
   "id": "94bb3661",
   "metadata": {},
   "outputs": [
    {
     "name": "stdout",
     "output_type": "stream",
     "text": [
      "加载数据...\n",
      "原始 df_cleaned: 39985 行, df_lm: 39985 行\n",
      "清理 df_cleaned...\n",
      "清理后 df_cleaned: 39985 行\n",
      "清理 df_lm...\n",
      "清理后 df_lm: 39985 行\n",
      "使用复合键合并以对齐数据...\n",
      "数据对齐完成。最终用于训练/测试的样本数: 39985\n"
     ]
    }
   ],
   "source": [
    "# --- 1. Load Data ---\n",
    "print(\"加载数据...\")\n",
    "try:\n",
    "    # Load raw data, ensuring key columns are read\n",
    "    df_cleaned_raw = pd.read_csv(data_path_cleaned)\n",
    "    df_lm_raw = pd.read_csv(data_path_lm)\n",
    "    print(f\"原始 df_cleaned: {len(df_cleaned_raw)} 行, df_lm: {len(df_lm_raw)} 行\")\n",
    "\n",
    "    # --- Define columns needed ---\n",
    "    # Features specific to CB/XGB (excluding keys already listed)\n",
    "    cb_xgb_only_feature_cols = ['review_content', 'likes']\n",
    "    # Features specific to BERT (excluding keys)\n",
    "    bert_only_feature_cols = ['review_content']\n",
    "    # Target\n",
    "    target_col_list = [target_column]\n",
    "\n",
    "    # --- !!! Create UNIQUE lists of needed columns !!! ---\n",
    "    needed_cols_cleaned = list(set(composite_key_cols + cb_xgb_only_feature_cols + target_col_list + ['game_name'])) # Ensure game_name is included once\n",
    "    needed_cols_lm = list(set(composite_key_cols + bert_only_feature_cols + target_col_list))\n",
    "\n",
    "    # Select needed columns early\n",
    "    df_cleaned_raw = df_cleaned_raw[needed_cols_cleaned]\n",
    "    df_lm_raw = df_lm_raw[needed_cols_lm]\n",
    "\n",
    "    # --- Ensure Key Column Types are Consistent ---\n",
    "    try:\n",
    "        df_cleaned_raw['publish_time'] = pd.to_datetime(df_cleaned_raw['publish_time'])\n",
    "        df_lm_raw['publish_time'] = pd.to_datetime(df_lm_raw['publish_time'])\n",
    "    except Exception as e:\n",
    "        print(f\"警告：转换 'publish_time' 为 datetime 时出错: {e}. 可能影响合并。\")\n",
    "    for col in ['user_id', 'game_name']:\n",
    "        if col in df_cleaned_raw.columns:\n",
    "            df_cleaned_raw[col] = df_cleaned_raw[col].astype(str)\n",
    "        if col in df_lm_raw.columns:\n",
    "            df_lm_raw[col] = df_lm_raw[col].astype(str)\n",
    "\n",
    "    # --- Clean df_cleaned ---\n",
    "    print(\"清理 df_cleaned...\")\n",
    "    df_cleaned_processed = df_cleaned_raw.copy()\n",
    "    df_cleaned_processed['review_content'] = df_cleaned_processed['review_content'].fillna('')\n",
    "    if 'game_name' in df_cleaned_processed.columns:\n",
    "        df_cleaned_processed['game_name'] = df_cleaned_processed['game_name'].fillna('Unknown')\n",
    "    df_cleaned_processed.dropna(subset=['likes', target_column], inplace=True)\n",
    "    df_cleaned_processed[target_column] = df_cleaned_processed[target_column].astype(int)\n",
    "    df_cleaned_processed = df_cleaned_processed.drop_duplicates(subset=composite_key_cols, keep='first')\n",
    "    print(f\"清理后 df_cleaned: {len(df_cleaned_processed)} 行\")\n",
    "\n",
    "    # --- Clean df_lm ---\n",
    "    print(\"清理 df_lm...\")\n",
    "    df_lm_processed = df_lm_raw.copy()\n",
    "    df_lm_processed.dropna(subset=['review_content', target_column], inplace=True)\n",
    "    df_lm_processed[target_column] = df_lm_processed[target_column].astype(int)\n",
    "    df_lm_processed = df_lm_processed.drop_duplicates(subset=composite_key_cols, keep='first')\n",
    "    print(f\"清理后 df_lm: {len(df_lm_processed)} 行\")\n",
    "\n",
    "    # --- Merge to Align based on Composite Key ---\n",
    "    print(\"使用复合键合并以对齐数据...\")\n",
    "\n",
    "    # --- !!! Define UNIQUE columns for merging !!! ---\n",
    "    # Columns needed from cleaned df (keys + specific features + target)\n",
    "    cols_to_merge_cleaned = list(set(composite_key_cols + cb_xgb_only_feature_cols + target_col_list + ['game_name']))\n",
    "    # Columns needed from lm df (keys + specific features)\n",
    "    cols_to_merge_lm = list(set(composite_key_cols + bert_only_feature_cols))\n",
    "\n",
    "    # Select necessary columns and rename review_content for clarity before merge\n",
    "    df_cleaned_to_merge = df_cleaned_processed[cols_to_merge_cleaned].rename(\n",
    "        columns={'review_content': 'review_content_cleaned'}\n",
    "    )\n",
    "    df_lm_to_merge = df_lm_processed[cols_to_merge_lm].rename(\n",
    "        columns={'review_content': 'review_content_lm'}\n",
    "    )\n",
    "\n",
    "    # Inner merge\n",
    "    df_aligned = pd.merge(df_cleaned_to_merge, df_lm_to_merge, on=composite_key_cols, how='inner')\n",
    "\n",
    "    if len(df_aligned) == 0:\n",
    "        print(\"错误：数据对齐后没有剩余样本。请检查清理逻辑、复合键的唯一性和数据对应关系。\")\n",
    "        exit()\n",
    "\n",
    "    # --- Create a Simple Unique ID for easier indexing ---\n",
    "    df_aligned = df_aligned.reset_index(drop=True)\n",
    "    df_aligned['review_id'] = df_aligned.index\n",
    "    df_aligned = df_aligned.set_index('review_id', drop=False)\n",
    "\n",
    "    print(f\"数据对齐完成。最终用于训练/测试的样本数: {len(df_aligned)}\")\n",
    "\n",
    "    # --- Extract Final Features and Target ---\n",
    "    y = df_aligned[target_column]\n",
    "    X_for_split = df_aligned[['review_id']]\n",
    "    n_classes = y.nunique()\n",
    "\n",
    "except FileNotFoundError as e:\n",
    "    print(f\"错误: 文件未找到 - {e}\")\n",
    "    exit()\n",
    "except KeyError as e:\n",
    "    print(f\"错误: 缺少必要的列 - {e}. 请确保CSV文件包含 {composite_key_cols} 以及特征和目标列。\")\n",
    "    exit()\n",
    "except Exception as e:\n",
    "    print(f\"加载或预处理数据时发生错误: {e}\")\n",
    "    exit()"
   ]
  },
  {
   "cell_type": "code",
   "execution_count": 4,
   "id": "511eb241",
   "metadata": {},
   "outputs": [
    {
     "name": "stdout",
     "output_type": "stream",
     "text": [
      "初始划分: 训练集 31988 样本 (IDs), 测试集 7997 样本 (IDs)\n"
     ]
    }
   ],
   "source": [
    "# --- 2. Initial Train/Test Split ---\n",
    "# Split the ALIGNED review_ids\n",
    "train_ids, test_ids, y_train_orig, y_test_final = train_test_split(\n",
    "    df_aligned['review_id'].values, # Split the simple IDs\n",
    "    y.values,                      # Split the corresponding labels\n",
    "    test_size=test_size,\n",
    "    random_state=random_state,\n",
    "    stratify=y\n",
    ")\n",
    "\n",
    "print(f\"初始划分: 训练集 {len(train_ids)} 样本 (IDs), 测试集 {len(test_ids)} 样本 (IDs)\")"
   ]
  },
  {
   "cell_type": "code",
   "execution_count": 5,
   "id": "c8eb403d",
   "metadata": {},
   "outputs": [],
   "source": [
    "# --- 3. Define Base Model Training/Prediction Functions ---\n",
    "\n",
    "# == XGBoost Preprocessor ==\n",
    "xgb_text_col = 'review_content_cleaned' # Use the renamed column\n",
    "xgb_cat_cols = ['game_name']\n",
    "xgb_num_cols = ['likes']\n",
    "\n",
    "xgb_text_transformer = Pipeline(steps=[('tfidf', TfidfVectorizer(max_features=5000, stop_words=None))])\n",
    "xgb_cat_transformer = Pipeline(steps=[('onehot', OneHotEncoder(handle_unknown='ignore', sparse_output=False))])\n",
    "xgb_num_transformer = Pipeline(steps=[('imputer', SimpleImputer(strategy='median')), ('scaler', StandardScaler())])\n",
    "\n",
    "xgb_preprocessor = ColumnTransformer(\n",
    "    transformers=[\n",
    "        ('text', xgb_text_transformer, xgb_text_col),\n",
    "        ('cat', xgb_cat_transformer, xgb_cat_cols),\n",
    "        ('num', xgb_num_transformer, xgb_num_cols)\n",
    "    ],\n",
    "    remainder='passthrough'\n",
    ")\n",
    "\n",
    "# == BERT Dataset ==\n",
    "class SentimentDataset(Dataset):\n",
    "    # (Dataset class remains the same)\n",
    "    def __init__(self, texts, labels, tokenizer, max_len=256):\n",
    "        self.texts = texts\n",
    "        self.labels = labels\n",
    "        self.tokenizer = tokenizer\n",
    "        self.max_len = max_len\n",
    "    def __len__(self):\n",
    "        return len(self.labels)\n",
    "    def __getitem__(self, idx):\n",
    "        text = str(self.texts[idx])\n",
    "        label = self.labels[idx]\n",
    "        encoding = self.tokenizer.encode_plus(\n",
    "            text, add_special_tokens=True, max_length=self.max_len,\n",
    "            return_token_type_ids=False, padding='max_length',\n",
    "            truncation=True, return_attention_mask=True, return_tensors='pt',\n",
    "        )\n",
    "        return {\n",
    "            'input_ids': encoding['input_ids'].flatten(),\n",
    "            'attention_mask': encoding['attention_mask'].flatten(),\n",
    "            'labels': torch.tensor(label, dtype=torch.long)\n",
    "        }\n",
    "\n",
    "# Initialize BERT tokenizer globally\n",
    "bert_tokenizer = BertTokenizer.from_pretrained(bert_model_name)"
   ]
  },
  {
   "cell_type": "code",
   "execution_count": 6,
   "id": "0137b238",
   "metadata": {},
   "outputs": [
    {
     "name": "stdout",
     "output_type": "stream",
     "text": [
      "\n",
      "开始 5-折交叉验证生成 OOF 预测...\n",
      "--- Fold 1/5 ---\n",
      "  训练 CatBoost...\n",
      "  CatBoost 训练完成。\n",
      "  训练 XGBoost...\n"
     ]
    },
    {
     "name": "stderr",
     "output_type": "stream",
     "text": [
      "c:\\Users\\wjw20\\miniconda3\\envs\\IS6941\\Lib\\site-packages\\xgboost\\callback.py:386: UserWarning: [21:24:19] WARNING: C:\\actions-runner\\_work\\xgboost\\xgboost\\src\\learner.cc:738: \n",
      "Parameters: { \"use_label_encoder\" } are not used.\n",
      "\n",
      "  self.starting_round = model.num_boosted_rounds()\n",
      "c:\\Users\\wjw20\\miniconda3\\envs\\IS6941\\Lib\\site-packages\\xgboost\\core.py:729: UserWarning: [21:24:36] WARNING: C:\\actions-runner\\_work\\xgboost\\xgboost\\src\\common\\error_msg.cc:58: Falling back to prediction using DMatrix due to mismatched devices. This might lead to higher memory usage and slower performance. XGBoost is running on: cuda:0, while the input data is on: cpu.\n",
      "Potential solutions:\n",
      "- Use a data structure that matches the device ordinal in the booster.\n",
      "- Set the device for booster before call to inplace_predict.\n",
      "\n",
      "This warning will only be shown once.\n",
      "\n",
      "  return func(**kwargs)\n"
     ]
    },
    {
     "name": "stdout",
     "output_type": "stream",
     "text": [
      "  XGBoost 训练完成。\n",
      "  训练 BERT...\n"
     ]
    },
    {
     "data": {
      "text/html": [
       "\n",
       "    <div>\n",
       "      \n",
       "      <progress value='2400' max='2400' style='width:300px; height:20px; vertical-align: middle;'></progress>\n",
       "      [2400/2400 06:16, Epoch 3/3]\n",
       "    </div>\n",
       "    <table border=\"1\" class=\"dataframe\">\n",
       "  <thead>\n",
       " <tr style=\"text-align: left;\">\n",
       "      <th>Step</th>\n",
       "      <th>Training Loss</th>\n",
       "    </tr>\n",
       "  </thead>\n",
       "  <tbody>\n",
       "    <tr>\n",
       "      <td>500</td>\n",
       "      <td>0.447300</td>\n",
       "    </tr>\n",
       "    <tr>\n",
       "      <td>1000</td>\n",
       "      <td>0.371600</td>\n",
       "    </tr>\n",
       "    <tr>\n",
       "      <td>1500</td>\n",
       "      <td>0.314000</td>\n",
       "    </tr>\n",
       "    <tr>\n",
       "      <td>2000</td>\n",
       "      <td>0.234300</td>\n",
       "    </tr>\n",
       "  </tbody>\n",
       "</table><p>"
      ],
      "text/plain": [
       "<IPython.core.display.HTML object>"
      ]
     },
     "metadata": {},
     "output_type": "display_data"
    },
    {
     "data": {
      "text/html": [],
      "text/plain": [
       "<IPython.core.display.HTML object>"
      ]
     },
     "metadata": {},
     "output_type": "display_data"
    },
    {
     "name": "stdout",
     "output_type": "stream",
     "text": [
      "  BERT 训练完成。\n",
      "--- Fold 1 完成, 耗时: 435.70 秒 ---\n",
      "--- Fold 2/5 ---\n",
      "  训练 CatBoost...\n"
     ]
    },
    {
     "name": "stderr",
     "output_type": "stream",
     "text": [
      "Warning: less than 75% gpu memory available for training. Free: 5967 Total: 12281.5\n"
     ]
    },
    {
     "name": "stdout",
     "output_type": "stream",
     "text": [
      "  CatBoost 训练完成。\n",
      "  训练 XGBoost...\n"
     ]
    },
    {
     "name": "stderr",
     "output_type": "stream",
     "text": [
      "c:\\Users\\wjw20\\miniconda3\\envs\\IS6941\\Lib\\site-packages\\xgboost\\callback.py:386: UserWarning: [21:31:34] WARNING: C:\\actions-runner\\_work\\xgboost\\xgboost\\src\\learner.cc:738: \n",
      "Parameters: { \"use_label_encoder\" } are not used.\n",
      "\n",
      "  self.starting_round = model.num_boosted_rounds()\n"
     ]
    },
    {
     "name": "stdout",
     "output_type": "stream",
     "text": [
      "  XGBoost 训练完成。\n",
      "  训练 BERT...\n"
     ]
    },
    {
     "data": {
      "text/html": [
       "\n",
       "    <div>\n",
       "      \n",
       "      <progress value='2400' max='2400' style='width:300px; height:20px; vertical-align: middle;'></progress>\n",
       "      [2400/2400 06:13, Epoch 3/3]\n",
       "    </div>\n",
       "    <table border=\"1\" class=\"dataframe\">\n",
       "  <thead>\n",
       " <tr style=\"text-align: left;\">\n",
       "      <th>Step</th>\n",
       "      <th>Training Loss</th>\n",
       "    </tr>\n",
       "  </thead>\n",
       "  <tbody>\n",
       "    <tr>\n",
       "      <td>500</td>\n",
       "      <td>0.456900</td>\n",
       "    </tr>\n",
       "    <tr>\n",
       "      <td>1000</td>\n",
       "      <td>0.361800</td>\n",
       "    </tr>\n",
       "    <tr>\n",
       "      <td>1500</td>\n",
       "      <td>0.303600</td>\n",
       "    </tr>\n",
       "    <tr>\n",
       "      <td>2000</td>\n",
       "      <td>0.208600</td>\n",
       "    </tr>\n",
       "  </tbody>\n",
       "</table><p>"
      ],
      "text/plain": [
       "<IPython.core.display.HTML object>"
      ]
     },
     "metadata": {},
     "output_type": "display_data"
    },
    {
     "data": {
      "text/html": [],
      "text/plain": [
       "<IPython.core.display.HTML object>"
      ]
     },
     "metadata": {},
     "output_type": "display_data"
    },
    {
     "name": "stdout",
     "output_type": "stream",
     "text": [
      "  BERT 训练完成。\n",
      "--- Fold 2 完成, 耗时: 434.44 秒 ---\n",
      "--- Fold 3/5 ---\n",
      "  训练 CatBoost...\n"
     ]
    },
    {
     "name": "stderr",
     "output_type": "stream",
     "text": [
      "Warning: less than 75% gpu memory available for training. Free: 5579 Total: 12281.5\n"
     ]
    },
    {
     "name": "stdout",
     "output_type": "stream",
     "text": [
      "  CatBoost 训练完成。\n",
      "  训练 XGBoost...\n"
     ]
    },
    {
     "name": "stderr",
     "output_type": "stream",
     "text": [
      "c:\\Users\\wjw20\\miniconda3\\envs\\IS6941\\Lib\\site-packages\\xgboost\\callback.py:386: UserWarning: [21:38:43] WARNING: C:\\actions-runner\\_work\\xgboost\\xgboost\\src\\learner.cc:738: \n",
      "Parameters: { \"use_label_encoder\" } are not used.\n",
      "\n",
      "  self.starting_round = model.num_boosted_rounds()\n"
     ]
    },
    {
     "name": "stdout",
     "output_type": "stream",
     "text": [
      "  XGBoost 训练完成。\n",
      "  训练 BERT...\n"
     ]
    },
    {
     "data": {
      "text/html": [
       "\n",
       "    <div>\n",
       "      \n",
       "      <progress value='2400' max='2400' style='width:300px; height:20px; vertical-align: middle;'></progress>\n",
       "      [2400/2400 06:13, Epoch 3/3]\n",
       "    </div>\n",
       "    <table border=\"1\" class=\"dataframe\">\n",
       "  <thead>\n",
       " <tr style=\"text-align: left;\">\n",
       "      <th>Step</th>\n",
       "      <th>Training Loss</th>\n",
       "    </tr>\n",
       "  </thead>\n",
       "  <tbody>\n",
       "    <tr>\n",
       "      <td>500</td>\n",
       "      <td>0.449800</td>\n",
       "    </tr>\n",
       "    <tr>\n",
       "      <td>1000</td>\n",
       "      <td>0.365000</td>\n",
       "    </tr>\n",
       "    <tr>\n",
       "      <td>1500</td>\n",
       "      <td>0.305200</td>\n",
       "    </tr>\n",
       "    <tr>\n",
       "      <td>2000</td>\n",
       "      <td>0.232900</td>\n",
       "    </tr>\n",
       "  </tbody>\n",
       "</table><p>"
      ],
      "text/plain": [
       "<IPython.core.display.HTML object>"
      ]
     },
     "metadata": {},
     "output_type": "display_data"
    },
    {
     "data": {
      "text/html": [],
      "text/plain": [
       "<IPython.core.display.HTML object>"
      ]
     },
     "metadata": {},
     "output_type": "display_data"
    },
    {
     "name": "stdout",
     "output_type": "stream",
     "text": [
      "  BERT 训练完成。\n",
      "--- Fold 3 完成, 耗时: 425.86 秒 ---\n",
      "--- Fold 4/5 ---\n",
      "  训练 CatBoost...\n"
     ]
    },
    {
     "name": "stderr",
     "output_type": "stream",
     "text": [
      "Warning: less than 75% gpu memory available for training. Free: 5149 Total: 12281.5\n"
     ]
    },
    {
     "name": "stdout",
     "output_type": "stream",
     "text": [
      "  CatBoost 训练完成。\n",
      "  训练 XGBoost...\n"
     ]
    },
    {
     "name": "stderr",
     "output_type": "stream",
     "text": [
      "c:\\Users\\wjw20\\miniconda3\\envs\\IS6941\\Lib\\site-packages\\xgboost\\callback.py:386: UserWarning: [21:45:47] WARNING: C:\\actions-runner\\_work\\xgboost\\xgboost\\src\\learner.cc:738: \n",
      "Parameters: { \"use_label_encoder\" } are not used.\n",
      "\n",
      "  self.starting_round = model.num_boosted_rounds()\n"
     ]
    },
    {
     "name": "stdout",
     "output_type": "stream",
     "text": [
      "  XGBoost 训练完成。\n",
      "  训练 BERT...\n"
     ]
    },
    {
     "data": {
      "text/html": [
       "\n",
       "    <div>\n",
       "      \n",
       "      <progress value='2400' max='2400' style='width:300px; height:20px; vertical-align: middle;'></progress>\n",
       "      [2400/2400 06:13, Epoch 3/3]\n",
       "    </div>\n",
       "    <table border=\"1\" class=\"dataframe\">\n",
       "  <thead>\n",
       " <tr style=\"text-align: left;\">\n",
       "      <th>Step</th>\n",
       "      <th>Training Loss</th>\n",
       "    </tr>\n",
       "  </thead>\n",
       "  <tbody>\n",
       "    <tr>\n",
       "      <td>500</td>\n",
       "      <td>0.440400</td>\n",
       "    </tr>\n",
       "    <tr>\n",
       "      <td>1000</td>\n",
       "      <td>0.365700</td>\n",
       "    </tr>\n",
       "    <tr>\n",
       "      <td>1500</td>\n",
       "      <td>0.290300</td>\n",
       "    </tr>\n",
       "    <tr>\n",
       "      <td>2000</td>\n",
       "      <td>0.196200</td>\n",
       "    </tr>\n",
       "  </tbody>\n",
       "</table><p>"
      ],
      "text/plain": [
       "<IPython.core.display.HTML object>"
      ]
     },
     "metadata": {},
     "output_type": "display_data"
    },
    {
     "data": {
      "text/html": [],
      "text/plain": [
       "<IPython.core.display.HTML object>"
      ]
     },
     "metadata": {},
     "output_type": "display_data"
    },
    {
     "name": "stdout",
     "output_type": "stream",
     "text": [
      "  BERT 训练完成。\n",
      "--- Fold 4 完成, 耗时: 421.46 秒 ---\n",
      "--- Fold 5/5 ---\n",
      "  训练 CatBoost...\n"
     ]
    },
    {
     "name": "stderr",
     "output_type": "stream",
     "text": [
      "Warning: less than 75% gpu memory available for training. Free: 4667 Total: 12281.5\n"
     ]
    },
    {
     "name": "stdout",
     "output_type": "stream",
     "text": [
      "  CatBoost 训练完成。\n",
      "  训练 XGBoost...\n"
     ]
    },
    {
     "name": "stderr",
     "output_type": "stream",
     "text": [
      "c:\\Users\\wjw20\\miniconda3\\envs\\IS6941\\Lib\\site-packages\\xgboost\\callback.py:386: UserWarning: [21:52:36] WARNING: C:\\actions-runner\\_work\\xgboost\\xgboost\\src\\learner.cc:738: \n",
      "Parameters: { \"use_label_encoder\" } are not used.\n",
      "\n",
      "  self.starting_round = model.num_boosted_rounds()\n"
     ]
    },
    {
     "name": "stdout",
     "output_type": "stream",
     "text": [
      "  XGBoost 训练完成。\n",
      "  训练 BERT...\n"
     ]
    },
    {
     "data": {
      "text/html": [
       "\n",
       "    <div>\n",
       "      \n",
       "      <progress value='2400' max='2400' style='width:300px; height:20px; vertical-align: middle;'></progress>\n",
       "      [2400/2400 06:12, Epoch 3/3]\n",
       "    </div>\n",
       "    <table border=\"1\" class=\"dataframe\">\n",
       "  <thead>\n",
       " <tr style=\"text-align: left;\">\n",
       "      <th>Step</th>\n",
       "      <th>Training Loss</th>\n",
       "    </tr>\n",
       "  </thead>\n",
       "  <tbody>\n",
       "    <tr>\n",
       "      <td>500</td>\n",
       "      <td>0.440900</td>\n",
       "    </tr>\n",
       "    <tr>\n",
       "      <td>1000</td>\n",
       "      <td>0.357100</td>\n",
       "    </tr>\n",
       "    <tr>\n",
       "      <td>1500</td>\n",
       "      <td>0.294000</td>\n",
       "    </tr>\n",
       "    <tr>\n",
       "      <td>2000</td>\n",
       "      <td>0.201000</td>\n",
       "    </tr>\n",
       "  </tbody>\n",
       "</table><p>"
      ],
      "text/plain": [
       "<IPython.core.display.HTML object>"
      ]
     },
     "metadata": {},
     "output_type": "display_data"
    },
    {
     "data": {
      "text/html": [],
      "text/plain": [
       "<IPython.core.display.HTML object>"
      ]
     },
     "metadata": {},
     "output_type": "display_data"
    },
    {
     "name": "stdout",
     "output_type": "stream",
     "text": [
      "  BERT 训练完成。\n",
      "--- Fold 5 完成, 耗时: 409.02 秒 ---\n",
      "\n",
      "OOF 预测生成完毕。\n",
      "\n",
      "使用 K-Fold 模型平均生成测试集预测...\n",
      "测试集预测生成完毕。\n"
     ]
    }
   ],
   "source": [
    "# --- 4. Generate OOF and Test Predictions ---\n",
    "kf = StratifiedKFold(n_splits=n_splits, shuffle=True, random_state=random_state)\n",
    "\n",
    "# Initialize arrays to store predictions (using length of train_ids)\n",
    "oof_preds_catboost = np.zeros((len(train_ids), n_classes))\n",
    "oof_preds_xgb = np.zeros((len(train_ids), n_classes))\n",
    "oof_preds_bert = np.zeros((len(train_ids), n_classes))\n",
    "\n",
    "# Use length of test_ids for test predictions\n",
    "test_preds_catboost = np.zeros((len(test_ids), n_classes))\n",
    "test_preds_xgb = np.zeros((len(test_ids), n_classes))\n",
    "test_preds_bert = np.zeros((len(test_ids), n_classes))\n",
    "\n",
    "# Store fitted base models for test prediction later\n",
    "base_models_catboost = []\n",
    "base_models_xgb_pipe = [] # Store the whole pipeline for XGB\n",
    "base_models_bert = []\n",
    "\n",
    "print(f\"\\n开始 {n_splits}-折交叉验证生成 OOF 预测...\")\n",
    "\n",
    "# kf.split now operates on a placeholder array of the size of train_ids\n",
    "# train_fold_idx/val_fold_idx are indices *within* train_ids array\n",
    "for fold, (train_fold_local_idx, val_fold_local_idx) in enumerate(kf.split(np.zeros(len(train_ids)), y_train_orig)):\n",
    "    print(f\"--- Fold {fold+1}/{n_splits} ---\")\n",
    "    fold_start_time = time.time()\n",
    "\n",
    "    # --- Get actual review_ids for this fold ---\n",
    "    train_fold_ids = train_ids[train_fold_local_idx]\n",
    "    val_fold_ids = train_ids[val_fold_local_idx]\n",
    "\n",
    "    # --- Get data for this fold using review_ids from df_aligned ---\n",
    "    # Use .loc with the simple review_id index\n",
    "    X_train_fold_aligned = df_aligned.loc[train_fold_ids]\n",
    "    y_train_fold = y.loc[train_fold_ids]\n",
    "    X_val_fold_aligned = df_aligned.loc[val_fold_ids]\n",
    "    y_val_fold = y.loc[val_fold_ids]\n",
    "\n",
    "    # --- Train CatBoost ---\n",
    "    print(f\"  训练 CatBoost...\")\n",
    "    cb_model = CatBoostClassifier(**cb_params)\n",
    "    # Features for CatBoost from X_train_fold_aligned\n",
    "    cb_features_train = X_train_fold_aligned[['review_content_cleaned', 'game_name', 'likes']]\n",
    "    cb_features_val = X_val_fold_aligned[['review_content_cleaned', 'game_name', 'likes']]\n",
    "\n",
    "    cb_model.fit(cb_features_train, y_train_fold,\n",
    "                 eval_set=(cb_features_val, y_val_fold)\n",
    "                 # text_features and cat_features are defined in cb_params\n",
    "                )\n",
    "    # Store predictions in OOF array using val_fold_local_idx\n",
    "    oof_preds_catboost[val_fold_local_idx] = cb_model.predict_proba(cb_features_val)\n",
    "    base_models_catboost.append(cb_model)\n",
    "    print(f\"  CatBoost 训练完成。\")\n",
    "\n",
    "    # --- Train XGBoost ---\n",
    "    print(f\"  训练 XGBoost...\")\n",
    "    xgb_pipe_fold = Pipeline(steps=[('preprocessor', xgb_preprocessor),\n",
    "                                    ('classifier', xgb.XGBClassifier(**xgb_params))])\n",
    "    # Define columns for XGBoost pipeline input\n",
    "    xgb_input_cols = [xgb_text_col] + xgb_cat_cols + xgb_num_cols\n",
    "    # Fit preprocessor on fold training data\n",
    "    xgb_preprocessor_fitted = xgb_pipe_fold.named_steps['preprocessor'].fit(X_train_fold_aligned[xgb_input_cols])\n",
    "    # Transform data\n",
    "    X_train_processed = xgb_preprocessor_fitted.transform(X_train_fold_aligned[xgb_input_cols])\n",
    "    X_val_processed = xgb_preprocessor_fitted.transform(X_val_fold_aligned[xgb_input_cols])\n",
    "    # Fit classifier with early stopping\n",
    "    xgb_pipe_fold.named_steps['classifier'].fit(X_train_processed, y_train_fold,\n",
    "                                                eval_set=[(X_val_processed, y_val_fold)],\n",
    "                                                verbose=False)\n",
    "    # Predict probabilities using the fitted pipeline\n",
    "    oof_preds_xgb[val_fold_local_idx] = xgb_pipe_fold.predict_proba(X_val_fold_aligned[xgb_input_cols])\n",
    "    base_models_xgb_pipe.append(xgb_pipe_fold)\n",
    "    print(f\"  XGBoost 训练完成。\")\n",
    "\n",
    "    # --- Train BERT ---\n",
    "    print(f\"  训练 BERT...\")\n",
    "    bert_model = BertForSequenceClassification.from_pretrained(bert_model_name, num_labels=n_classes)\n",
    "    bert_model.to(device)\n",
    "    # Get LM text data for the fold\n",
    "    X_train_fold_lm_texts = X_train_fold_aligned['review_content_lm'].tolist()\n",
    "    X_val_fold_lm_texts = X_val_fold_aligned['review_content_lm'].tolist()\n",
    "\n",
    "    train_fold_dataset = SentimentDataset(X_train_fold_lm_texts, y_train_fold.tolist(), bert_tokenizer)\n",
    "    trainer = Trainer(model=bert_model, args=bert_train_args, train_dataset=train_fold_dataset)\n",
    "    trainer.train()\n",
    "\n",
    "    # Predict on validation fold\n",
    "    val_fold_dataset = SentimentDataset(X_val_fold_lm_texts, y_val_fold.tolist(), bert_tokenizer)\n",
    "    val_predictions = trainer.predict(val_fold_dataset)\n",
    "    oof_preds_bert[val_fold_local_idx] = torch.softmax(torch.tensor(val_predictions.predictions), dim=-1).numpy()\n",
    "    base_models_bert.append(bert_model)\n",
    "    print(f\"  BERT 训练完成。\")\n",
    "\n",
    "    fold_end_time = time.time()\n",
    "    print(f\"--- Fold {fold+1} 完成, 耗时: {fold_end_time - fold_start_time:.2f} 秒 ---\")\n",
    "\n",
    "print(f\"\\nOOF 预测生成完毕。\")\n",
    "\n",
    "# --- Generate Test Predictions using models trained on full training data ---\n",
    "print(\"\\n使用 K-Fold 模型平均生成测试集预测...\")\n",
    "# Get test data using test_ids from df_aligned\n",
    "X_test_aligned = df_aligned.loc[test_ids]\n",
    "y_test_final = y.loc[test_ids] # Ensure y_test_final is correct\n",
    "\n",
    "# Average CatBoost predictions\n",
    "cb_features_test = X_test_aligned[['review_content_cleaned', 'game_name', 'likes']]\n",
    "test_preds_catboost_all_folds = np.array([model.predict_proba(cb_features_test) for model in base_models_catboost])\n",
    "test_preds_catboost = np.mean(test_preds_catboost_all_folds, axis=0)\n",
    "\n",
    "# Average XGBoost predictions\n",
    "xgb_input_cols = [xgb_text_col] + xgb_cat_cols + xgb_num_cols\n",
    "test_preds_xgb_all_folds = np.array([pipe.predict_proba(X_test_aligned[xgb_input_cols]) for pipe in base_models_xgb_pipe])\n",
    "test_preds_xgb = np.mean(test_preds_xgb_all_folds, axis=0)\n",
    "\n",
    "# Average BERT predictions\n",
    "X_test_lm_texts = X_test_aligned['review_content_lm'].tolist()\n",
    "test_dataset_final = SentimentDataset(X_test_lm_texts, y_test_final.tolist(), bert_tokenizer)\n",
    "test_preds_bert_all_folds = []\n",
    "dummy_args = TrainingArguments(output_dir=os.path.join(output_dir, 'bert_dummy'), report_to=\"none\", per_device_eval_batch_size=64, fp16=bert_train_args.fp16)\n",
    "for model in base_models_bert:\n",
    "    model.eval()\n",
    "    dummy_trainer = Trainer(model=model, args=dummy_args)\n",
    "    with torch.no_grad():\n",
    "        predictions = dummy_trainer.predict(test_dataset_final)\n",
    "    probs = torch.softmax(torch.tensor(predictions.predictions), dim=-1).cpu().numpy()\n",
    "    test_preds_bert_all_folds.append(probs)\n",
    "test_preds_bert = np.mean(np.array(test_preds_bert_all_folds), axis=0)\n",
    "\n",
    "print(\"测试集预测生成完毕。\")"
   ]
  },
  {
   "cell_type": "code",
   "execution_count": 7,
   "id": "a205a6c6",
   "metadata": {},
   "outputs": [
    {
     "name": "stdout",
     "output_type": "stream",
     "text": [
      "\n",
      "准备 Meta-Model 输入...\n",
      "Meta Train 特征维度: (31988, 6)\n",
      "Meta Test 特征维度: (7997, 6)\n"
     ]
    }
   ],
   "source": [
    "# --- 5. Prepare Meta-Model Input ---\n",
    "print(\"\\n准备 Meta-Model 输入...\")\n",
    "# X_meta_train uses the OOF predictions\n",
    "X_meta_train = np.concatenate([oof_preds_catboost, oof_preds_xgb, oof_preds_bert], axis=1)\n",
    "# X_meta_test uses the averaged test predictions\n",
    "X_meta_test = np.concatenate([test_preds_catboost, test_preds_xgb, test_preds_bert], axis=1)\n",
    "\n",
    "print(f\"Meta Train 特征维度: {X_meta_train.shape}\") # Should be (n_train_samples, n_models * n_classes)\n",
    "print(f\"Meta Test 特征维度: {X_meta_test.shape}\")   # Should be (n_test_samples, n_models * n_classes)"
   ]
  },
  {
   "cell_type": "code",
   "execution_count": 27,
   "id": "32cc2a50",
   "metadata": {},
   "outputs": [
    {
     "name": "stdout",
     "output_type": "stream",
     "text": [
      "\n",
      "训练 Meta-Model (Logistic Regression with GridSearchCV for C)...\n",
      "Fitting 5 folds for each of 5 candidates, totalling 25 fits\n",
      "Meta-Model 最佳参数 (C): {'C': 10}\n",
      "Meta-Model 最佳 CV 分数: 0.8608\n",
      "Meta-Model 训练完成。\n"
     ]
    }
   ],
   "source": [
    "import lightgbm as lgb\n",
    "from sklearn.model_selection import RandomizedSearchCV, StratifiedKFold\n",
    "from scipy.stats import randint, uniform # For defining parameter distributions\n",
    "\n",
    "# --- 替换步骤 6 ---\n",
    "print(\"\\n训练 Meta-Model (Logistic Regression with GridSearchCV for C)...\")\n",
    "# 定义参数网格\n",
    "param_grid = {'C': [0.01, 0.1, 1, 10, 100]}\n",
    "# 使用 StratifiedKFold 进行内部交叉验证以选择 C\n",
    "inner_cv = StratifiedKFold(n_splits=5, shuffle=True, random_state=random_state)\n",
    "# 初始化 Logistic Regression\n",
    "lr_meta = LogisticRegression(random_state=random_state, max_iter=2000, solver='liblinear') # solver='liblinear' 对 L1/L2 都适用\n",
    "\n",
    "# 设置 GridSearchCV\n",
    "meta_model_search = GridSearchCV(estimator=lr_meta,\n",
    "                                 param_grid=param_grid,\n",
    "                                 cv=inner_cv,\n",
    "                                 scoring='accuracy', # 或 'f1_weighted' 等\n",
    "                                 refit=True, # 用最佳参数在整个 X_meta_train 上重新训练\n",
    "                                 verbose=1) # 显示搜索过程\n",
    "\n",
    "# 在 OOF 预测和原始训练标签上进行搜索和训练\n",
    "meta_model_search.fit(X_meta_train, y_train_orig)\n",
    "\n",
    "print(f\"Meta-Model 最佳参数 (C): {meta_model_search.best_params_}\")\n",
    "print(f\"Meta-Model 最佳 CV 分数: {meta_model_search.best_score_:.4f}\")\n",
    "# 最优模型存储在 meta_model_search.best_estimator_\n",
    "meta_model = meta_model_search.best_estimator_ # 使用找到的最佳模型\n",
    "print(\"Meta-Model 训练完成。\")\n",
    "\n",
    "# # --- 替换步骤 6 ---\n",
    "# print(\"\\n训练 Meta-Model (LightGBM with RandomizedSearch)...\")\n",
    "\n",
    "# # --- 定义 LightGBM Meta-Model 的参数搜索空间 ---\n",
    "# # 可以根据需要调整范围和分布类型\n",
    "# param_dist = {\n",
    "#     'n_estimators': randint(50, 500), # 随机整数范围\n",
    "#     'learning_rate': uniform(0.01, 0.2), # 均匀分布\n",
    "#     'num_leaves': randint(10, 50),\n",
    "#     'max_depth': randint(3, 10),\n",
    "#     'reg_alpha': uniform(0, 1), # L1 正则化\n",
    "#     'reg_lambda': uniform(0, 1), # L2 正则化\n",
    "#     # 'colsample_bytree': uniform(0.6, 0.4), # 0.6 to 1.0 (0.6 + 0.4)\n",
    "#     # 'subsample': uniform(0.6, 0.4)\n",
    "# }\n",
    "\n",
    "# # 初始化基础 LightGBM 分类器\n",
    "# lgbm_meta_base = lgb.LGBMClassifier(\n",
    "#     objective='binary',\n",
    "#     metric='binary_logloss',\n",
    "#     seed=random_state,\n",
    "#     n_jobs=-1,\n",
    "#     verbose=-1 # 关闭 LightGBM 自身的啰嗦输出\n",
    "# )\n",
    "\n",
    "# # 设置内部交叉验证策略 (用于评估超参数)\n",
    "# # 使用与外部 K-Fold 不同的 random_state 是个好习惯，但也可以相同\n",
    "# inner_cv = StratifiedKFold(n_splits=5, shuffle=True, random_state=random_state + 1)\n",
    "\n",
    "# # 设置 RandomizedSearchCV\n",
    "# # n_iter 控制抽样的参数组合数量\n",
    "# n_iter_search = 50 # 可以增加这个值以进行更广泛的搜索，但会增加时间\n",
    "# meta_model_search = RandomizedSearchCV(\n",
    "#     estimator=lgbm_meta_base,\n",
    "#     param_distributions=param_dist,\n",
    "#     n_iter=n_iter_search, # 尝试的参数组合数量\n",
    "#     cv=inner_cv,\n",
    "#     scoring='accuracy', # 或 'f1_weighted', 'roc_auc' 等\n",
    "#     refit=True, # 用找到的最佳参数在整个 X_meta_train 上重新训练模型\n",
    "#     random_state=random_state, # 控制抽样的随机性\n",
    "#     verbose=1 # 显示搜索进度\n",
    "# )\n",
    "\n",
    "# print(f\"开始在 {n_iter_search} 个参数组合上进行 RandomizedSearch...\")\n",
    "# # 在 OOF 预测 (X_meta_train) 和原始训练标签 (y_train_orig) 上进行搜索和训练\n",
    "# start_search_time = time.time()\n",
    "# meta_model_search.fit(X_meta_train, y_train_orig)\n",
    "# end_search_time = time.time()\n",
    "# print(f\"RandomizedSearch 完成，耗时: {end_search_time - start_search_time:.2f} 秒\")\n",
    "\n",
    "# print(f\"\\nMeta-Model (LightGBM) 最佳参数: {meta_model_search.best_params_}\")\n",
    "# print(f\"Meta-Model (LightGBM) 最佳 CV 分数: {meta_model_search.best_score_:.4f}\")\n",
    "\n",
    "# # 最优模型存储在 meta_model_search.best_estimator_\n",
    "# meta_model = meta_model_search.best_estimator_\n",
    "# print(\"Meta-Model (LightGBM with best params) 训练完成。\")"
   ]
  },
  {
   "cell_type": "code",
   "execution_count": 28,
   "id": "f2015dfe",
   "metadata": {},
   "outputs": [
    {
     "name": "stdout",
     "output_type": "stream",
     "text": [
      "\n",
      "使用 Meta-Model 在测试集上进行最终预测...\n"
     ]
    }
   ],
   "source": [
    "# --- 7. Final Prediction with Meta-Model ---\n",
    "print(\"\\n使用 Meta-Model 在测试集上进行最终预测...\")\n",
    "final_predictions = meta_model.predict(X_meta_test)\n",
    "final_probabilities = meta_model.predict_proba(X_meta_test)"
   ]
  },
  {
   "cell_type": "code",
   "execution_count": 29,
   "id": "5a3d01d8",
   "metadata": {},
   "outputs": [
    {
     "name": "stdout",
     "output_type": "stream",
     "text": [
      "\n",
      "--- Stacking 集成模型最终评估 ---\n",
      "分类报告:\n",
      "              precision    recall  f1-score   support\n",
      "\n",
      "           0       0.83      0.72      0.77      2726\n",
      "           1       0.86      0.92      0.89      5271\n",
      "\n",
      "    accuracy                           0.85      7997\n",
      "   macro avg       0.85      0.82      0.83      7997\n",
      "weighted avg       0.85      0.85      0.85      7997\n",
      "\n",
      "\n",
      "最终准确率: 0.8531\n",
      "\n",
      "混淆矩阵:\n",
      "[[1960  766]\n",
      " [ 409 4862]]\n"
     ]
    },
    {
     "data": {
      "image/png": "[encoded data removed]",
      "text/plain": [
       "<Figure size 800x600 with 2 Axes>"
      ]
     },
     "metadata": {},
     "output_type": "display_data"
    },
    {
     "name": "stdout",
     "output_type": "stream",
     "text": [
      "\n",
      "Stacking 脚本执行完毕。\n"
     ]
    }
   ],
   "source": [
    "# --- 8. Evaluate Final Stacked Model ---\n",
    "print(\"\\n--- Stacking 集成模型最终评估 ---\")\n",
    "\n",
    "# Classification Report\n",
    "print(\"分类报告:\")\n",
    "try:\n",
    "    # Ensure y_test_final is used here\n",
    "    target_names = [str(c) for c in sorted(np.unique(y_test_final))] # Use unique values from y_test_final\n",
    "    print(classification_report(y_test_final, final_predictions, target_names=target_names))\n",
    "except Exception as e:\n",
    "    print(f\"生成分类报告时出错: {e}\")\n",
    "    print(classification_report(y_test_final, final_predictions))\n",
    "\n",
    "# Accuracy\n",
    "accuracy = accuracy_score(y_test_final, final_predictions)\n",
    "print(f\"\\n最终准确率: {accuracy:.4f}\")\n",
    "\n",
    "# Confusion Matrix\n",
    "print(\"\\n混淆矩阵:\")\n",
    "cm = confusion_matrix(y_test_final, final_predictions)\n",
    "print(cm)\n",
    "\n",
    "# Visualize Confusion Matrix\n",
    "try:\n",
    "    plt.figure(figsize=(8, 6))\n",
    "    sns.heatmap(cm, annot=True, fmt='d', cmap='Blues', xticklabels=target_names, yticklabels=target_names)\n",
    "    plt.xlabel('Predicted Label')\n",
    "    plt.ylabel('True Label')\n",
    "    plt.title('Stacking Ensemble Model Confusion Matrix (Comp Key Align)') # Updated title\n",
    "    plt.show()\n",
    "except NameError:\n",
    "    print(\"\\n无法绘制混淆矩阵，可能缺少 target_names。\")\n",
    "except Exception as e:\n",
    "    print(f\"\\n绘制混淆矩阵时出错: {e}\")\n",
    "\n",
    "print(\"\\nStacking 脚本执行完毕。\")\n",
    "\n",
    "# Optional: Clean up BERT temp directories if needed\n",
    "# import shutil\n",
    "# shutil.rmtree(os.path.join(output_dir, 'bert_temp'), ignore_errors=True)\n",
    "# shutil.rmtree(os.path.join(output_dir, 'bert_dummy'), ignore_errors=True)"
   ]
  }
 ],
 "metadata": {
  "kernelspec": {
   "display_name": "IS6941",
   "language": "python",
   "name": "python3"
  },
  "language_info": {
   "codemirror_mode": {
    "name": "ipython",
    "version": 3
   },
   "file_extension": ".py",
   "mimetype": "text/x-python",
   "name": "python",
   "nbconvert_exporter": "python",
   "pygments_lexer": "ipython3",
   "version": "3.11.11"
  }
 },
 "nbformat": 4,
 "nbformat_minor": 5
}
