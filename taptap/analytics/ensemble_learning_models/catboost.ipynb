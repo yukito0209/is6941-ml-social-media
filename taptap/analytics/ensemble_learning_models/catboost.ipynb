{
 "cells": [
  {
   "cell_type": "code",
   "execution_count": 924,
   "id": "2e4c68ce",
   "metadata": {},
   "outputs": [],
   "source": [
    "import pandas as pd\n",
    "from catboost import CatBoostClassifier, Pool\n",
    "from sklearn.model_selection import train_test_split\n",
    "from sklearn.metrics import classification_report, accuracy_score, f1_score, confusion_matrix\n",
    "import jieba\n",
    "import re"
   ]
  },
  {
   "cell_type": "code",
   "execution_count": 925,
   "id": "7ada9548",
   "metadata": {},
   "outputs": [],
   "source": [
    "# 在特征工程前添加增强预处理\n",
    "def clean_review(text):\n",
    "    # 处理NaN并转换为字符串\n",
    "    text = str(text) if pd.notna(text) else ''\n",
    "    # 去除首尾空格\n",
    "    text = text.strip()\n",
    "    # 处理纯空格情况\n",
    "    return 'no_content' if len(text) == 0 else text"
   ]
  },
  {
   "cell_type": "code",
   "execution_count": 926,
   "id": "3d5fded7",
   "metadata": {},
   "outputs": [],
   "source": [
    "# 加载预处理数据\n",
    "df = pd.read_csv(r\"/Users/wangjingwen/Documents/GitHub/is6941-ml-social-media/taptap/data/integrated/cleaned_taptap_reviews.csv\")\n",
    "# 应用清洗\n",
    "df['review_content'] = df['review_content'].apply(clean_review)"
   ]
  },
  {
   "cell_type": "code",
   "execution_count": 927,
   "id": "4c432863",
   "metadata": {},
   "outputs": [],
   "source": [
    "# 仅保留文本内容和目标变量\n",
    "df = df[['review_content', 'sentiment']].copy()"
   ]
  },
  {
   "cell_type": "code",
   "execution_count": 928,
   "id": "472a14cc",
   "metadata": {},
   "outputs": [],
   "source": [
    "# 划分特征和目标\n",
    "X = df.drop('sentiment', axis=1)\n",
    "y = df['sentiment']"
   ]
  },
  {
   "cell_type": "code",
   "execution_count": 929,
   "id": "2d3aa1d3",
   "metadata": {},
   "outputs": [],
   "source": [
    "# 数据集划分\n",
    "X_train, X_test, y_train, y_test = train_test_split(\n",
    "    X, y, test_size=0.2, random_state=42, stratify=y\n",
    ")"
   ]
  },
  {
   "cell_type": "code",
   "execution_count": 930,
   "id": "727027bb",
   "metadata": {},
   "outputs": [],
   "source": [
    "# 创建CatBoost数据池（仅包含文本特征）\n",
    "train_pool = Pool(\n",
    "    X_train, y_train,\n",
    "    text_features=['review_content']\n",
    ")\n",
    "\n",
    "test_pool = Pool(\n",
    "    X_test, y_test,\n",
    "    text_features=['review_content']\n",
    ")"
   ]
  },
  {
   "cell_type": "code",
   "execution_count": 931,
   "id": "12be2ed2",
   "metadata": {},
   "outputs": [],
   "source": [
    "# 中文优化模型配置\n",
    "model = CatBoostClassifier(\n",
    "    task_type='CPU',\n",
    "    iterations=10,          # 增加迭代次数配合更大的学习率\n",
    "    learning_rate=0.05,      # 提升学习率加速收敛\n",
    "    depth=8,                # 降低树深平衡复杂度\n",
    "    eval_metric='F1',\n",
    "    loss_function='Logloss',  # 自定义分类边界\n",
    "    # simple_ctr='Counter:CtrBorderCount=15:Prior=0.5',  # 改进CTR计算\n",
    "    class_weights=[1.2, 1.1],  # 调整权重比例\n",
    "    l2_leaf_reg=12,         # 增强正则化\n",
    "    random_strength=2.0,    # 提升随机性防止过拟合\n",
    "    thread_count=8,         # 减少线程数防止内存竞争\n",
    "    bootstrap_type='MVS',   # 更高效的采样方式\n",
    "    subsample=0.5,         # 子采样比例\n",
    "    max_ctr_complexity=2,   # 允许二阶特征组合\n",
    "    leaf_estimation_method='Newton',  # 改进叶子值计算方法\n",
    "    leaf_estimation_iterations=8,     # 增加迭代次数\n",
    "    # early_stopping_rounds=30,        # 添加早停机制\n",
    "    verbose=1\n",
    ")"
   ]
  },
  {
   "cell_type": "code",
   "execution_count": 932,
   "id": "03f30d32",
   "metadata": {},
   "outputs": [
    {
     "name": "stdout",
     "output_type": "stream",
     "text": [
      "0:\tlearn: 0.8386147\ttest: 0.8389960\tbest: 0.8389960 (0)\ttotal: 212ms\tremaining: 1.91s\n",
      "9:\tlearn: 0.8390412\ttest: 0.8390513\tbest: 0.8391612 (2)\ttotal: 1.77s\tremaining: 0us\n",
      "\n",
      "bestTest = 0.8391611991\n",
      "bestIteration = 2\n",
      "\n",
      "Shrink model to first 3 iterations.\n"
     ]
    },
    {
     "data": {
      "text/plain": [
       "<catboost.core.CatBoostClassifier at 0x154221b90>"
      ]
     },
     "execution_count": 932,
     "metadata": {},
     "output_type": "execute_result"
    }
   ],
   "source": [
    "# 训练模型\n",
    "model.fit(train_pool, eval_set=test_pool, verbose=50)"
   ]
  },
  {
   "cell_type": "code",
   "execution_count": 933,
   "id": "8bd986ba",
   "metadata": {},
   "outputs": [
    {
     "name": "stdout",
     "output_type": "stream",
     "text": [
      "\n",
      "测试集分类报告:\n",
      "              precision    recall  f1-score   support\n",
      "\n",
      "           0       0.70      0.71      0.70      2726\n",
      "           1       0.85      0.84      0.84      5271\n",
      "\n",
      "    accuracy                           0.80      7997\n",
      "   macro avg       0.77      0.78      0.77      7997\n",
      "weighted avg       0.80      0.80      0.80      7997\n",
      "\n",
      "混淆矩阵:\n",
      " [[1939  787]\n",
      " [ 840 4431]]\n"
     ]
    }
   ],
   "source": [
    "# 预测和评估\n",
    "y_pred = model.predict(test_pool)\n",
    "print(\"\\n测试集分类报告:\")\n",
    "print(classification_report(y_test, y_pred))\n",
    "print(\"混淆矩阵:\\n\", confusion_matrix(y_test, y_pred))"
   ]
  }
 ],
 "metadata": {
  "kernelspec": {
   "display_name": "IS6941",
   "language": "python",
   "name": "python3"
  },
  "language_info": {
   "codemirror_mode": {
    "name": "ipython",
    "version": 3
   },
   "file_extension": ".py",
   "mimetype": "text/x-python",
   "name": "python",
   "nbconvert_exporter": "python",
   "pygments_lexer": "ipython3",
   "version": "3.11.11"
  }
 },
 "nbformat": 4,
 "nbformat_minor": 5
}
