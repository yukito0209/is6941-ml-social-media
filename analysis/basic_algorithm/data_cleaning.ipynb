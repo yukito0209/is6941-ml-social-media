{
 "cells": [
  {
   "cell_type": "code",
   "execution_count": 2,
   "metadata": {},
   "outputs": [],
   "source": [
    "import pandas as pd\n",
    "import re\n",
    "import numpy as np\n",
    "from IPython.display import display"
   ]
  },
  {
   "cell_type": "code",
   "execution_count": null,
   "metadata": {},
   "outputs": [
    {
     "ename": "FileNotFoundError",
     "evalue": "[Errno 2] No such file or directory: 'D:\\\\GitHubRepos\\\\is6941-ml-social-media\\\\\\\\analysis\\\\data\\\\BV1dZwLeKEzG_comments.csv'",
     "output_type": "error",
     "traceback": [
      "\u001b[31m---------------------------------------------------------------------------\u001b[39m",
      "\u001b[31mFileNotFoundError\u001b[39m                         Traceback (most recent call last)",
      "\u001b[36mCell\u001b[39m\u001b[36m \u001b[39m\u001b[32mIn[3]\u001b[39m\u001b[32m, line 1\u001b[39m\n\u001b[32m----> \u001b[39m\u001b[32m1\u001b[39m df = \u001b[43mpd\u001b[49m\u001b[43m.\u001b[49m\u001b[43mread_csv\u001b[49m\u001b[43m(\u001b[49m\u001b[33;43mr\u001b[39;49m\u001b[33;43m\"\u001b[39;49m\u001b[33;43mD:\u001b[39;49m\u001b[33;43m\\\u001b[39;49m\u001b[33;43mGitHubRepos\u001b[39;49m\u001b[33;43m\\\u001b[39;49m\u001b[33;43mis6941-ml-social-media\u001b[39;49m\u001b[38;5;130;43;01m\\\\\u001b[39;49;00m\u001b[33;43manalysis\u001b[39;49m\u001b[33;43m\\\u001b[39;49m\u001b[33;43mdata\u001b[39;49m\u001b[33;43m\\\u001b[39;49m\u001b[33;43mBV1dZwLeKEzG_comments.csv\u001b[39;49m\u001b[33;43m\"\u001b[39;49m\u001b[43m)\u001b[49m\n\u001b[32m      2\u001b[39m display(df.head())\n",
      "\u001b[36mFile \u001b[39m\u001b[32m/opt/anaconda3/envs/IS6941/lib/python3.11/site-packages/pandas/io/parsers/readers.py:1026\u001b[39m, in \u001b[36mread_csv\u001b[39m\u001b[34m(filepath_or_buffer, sep, delimiter, header, names, index_col, usecols, dtype, engine, converters, true_values, false_values, skipinitialspace, skiprows, skipfooter, nrows, na_values, keep_default_na, na_filter, verbose, skip_blank_lines, parse_dates, infer_datetime_format, keep_date_col, date_parser, date_format, dayfirst, cache_dates, iterator, chunksize, compression, thousands, decimal, lineterminator, quotechar, quoting, doublequote, escapechar, comment, encoding, encoding_errors, dialect, on_bad_lines, delim_whitespace, low_memory, memory_map, float_precision, storage_options, dtype_backend)\u001b[39m\n\u001b[32m   1013\u001b[39m kwds_defaults = _refine_defaults_read(\n\u001b[32m   1014\u001b[39m     dialect,\n\u001b[32m   1015\u001b[39m     delimiter,\n\u001b[32m   (...)\u001b[39m\u001b[32m   1022\u001b[39m     dtype_backend=dtype_backend,\n\u001b[32m   1023\u001b[39m )\n\u001b[32m   1024\u001b[39m kwds.update(kwds_defaults)\n\u001b[32m-> \u001b[39m\u001b[32m1026\u001b[39m \u001b[38;5;28;01mreturn\u001b[39;00m \u001b[43m_read\u001b[49m\u001b[43m(\u001b[49m\u001b[43mfilepath_or_buffer\u001b[49m\u001b[43m,\u001b[49m\u001b[43m \u001b[49m\u001b[43mkwds\u001b[49m\u001b[43m)\u001b[49m\n",
      "\u001b[36mFile \u001b[39m\u001b[32m/opt/anaconda3/envs/IS6941/lib/python3.11/site-packages/pandas/io/parsers/readers.py:620\u001b[39m, in \u001b[36m_read\u001b[39m\u001b[34m(filepath_or_buffer, kwds)\u001b[39m\n\u001b[32m    617\u001b[39m _validate_names(kwds.get(\u001b[33m\"\u001b[39m\u001b[33mnames\u001b[39m\u001b[33m\"\u001b[39m, \u001b[38;5;28;01mNone\u001b[39;00m))\n\u001b[32m    619\u001b[39m \u001b[38;5;66;03m# Create the parser.\u001b[39;00m\n\u001b[32m--> \u001b[39m\u001b[32m620\u001b[39m parser = \u001b[43mTextFileReader\u001b[49m\u001b[43m(\u001b[49m\u001b[43mfilepath_or_buffer\u001b[49m\u001b[43m,\u001b[49m\u001b[43m \u001b[49m\u001b[43m*\u001b[49m\u001b[43m*\u001b[49m\u001b[43mkwds\u001b[49m\u001b[43m)\u001b[49m\n\u001b[32m    622\u001b[39m \u001b[38;5;28;01mif\u001b[39;00m chunksize \u001b[38;5;129;01mor\u001b[39;00m iterator:\n\u001b[32m    623\u001b[39m     \u001b[38;5;28;01mreturn\u001b[39;00m parser\n",
      "\u001b[36mFile \u001b[39m\u001b[32m/opt/anaconda3/envs/IS6941/lib/python3.11/site-packages/pandas/io/parsers/readers.py:1620\u001b[39m, in \u001b[36mTextFileReader.__init__\u001b[39m\u001b[34m(self, f, engine, **kwds)\u001b[39m\n\u001b[32m   1617\u001b[39m     \u001b[38;5;28mself\u001b[39m.options[\u001b[33m\"\u001b[39m\u001b[33mhas_index_names\u001b[39m\u001b[33m\"\u001b[39m] = kwds[\u001b[33m\"\u001b[39m\u001b[33mhas_index_names\u001b[39m\u001b[33m\"\u001b[39m]\n\u001b[32m   1619\u001b[39m \u001b[38;5;28mself\u001b[39m.handles: IOHandles | \u001b[38;5;28;01mNone\u001b[39;00m = \u001b[38;5;28;01mNone\u001b[39;00m\n\u001b[32m-> \u001b[39m\u001b[32m1620\u001b[39m \u001b[38;5;28mself\u001b[39m._engine = \u001b[38;5;28;43mself\u001b[39;49m\u001b[43m.\u001b[49m\u001b[43m_make_engine\u001b[49m\u001b[43m(\u001b[49m\u001b[43mf\u001b[49m\u001b[43m,\u001b[49m\u001b[43m \u001b[49m\u001b[38;5;28;43mself\u001b[39;49m\u001b[43m.\u001b[49m\u001b[43mengine\u001b[49m\u001b[43m)\u001b[49m\n",
      "\u001b[36mFile \u001b[39m\u001b[32m/opt/anaconda3/envs/IS6941/lib/python3.11/site-packages/pandas/io/parsers/readers.py:1880\u001b[39m, in \u001b[36mTextFileReader._make_engine\u001b[39m\u001b[34m(self, f, engine)\u001b[39m\n\u001b[32m   1878\u001b[39m     \u001b[38;5;28;01mif\u001b[39;00m \u001b[33m\"\u001b[39m\u001b[33mb\u001b[39m\u001b[33m\"\u001b[39m \u001b[38;5;129;01mnot\u001b[39;00m \u001b[38;5;129;01min\u001b[39;00m mode:\n\u001b[32m   1879\u001b[39m         mode += \u001b[33m\"\u001b[39m\u001b[33mb\u001b[39m\u001b[33m\"\u001b[39m\n\u001b[32m-> \u001b[39m\u001b[32m1880\u001b[39m \u001b[38;5;28mself\u001b[39m.handles = \u001b[43mget_handle\u001b[49m\u001b[43m(\u001b[49m\n\u001b[32m   1881\u001b[39m \u001b[43m    \u001b[49m\u001b[43mf\u001b[49m\u001b[43m,\u001b[49m\n\u001b[32m   1882\u001b[39m \u001b[43m    \u001b[49m\u001b[43mmode\u001b[49m\u001b[43m,\u001b[49m\n\u001b[32m   1883\u001b[39m \u001b[43m    \u001b[49m\u001b[43mencoding\u001b[49m\u001b[43m=\u001b[49m\u001b[38;5;28;43mself\u001b[39;49m\u001b[43m.\u001b[49m\u001b[43moptions\u001b[49m\u001b[43m.\u001b[49m\u001b[43mget\u001b[49m\u001b[43m(\u001b[49m\u001b[33;43m\"\u001b[39;49m\u001b[33;43mencoding\u001b[39;49m\u001b[33;43m\"\u001b[39;49m\u001b[43m,\u001b[49m\u001b[43m \u001b[49m\u001b[38;5;28;43;01mNone\u001b[39;49;00m\u001b[43m)\u001b[49m\u001b[43m,\u001b[49m\n\u001b[32m   1884\u001b[39m \u001b[43m    \u001b[49m\u001b[43mcompression\u001b[49m\u001b[43m=\u001b[49m\u001b[38;5;28;43mself\u001b[39;49m\u001b[43m.\u001b[49m\u001b[43moptions\u001b[49m\u001b[43m.\u001b[49m\u001b[43mget\u001b[49m\u001b[43m(\u001b[49m\u001b[33;43m\"\u001b[39;49m\u001b[33;43mcompression\u001b[39;49m\u001b[33;43m\"\u001b[39;49m\u001b[43m,\u001b[49m\u001b[43m \u001b[49m\u001b[38;5;28;43;01mNone\u001b[39;49;00m\u001b[43m)\u001b[49m\u001b[43m,\u001b[49m\n\u001b[32m   1885\u001b[39m \u001b[43m    \u001b[49m\u001b[43mmemory_map\u001b[49m\u001b[43m=\u001b[49m\u001b[38;5;28;43mself\u001b[39;49m\u001b[43m.\u001b[49m\u001b[43moptions\u001b[49m\u001b[43m.\u001b[49m\u001b[43mget\u001b[49m\u001b[43m(\u001b[49m\u001b[33;43m\"\u001b[39;49m\u001b[33;43mmemory_map\u001b[39;49m\u001b[33;43m\"\u001b[39;49m\u001b[43m,\u001b[49m\u001b[43m \u001b[49m\u001b[38;5;28;43;01mFalse\u001b[39;49;00m\u001b[43m)\u001b[49m\u001b[43m,\u001b[49m\n\u001b[32m   1886\u001b[39m \u001b[43m    \u001b[49m\u001b[43mis_text\u001b[49m\u001b[43m=\u001b[49m\u001b[43mis_text\u001b[49m\u001b[43m,\u001b[49m\n\u001b[32m   1887\u001b[39m \u001b[43m    \u001b[49m\u001b[43merrors\u001b[49m\u001b[43m=\u001b[49m\u001b[38;5;28;43mself\u001b[39;49m\u001b[43m.\u001b[49m\u001b[43moptions\u001b[49m\u001b[43m.\u001b[49m\u001b[43mget\u001b[49m\u001b[43m(\u001b[49m\u001b[33;43m\"\u001b[39;49m\u001b[33;43mencoding_errors\u001b[39;49m\u001b[33;43m\"\u001b[39;49m\u001b[43m,\u001b[49m\u001b[43m \u001b[49m\u001b[33;43m\"\u001b[39;49m\u001b[33;43mstrict\u001b[39;49m\u001b[33;43m\"\u001b[39;49m\u001b[43m)\u001b[49m\u001b[43m,\u001b[49m\n\u001b[32m   1888\u001b[39m \u001b[43m    \u001b[49m\u001b[43mstorage_options\u001b[49m\u001b[43m=\u001b[49m\u001b[38;5;28;43mself\u001b[39;49m\u001b[43m.\u001b[49m\u001b[43moptions\u001b[49m\u001b[43m.\u001b[49m\u001b[43mget\u001b[49m\u001b[43m(\u001b[49m\u001b[33;43m\"\u001b[39;49m\u001b[33;43mstorage_options\u001b[39;49m\u001b[33;43m\"\u001b[39;49m\u001b[43m,\u001b[49m\u001b[43m \u001b[49m\u001b[38;5;28;43;01mNone\u001b[39;49;00m\u001b[43m)\u001b[49m\u001b[43m,\u001b[49m\n\u001b[32m   1889\u001b[39m \u001b[43m\u001b[49m\u001b[43m)\u001b[49m\n\u001b[32m   1890\u001b[39m \u001b[38;5;28;01massert\u001b[39;00m \u001b[38;5;28mself\u001b[39m.handles \u001b[38;5;129;01mis\u001b[39;00m \u001b[38;5;129;01mnot\u001b[39;00m \u001b[38;5;28;01mNone\u001b[39;00m\n\u001b[32m   1891\u001b[39m f = \u001b[38;5;28mself\u001b[39m.handles.handle\n",
      "\u001b[36mFile \u001b[39m\u001b[32m/opt/anaconda3/envs/IS6941/lib/python3.11/site-packages/pandas/io/common.py:873\u001b[39m, in \u001b[36mget_handle\u001b[39m\u001b[34m(path_or_buf, mode, encoding, compression, memory_map, is_text, errors, storage_options)\u001b[39m\n\u001b[32m    868\u001b[39m \u001b[38;5;28;01melif\u001b[39;00m \u001b[38;5;28misinstance\u001b[39m(handle, \u001b[38;5;28mstr\u001b[39m):\n\u001b[32m    869\u001b[39m     \u001b[38;5;66;03m# Check whether the filename is to be opened in binary mode.\u001b[39;00m\n\u001b[32m    870\u001b[39m     \u001b[38;5;66;03m# Binary mode does not support 'encoding' and 'newline'.\u001b[39;00m\n\u001b[32m    871\u001b[39m     \u001b[38;5;28;01mif\u001b[39;00m ioargs.encoding \u001b[38;5;129;01mand\u001b[39;00m \u001b[33m\"\u001b[39m\u001b[33mb\u001b[39m\u001b[33m\"\u001b[39m \u001b[38;5;129;01mnot\u001b[39;00m \u001b[38;5;129;01min\u001b[39;00m ioargs.mode:\n\u001b[32m    872\u001b[39m         \u001b[38;5;66;03m# Encoding\u001b[39;00m\n\u001b[32m--> \u001b[39m\u001b[32m873\u001b[39m         handle = \u001b[38;5;28;43mopen\u001b[39;49m\u001b[43m(\u001b[49m\n\u001b[32m    874\u001b[39m \u001b[43m            \u001b[49m\u001b[43mhandle\u001b[49m\u001b[43m,\u001b[49m\n\u001b[32m    875\u001b[39m \u001b[43m            \u001b[49m\u001b[43mioargs\u001b[49m\u001b[43m.\u001b[49m\u001b[43mmode\u001b[49m\u001b[43m,\u001b[49m\n\u001b[32m    876\u001b[39m \u001b[43m            \u001b[49m\u001b[43mencoding\u001b[49m\u001b[43m=\u001b[49m\u001b[43mioargs\u001b[49m\u001b[43m.\u001b[49m\u001b[43mencoding\u001b[49m\u001b[43m,\u001b[49m\n\u001b[32m    877\u001b[39m \u001b[43m            \u001b[49m\u001b[43merrors\u001b[49m\u001b[43m=\u001b[49m\u001b[43merrors\u001b[49m\u001b[43m,\u001b[49m\n\u001b[32m    878\u001b[39m \u001b[43m            \u001b[49m\u001b[43mnewline\u001b[49m\u001b[43m=\u001b[49m\u001b[33;43m\"\u001b[39;49m\u001b[33;43m\"\u001b[39;49m\u001b[43m,\u001b[49m\n\u001b[32m    879\u001b[39m \u001b[43m        \u001b[49m\u001b[43m)\u001b[49m\n\u001b[32m    880\u001b[39m     \u001b[38;5;28;01melse\u001b[39;00m:\n\u001b[32m    881\u001b[39m         \u001b[38;5;66;03m# Binary mode\u001b[39;00m\n\u001b[32m    882\u001b[39m         handle = \u001b[38;5;28mopen\u001b[39m(handle, ioargs.mode)\n",
      "\u001b[31mFileNotFoundError\u001b[39m: [Errno 2] No such file or directory: 'D:\\\\GitHubRepos\\\\is6941-ml-social-media\\\\\\\\analysis\\\\data\\\\BV1dZwLeKEzG_comments.csv'"
     ]
    }
   ],
   "source": [
    "df = pd.read_csv(r\"D:\\GitHubRepos\\is6941-ml-social-media\\\\analysis\\data\\BV1dZwLeKEzG_comments.csv\")\n",
    "display(df.head())"
   ]
  },
  {
   "cell_type": "code",
   "execution_count": 234,
   "metadata": {},
   "outputs": [
    {
     "data": {
      "text/plain": [
       "用户名     0\n",
       "性别      0\n",
       "IP地址    0\n",
       "评论内容    0\n",
       "dtype: int64"
      ]
     },
     "execution_count": 234,
     "metadata": {},
     "output_type": "execute_result"
    }
   ],
   "source": [
    "# 查看并处理缺失值\n",
    "df.isnull().sum()"
   ]
  },
  {
   "cell_type": "code",
   "execution_count": 235,
   "metadata": {},
   "outputs": [
    {
     "name": "stdout",
     "output_type": "stream",
     "text": [
      "\n",
      "发现重复数据：2031条\n"
     ]
    }
   ],
   "source": [
    "# 去除重复数据\n",
    "duplicate_mask = df.duplicated(subset=['用户名', '评论内容'], keep='first')\n",
    "print(f\"\\n发现重复数据：{duplicate_mask.sum()}条\")"
   ]
  },
  {
   "cell_type": "code",
   "execution_count": 236,
   "metadata": {},
   "outputs": [],
   "source": [
    "df = df[~duplicate_mask]"
   ]
  },
  {
   "cell_type": "code",
   "execution_count": 237,
   "metadata": {},
   "outputs": [],
   "source": [
    "# 标准化性别字段\n",
    "gender_mapping = {\n",
    "    '女': 'female',\n",
    "    '男': 'male',\n",
    "    '保密': 'unknown',\n",
    "    'unknown': 'unknown'\n",
    "}\n",
    "df['性别'] = df['性别'].map(gender_mapping).fillna('unknown')"
   ]
  },
  {
   "cell_type": "code",
   "execution_count": 238,
   "metadata": {},
   "outputs": [
    {
     "data": {
      "text/plain": [
       "性别\n",
       "unknown    3289\n",
       "male       2656\n",
       "female      388\n",
       "Name: count, dtype: int64"
      ]
     },
     "execution_count": 238,
     "metadata": {},
     "output_type": "execute_result"
    }
   ],
   "source": [
    "df['性别'].value_counts()"
   ]
  },
  {
   "cell_type": "code",
   "execution_count": 239,
   "metadata": {},
   "outputs": [],
   "source": [
    "# 清理评论特殊符号\n",
    "def clean_comment(text):\n",
    "    # 去除B站表情符号 [笑哭] [doge_金箍] 等\n",
    "    text = re.sub(r'$$.\\*?$$', '', text)\n",
    "    # 去除HTML符号\n",
    "    text = re.sub(r'&[a-z]+;', '', text)\n",
    "    # 去除多余换行符和空格\n",
    "    text = re.sub(r'\\n+', ' ', text)\n",
    "    text = re.sub(r'\\s+', ' ', text)\n",
    "    # 去除首尾空白\n",
    "    return text.strip()"
   ]
  },
  {
   "cell_type": "code",
   "execution_count": 240,
   "metadata": {},
   "outputs": [],
   "source": [
    "df['清洗后评论'] = df['评论内容'].apply(clean_comment)"
   ]
  },
  {
   "cell_type": "code",
   "execution_count": 241,
   "metadata": {},
   "outputs": [
    {
     "data": {
      "text/html": [
       "<div>\n",
       "<style scoped>\n",
       "    .dataframe tbody tr th:only-of-type {\n",
       "        vertical-align: middle;\n",
       "    }\n",
       "\n",
       "    .dataframe tbody tr th {\n",
       "        vertical-align: top;\n",
       "    }\n",
       "\n",
       "    .dataframe thead th {\n",
       "        text-align: right;\n",
       "    }\n",
       "</style>\n",
       "<table border=\"1\" class=\"dataframe\">\n",
       "  <thead>\n",
       "    <tr style=\"text-align: right;\">\n",
       "      <th></th>\n",
       "      <th>用户名</th>\n",
       "      <th>性别</th>\n",
       "      <th>IP地址</th>\n",
       "      <th>评论内容</th>\n",
       "      <th>清洗后评论</th>\n",
       "    </tr>\n",
       "  </thead>\n",
       "  <tbody>\n",
       "    <tr>\n",
       "      <th>0</th>\n",
       "      <td>柳橙迷索拉</td>\n",
       "      <td>female</td>\n",
       "      <td>江苏</td>\n",
       "      <td>2017年，NS定价：\\n29980日元\\n折合当时人民币：2000人民币（注：折合现在的人...</td>\n",
       "      <td>2017年，NS定价： 29980日元 折合当时人民币：2000人民币（注：折合现在的人民币...</td>\n",
       "    </tr>\n",
       "    <tr>\n",
       "      <th>1</th>\n",
       "      <td>阿粥今天吃什么</td>\n",
       "      <td>unknown</td>\n",
       "      <td>湖南</td>\n",
       "      <td>省流：\\n外观与爆料一致\\n名字为ns2\\n演示游戏为马车\\n确认ns卡带可以在ns2上使用...</td>\n",
       "      <td>省流： 外观与爆料一致 名字为ns2 演示游戏为马车 确认ns卡带可以在ns2上使用 4月2...</td>\n",
       "    </tr>\n",
       "    <tr>\n",
       "      <th>2</th>\n",
       "      <td>Yuri-Sense</td>\n",
       "      <td>unknown</td>\n",
       "      <td>湖北</td>\n",
       "      <td>ns2的掌机模式，\\n性能是前代掌机模式的4.35倍，\\n是前代主机模式的3.4倍。\\n\\n...</td>\n",
       "      <td>ns2的掌机模式， 性能是前代掌机模式的4.35倍， 是前代主机模式的3.4倍。 ns2的主...</td>\n",
       "    </tr>\n",
       "    <tr>\n",
       "      <th>3</th>\n",
       "      <td>宛如繁星_</td>\n",
       "      <td>male</td>\n",
       "      <td>广东</td>\n",
       "      <td>必买首发，想体验下法环在ns2运行是什么感觉，还有今年的宝可梦za。感觉今年也是个游戏大年啊...</td>\n",
       "      <td>必买首发，想体验下法环在ns2运行是什么感觉，还有今年的宝可梦za。感觉今年也是个游戏大年啊...</td>\n",
       "    </tr>\n",
       "    <tr>\n",
       "      <th>4</th>\n",
       "      <td>Go-liath</td>\n",
       "      <td>male</td>\n",
       "      <td>天津</td>\n",
       "      <td>有个细节 变成鼠标功能的时候下面是加了底座的，然后后面有又分离了，我是说突出来一块直接接触桌...</td>\n",
       "      <td>有个细节 变成鼠标功能的时候下面是加了底座的，然后后面有又分离了，我是说突出来一块直接接触桌...</td>\n",
       "    </tr>\n",
       "  </tbody>\n",
       "</table>\n",
       "</div>"
      ],
      "text/plain": [
       "          用户名       性别 IP地址  \\\n",
       "0       柳橙迷索拉   female   江苏   \n",
       "1     阿粥今天吃什么  unknown   湖南   \n",
       "2  Yuri-Sense  unknown   湖北   \n",
       "3       宛如繁星_     male   广东   \n",
       "4    Go-liath     male   天津   \n",
       "\n",
       "                                                评论内容  \\\n",
       "0  2017年，NS定价：\\n29980日元\\n折合当时人民币：2000人民币（注：折合现在的人...   \n",
       "1  省流：\\n外观与爆料一致\\n名字为ns2\\n演示游戏为马车\\n确认ns卡带可以在ns2上使用...   \n",
       "2  ns2的掌机模式，\\n性能是前代掌机模式的4.35倍，\\n是前代主机模式的3.4倍。\\n\\n...   \n",
       "3  必买首发，想体验下法环在ns2运行是什么感觉，还有今年的宝可梦za。感觉今年也是个游戏大年啊...   \n",
       "4  有个细节 变成鼠标功能的时候下面是加了底座的，然后后面有又分离了，我是说突出来一块直接接触桌...   \n",
       "\n",
       "                                               清洗后评论  \n",
       "0  2017年，NS定价： 29980日元 折合当时人民币：2000人民币（注：折合现在的人民币...  \n",
       "1  省流： 外观与爆料一致 名字为ns2 演示游戏为马车 确认ns卡带可以在ns2上使用 4月2...  \n",
       "2  ns2的掌机模式， 性能是前代掌机模式的4.35倍， 是前代主机模式的3.4倍。 ns2的主...  \n",
       "3  必买首发，想体验下法环在ns2运行是什么感觉，还有今年的宝可梦za。感觉今年也是个游戏大年啊...  \n",
       "4  有个细节 变成鼠标功能的时候下面是加了底座的，然后后面有又分离了，我是说突出来一块直接接触桌...  "
      ]
     },
     "metadata": {},
     "output_type": "display_data"
    }
   ],
   "source": [
    "display(df.head())"
   ]
  },
  {
   "cell_type": "code",
   "execution_count": 242,
   "metadata": {},
   "outputs": [],
   "source": [
    "# IP地址标准化\n",
    "def standardize_ip(ip):\n",
    "    # 识别国内省份\n",
    "    provinces = ['北京','天津','上海','重庆','河北','山西','辽宁','吉林','黑龙江','江苏','浙江','安徽','福建',\n",
    "                 '江西','山东','河南','湖北','湖南','广东','海南','四川','贵州','云南','陕西','甘肃','青海',\n",
    "                 '中国台湾','内蒙古','广西','西藏','宁夏','新疆','中国香港','中国澳门']\n",
    "    \n",
    "    if ip in provinces:\n",
    "        return f'中国-{ip}'\n",
    "    elif ip == '未知':\n",
    "        return '未知'\n",
    "    else:\n",
    "        return f'海外-{ip}'"
   ]
  },
  {
   "cell_type": "code",
   "execution_count": 243,
   "metadata": {},
   "outputs": [],
   "source": [
    "df['标准化IP'] = df['IP地址'].apply(standardize_ip)"
   ]
  },
  {
   "cell_type": "code",
   "execution_count": 244,
   "metadata": {},
   "outputs": [
    {
     "data": {
      "text/html": [
       "<div>\n",
       "<style scoped>\n",
       "    .dataframe tbody tr th:only-of-type {\n",
       "        vertical-align: middle;\n",
       "    }\n",
       "\n",
       "    .dataframe tbody tr th {\n",
       "        vertical-align: top;\n",
       "    }\n",
       "\n",
       "    .dataframe thead th {\n",
       "        text-align: right;\n",
       "    }\n",
       "</style>\n",
       "<table border=\"1\" class=\"dataframe\">\n",
       "  <thead>\n",
       "    <tr style=\"text-align: right;\">\n",
       "      <th></th>\n",
       "      <th>用户名</th>\n",
       "      <th>性别</th>\n",
       "      <th>IP地址</th>\n",
       "      <th>评论内容</th>\n",
       "      <th>清洗后评论</th>\n",
       "      <th>标准化IP</th>\n",
       "    </tr>\n",
       "  </thead>\n",
       "  <tbody>\n",
       "    <tr>\n",
       "      <th>0</th>\n",
       "      <td>柳橙迷索拉</td>\n",
       "      <td>female</td>\n",
       "      <td>江苏</td>\n",
       "      <td>2017年，NS定价：\\n29980日元\\n折合当时人民币：2000人民币（注：折合现在的人...</td>\n",
       "      <td>2017年，NS定价： 29980日元 折合当时人民币：2000人民币（注：折合现在的人民币...</td>\n",
       "      <td>中国-江苏</td>\n",
       "    </tr>\n",
       "    <tr>\n",
       "      <th>1</th>\n",
       "      <td>阿粥今天吃什么</td>\n",
       "      <td>unknown</td>\n",
       "      <td>湖南</td>\n",
       "      <td>省流：\\n外观与爆料一致\\n名字为ns2\\n演示游戏为马车\\n确认ns卡带可以在ns2上使用...</td>\n",
       "      <td>省流： 外观与爆料一致 名字为ns2 演示游戏为马车 确认ns卡带可以在ns2上使用 4月2...</td>\n",
       "      <td>中国-湖南</td>\n",
       "    </tr>\n",
       "    <tr>\n",
       "      <th>2</th>\n",
       "      <td>Yuri-Sense</td>\n",
       "      <td>unknown</td>\n",
       "      <td>湖北</td>\n",
       "      <td>ns2的掌机模式，\\n性能是前代掌机模式的4.35倍，\\n是前代主机模式的3.4倍。\\n\\n...</td>\n",
       "      <td>ns2的掌机模式， 性能是前代掌机模式的4.35倍， 是前代主机模式的3.4倍。 ns2的主...</td>\n",
       "      <td>中国-湖北</td>\n",
       "    </tr>\n",
       "    <tr>\n",
       "      <th>3</th>\n",
       "      <td>宛如繁星_</td>\n",
       "      <td>male</td>\n",
       "      <td>广东</td>\n",
       "      <td>必买首发，想体验下法环在ns2运行是什么感觉，还有今年的宝可梦za。感觉今年也是个游戏大年啊...</td>\n",
       "      <td>必买首发，想体验下法环在ns2运行是什么感觉，还有今年的宝可梦za。感觉今年也是个游戏大年啊...</td>\n",
       "      <td>中国-广东</td>\n",
       "    </tr>\n",
       "    <tr>\n",
       "      <th>4</th>\n",
       "      <td>Go-liath</td>\n",
       "      <td>male</td>\n",
       "      <td>天津</td>\n",
       "      <td>有个细节 变成鼠标功能的时候下面是加了底座的，然后后面有又分离了，我是说突出来一块直接接触桌...</td>\n",
       "      <td>有个细节 变成鼠标功能的时候下面是加了底座的，然后后面有又分离了，我是说突出来一块直接接触桌...</td>\n",
       "      <td>中国-天津</td>\n",
       "    </tr>\n",
       "    <tr>\n",
       "      <th>5</th>\n",
       "      <td>Refha</td>\n",
       "      <td>male</td>\n",
       "      <td>俄罗斯</td>\n",
       "      <td>只能说一代的滑插设计无论是从标志上来说还是实际上应用上来说都太有代表性了 导致影响大到老任第...</td>\n",
       "      <td>只能说一代的滑插设计无论是从标志上来说还是实际上应用上来说都太有代表性了 导致影响大到老任第...</td>\n",
       "      <td>海外-俄罗斯</td>\n",
       "    </tr>\n",
       "    <tr>\n",
       "      <th>6</th>\n",
       "      <td>房石诶哆</td>\n",
       "      <td>male</td>\n",
       "      <td>江苏</td>\n",
       "      <td>怎么说呢，作为任天堂粉丝我很激动，但我最推荐的还是不买首发，先继续用switch玩（因为我个...</td>\n",
       "      <td>怎么说呢，作为任天堂粉丝我很激动，但我最推荐的还是不买首发，先继续用switch玩（因为我个...</td>\n",
       "      <td>中国-江苏</td>\n",
       "    </tr>\n",
       "    <tr>\n",
       "      <th>7</th>\n",
       "      <td>可达鸭抢饭团</td>\n",
       "      <td>male</td>\n",
       "      <td>北京</td>\n",
       "      <td>我喜欢lite的小巧和轻便，还希望能连接在电视上大屏幕玩，希望出个小屏能连电视的，为什么就不...</td>\n",
       "      <td>我喜欢lite的小巧和轻便，还希望能连接在电视上大屏幕玩，希望出个小屏能连电视的，为什么就不...</td>\n",
       "      <td>中国-北京</td>\n",
       "    </tr>\n",
       "    <tr>\n",
       "      <th>8</th>\n",
       "      <td>Fimmm520</td>\n",
       "      <td>unknown</td>\n",
       "      <td>浙江</td>\n",
       "      <td>3T多浮点性能+12GB内存+DLSS，第三方厂商没在任天堂主机上打过这么富裕的仗[笑哭]</td>\n",
       "      <td>3T多浮点性能+12GB内存+DLSS，第三方厂商没在任天堂主机上打过这么富裕的仗[笑哭]</td>\n",
       "      <td>中国-浙江</td>\n",
       "    </tr>\n",
       "    <tr>\n",
       "      <th>9</th>\n",
       "      <td>猫神教小鱼干总管吖</td>\n",
       "      <td>male</td>\n",
       "      <td>江西</td>\n",
       "      <td>看快拆的设计方式，承重应该是和被子角固定器那样的强磁铁吸附，靠纵向力按开，横向力非常大，应该...</td>\n",
       "      <td>看快拆的设计方式，承重应该是和被子角固定器那样的强磁铁吸附，靠纵向力按开，横向力非常大，应该...</td>\n",
       "      <td>中国-江西</td>\n",
       "    </tr>\n",
       "  </tbody>\n",
       "</table>\n",
       "</div>"
      ],
      "text/plain": [
       "          用户名       性别 IP地址  \\\n",
       "0       柳橙迷索拉   female   江苏   \n",
       "1     阿粥今天吃什么  unknown   湖南   \n",
       "2  Yuri-Sense  unknown   湖北   \n",
       "3       宛如繁星_     male   广东   \n",
       "4    Go-liath     male   天津   \n",
       "5       Refha     male  俄罗斯   \n",
       "6        房石诶哆     male   江苏   \n",
       "7      可达鸭抢饭团     male   北京   \n",
       "8    Fimmm520  unknown   浙江   \n",
       "9   猫神教小鱼干总管吖     male   江西   \n",
       "\n",
       "                                                评论内容  \\\n",
       "0  2017年，NS定价：\\n29980日元\\n折合当时人民币：2000人民币（注：折合现在的人...   \n",
       "1  省流：\\n外观与爆料一致\\n名字为ns2\\n演示游戏为马车\\n确认ns卡带可以在ns2上使用...   \n",
       "2  ns2的掌机模式，\\n性能是前代掌机模式的4.35倍，\\n是前代主机模式的3.4倍。\\n\\n...   \n",
       "3  必买首发，想体验下法环在ns2运行是什么感觉，还有今年的宝可梦za。感觉今年也是个游戏大年啊...   \n",
       "4  有个细节 变成鼠标功能的时候下面是加了底座的，然后后面有又分离了，我是说突出来一块直接接触桌...   \n",
       "5  只能说一代的滑插设计无论是从标志上来说还是实际上应用上来说都太有代表性了 导致影响大到老任第...   \n",
       "6  怎么说呢，作为任天堂粉丝我很激动，但我最推荐的还是不买首发，先继续用switch玩（因为我个...   \n",
       "7  我喜欢lite的小巧和轻便，还希望能连接在电视上大屏幕玩，希望出个小屏能连电视的，为什么就不...   \n",
       "8      3T多浮点性能+12GB内存+DLSS，第三方厂商没在任天堂主机上打过这么富裕的仗[笑哭]   \n",
       "9  看快拆的设计方式，承重应该是和被子角固定器那样的强磁铁吸附，靠纵向力按开，横向力非常大，应该...   \n",
       "\n",
       "                                               清洗后评论   标准化IP  \n",
       "0  2017年，NS定价： 29980日元 折合当时人民币：2000人民币（注：折合现在的人民币...   中国-江苏  \n",
       "1  省流： 外观与爆料一致 名字为ns2 演示游戏为马车 确认ns卡带可以在ns2上使用 4月2...   中国-湖南  \n",
       "2  ns2的掌机模式， 性能是前代掌机模式的4.35倍， 是前代主机模式的3.4倍。 ns2的主...   中国-湖北  \n",
       "3  必买首发，想体验下法环在ns2运行是什么感觉，还有今年的宝可梦za。感觉今年也是个游戏大年啊...   中国-广东  \n",
       "4  有个细节 变成鼠标功能的时候下面是加了底座的，然后后面有又分离了，我是说突出来一块直接接触桌...   中国-天津  \n",
       "5  只能说一代的滑插设计无论是从标志上来说还是实际上应用上来说都太有代表性了 导致影响大到老任第...  海外-俄罗斯  \n",
       "6  怎么说呢，作为任天堂粉丝我很激动，但我最推荐的还是不买首发，先继续用switch玩（因为我个...   中国-江苏  \n",
       "7  我喜欢lite的小巧和轻便，还希望能连接在电视上大屏幕玩，希望出个小屏能连电视的，为什么就不...   中国-北京  \n",
       "8      3T多浮点性能+12GB内存+DLSS，第三方厂商没在任天堂主机上打过这么富裕的仗[笑哭]   中国-浙江  \n",
       "9  看快拆的设计方式，承重应该是和被子角固定器那样的强磁铁吸附，靠纵向力按开，横向力非常大，应该...   中国-江西  "
      ]
     },
     "metadata": {},
     "output_type": "display_data"
    }
   ],
   "source": [
    "display(df.head(10))"
   ]
  },
  {
   "cell_type": "code",
   "execution_count": 245,
   "metadata": {},
   "outputs": [
    {
     "data": {
      "text/html": [
       "<div>\n",
       "<style scoped>\n",
       "    .dataframe tbody tr th:only-of-type {\n",
       "        vertical-align: middle;\n",
       "    }\n",
       "\n",
       "    .dataframe tbody tr th {\n",
       "        vertical-align: top;\n",
       "    }\n",
       "\n",
       "    .dataframe thead th {\n",
       "        text-align: right;\n",
       "    }\n",
       "</style>\n",
       "<table border=\"1\" class=\"dataframe\">\n",
       "  <thead>\n",
       "    <tr style=\"text-align: right;\">\n",
       "      <th></th>\n",
       "      <th>用户名</th>\n",
       "      <th>性别</th>\n",
       "      <th>IP地址</th>\n",
       "      <th>评论内容</th>\n",
       "      <th>清洗后评论</th>\n",
       "      <th>标准化IP</th>\n",
       "    </tr>\n",
       "  </thead>\n",
       "  <tbody>\n",
       "    <tr>\n",
       "      <th>count</th>\n",
       "      <td>6333</td>\n",
       "      <td>6333</td>\n",
       "      <td>6333</td>\n",
       "      <td>6333</td>\n",
       "      <td>6333</td>\n",
       "      <td>6333</td>\n",
       "    </tr>\n",
       "    <tr>\n",
       "      <th>unique</th>\n",
       "      <td>5935</td>\n",
       "      <td>3</td>\n",
       "      <td>67</td>\n",
       "      <td>6039</td>\n",
       "      <td>6039</td>\n",
       "      <td>67</td>\n",
       "    </tr>\n",
       "    <tr>\n",
       "      <th>top</th>\n",
       "      <td>账号已注销</td>\n",
       "      <td>unknown</td>\n",
       "      <td>广东</td>\n",
       "      <td>见证历史</td>\n",
       "      <td>见证历史</td>\n",
       "      <td>中国-广东</td>\n",
       "    </tr>\n",
       "    <tr>\n",
       "      <th>freq</th>\n",
       "      <td>15</td>\n",
       "      <td>3289</td>\n",
       "      <td>892</td>\n",
       "      <td>54</td>\n",
       "      <td>54</td>\n",
       "      <td>892</td>\n",
       "    </tr>\n",
       "  </tbody>\n",
       "</table>\n",
       "</div>"
      ],
      "text/plain": [
       "          用户名       性别  IP地址  评论内容 清洗后评论  标准化IP\n",
       "count    6333     6333  6333  6333  6333   6333\n",
       "unique   5935        3    67  6039  6039     67\n",
       "top     账号已注销  unknown    广东  见证历史  见证历史  中国-广东\n",
       "freq       15     3289   892    54    54    892"
      ]
     },
     "execution_count": 245,
     "metadata": {},
     "output_type": "execute_result"
    }
   ],
   "source": [
    "df.describe()"
   ]
  },
  {
   "cell_type": "code",
   "execution_count": 246,
   "metadata": {},
   "outputs": [],
   "source": [
    "# 处理异常评论\n",
    "# 定义异常评论规则\n",
    "def is_valid_comment(text):\n",
    "    # 有效评论长度阈值\n",
    "    if len(text) < 3:\n",
    "        return False\n",
    "    # 包含过多数字\n",
    "    if len(re.findall(r'\\d', text)) / len(text) > 0.3:\n",
    "        return False\n",
    "    return True"
   ]
  },
  {
   "cell_type": "code",
   "execution_count": 247,
   "metadata": {},
   "outputs": [
    {
     "name": "stdout",
     "output_type": "stream",
     "text": [
      "\n",
      "无效评论数量：318\n"
     ]
    }
   ],
   "source": [
    "# 添加有效性标记\n",
    "df['是否有效'] = df['清洗后评论'].apply(is_valid_comment)\n",
    "print(f\"\\n无效评论数量：{len(df[~df['是否有效']])}\")"
   ]
  },
  {
   "cell_type": "code",
   "execution_count": 248,
   "metadata": {},
   "outputs": [],
   "source": [
    "# 保存清洗结果\n",
    "clean_df = df[df['是否有效']].drop(columns=['是否有效', 'IP地址', '评论内容'])\n",
    "clean_df = clean_df.rename(columns={\n",
    "    '清洗后评论': '评论内容',\n",
    "    '标准化IP': 'IP属地'\n",
    "})"
   ]
  },
  {
   "cell_type": "code",
   "execution_count": 249,
   "metadata": {},
   "outputs": [
    {
     "data": {
      "text/html": [
       "<div>\n",
       "<style scoped>\n",
       "    .dataframe tbody tr th:only-of-type {\n",
       "        vertical-align: middle;\n",
       "    }\n",
       "\n",
       "    .dataframe tbody tr th {\n",
       "        vertical-align: top;\n",
       "    }\n",
       "\n",
       "    .dataframe thead th {\n",
       "        text-align: right;\n",
       "    }\n",
       "</style>\n",
       "<table border=\"1\" class=\"dataframe\">\n",
       "  <thead>\n",
       "    <tr style=\"text-align: right;\">\n",
       "      <th></th>\n",
       "      <th>用户名</th>\n",
       "      <th>性别</th>\n",
       "      <th>评论内容</th>\n",
       "      <th>IP属地</th>\n",
       "    </tr>\n",
       "  </thead>\n",
       "  <tbody>\n",
       "    <tr>\n",
       "      <th>0</th>\n",
       "      <td>柳橙迷索拉</td>\n",
       "      <td>female</td>\n",
       "      <td>2017年，NS定价： 29980日元 折合当时人民币：2000人民币（注：折合现在的人民币...</td>\n",
       "      <td>中国-江苏</td>\n",
       "    </tr>\n",
       "    <tr>\n",
       "      <th>1</th>\n",
       "      <td>阿粥今天吃什么</td>\n",
       "      <td>unknown</td>\n",
       "      <td>省流： 外观与爆料一致 名字为ns2 演示游戏为马车 确认ns卡带可以在ns2上使用 4月2...</td>\n",
       "      <td>中国-湖南</td>\n",
       "    </tr>\n",
       "    <tr>\n",
       "      <th>2</th>\n",
       "      <td>Yuri-Sense</td>\n",
       "      <td>unknown</td>\n",
       "      <td>ns2的掌机模式， 性能是前代掌机模式的4.35倍， 是前代主机模式的3.4倍。 ns2的主...</td>\n",
       "      <td>中国-湖北</td>\n",
       "    </tr>\n",
       "    <tr>\n",
       "      <th>3</th>\n",
       "      <td>宛如繁星_</td>\n",
       "      <td>male</td>\n",
       "      <td>必买首发，想体验下法环在ns2运行是什么感觉，还有今年的宝可梦za。感觉今年也是个游戏大年啊...</td>\n",
       "      <td>中国-广东</td>\n",
       "    </tr>\n",
       "    <tr>\n",
       "      <th>4</th>\n",
       "      <td>Go-liath</td>\n",
       "      <td>male</td>\n",
       "      <td>有个细节 变成鼠标功能的时候下面是加了底座的，然后后面有又分离了，我是说突出来一块直接接触桌...</td>\n",
       "      <td>中国-天津</td>\n",
       "    </tr>\n",
       "    <tr>\n",
       "      <th>5</th>\n",
       "      <td>Refha</td>\n",
       "      <td>male</td>\n",
       "      <td>只能说一代的滑插设计无论是从标志上来说还是实际上应用上来说都太有代表性了 导致影响大到老任第...</td>\n",
       "      <td>海外-俄罗斯</td>\n",
       "    </tr>\n",
       "    <tr>\n",
       "      <th>6</th>\n",
       "      <td>房石诶哆</td>\n",
       "      <td>male</td>\n",
       "      <td>怎么说呢，作为任天堂粉丝我很激动，但我最推荐的还是不买首发，先继续用switch玩（因为我个...</td>\n",
       "      <td>中国-江苏</td>\n",
       "    </tr>\n",
       "    <tr>\n",
       "      <th>7</th>\n",
       "      <td>可达鸭抢饭团</td>\n",
       "      <td>male</td>\n",
       "      <td>我喜欢lite的小巧和轻便，还希望能连接在电视上大屏幕玩，希望出个小屏能连电视的，为什么就不...</td>\n",
       "      <td>中国-北京</td>\n",
       "    </tr>\n",
       "    <tr>\n",
       "      <th>8</th>\n",
       "      <td>Fimmm520</td>\n",
       "      <td>unknown</td>\n",
       "      <td>3T多浮点性能+12GB内存+DLSS，第三方厂商没在任天堂主机上打过这么富裕的仗[笑哭]</td>\n",
       "      <td>中国-浙江</td>\n",
       "    </tr>\n",
       "    <tr>\n",
       "      <th>9</th>\n",
       "      <td>猫神教小鱼干总管吖</td>\n",
       "      <td>male</td>\n",
       "      <td>看快拆的设计方式，承重应该是和被子角固定器那样的强磁铁吸附，靠纵向力按开，横向力非常大，应该...</td>\n",
       "      <td>中国-江西</td>\n",
       "    </tr>\n",
       "  </tbody>\n",
       "</table>\n",
       "</div>"
      ],
      "text/plain": [
       "          用户名       性别                                               评论内容  \\\n",
       "0       柳橙迷索拉   female  2017年，NS定价： 29980日元 折合当时人民币：2000人民币（注：折合现在的人民币...   \n",
       "1     阿粥今天吃什么  unknown  省流： 外观与爆料一致 名字为ns2 演示游戏为马车 确认ns卡带可以在ns2上使用 4月2...   \n",
       "2  Yuri-Sense  unknown  ns2的掌机模式， 性能是前代掌机模式的4.35倍， 是前代主机模式的3.4倍。 ns2的主...   \n",
       "3       宛如繁星_     male  必买首发，想体验下法环在ns2运行是什么感觉，还有今年的宝可梦za。感觉今年也是个游戏大年啊...   \n",
       "4    Go-liath     male  有个细节 变成鼠标功能的时候下面是加了底座的，然后后面有又分离了，我是说突出来一块直接接触桌...   \n",
       "5       Refha     male  只能说一代的滑插设计无论是从标志上来说还是实际上应用上来说都太有代表性了 导致影响大到老任第...   \n",
       "6        房石诶哆     male  怎么说呢，作为任天堂粉丝我很激动，但我最推荐的还是不买首发，先继续用switch玩（因为我个...   \n",
       "7      可达鸭抢饭团     male  我喜欢lite的小巧和轻便，还希望能连接在电视上大屏幕玩，希望出个小屏能连电视的，为什么就不...   \n",
       "8    Fimmm520  unknown      3T多浮点性能+12GB内存+DLSS，第三方厂商没在任天堂主机上打过这么富裕的仗[笑哭]   \n",
       "9   猫神教小鱼干总管吖     male  看快拆的设计方式，承重应该是和被子角固定器那样的强磁铁吸附，靠纵向力按开，横向力非常大，应该...   \n",
       "\n",
       "     IP属地  \n",
       "0   中国-江苏  \n",
       "1   中国-湖南  \n",
       "2   中国-湖北  \n",
       "3   中国-广东  \n",
       "4   中国-天津  \n",
       "5  海外-俄罗斯  \n",
       "6   中国-江苏  \n",
       "7   中国-北京  \n",
       "8   中国-浙江  \n",
       "9   中国-江西  "
      ]
     },
     "metadata": {},
     "output_type": "display_data"
    }
   ],
   "source": [
    "display(clean_df.head(10))"
   ]
  },
  {
   "cell_type": "code",
   "execution_count": 250,
   "metadata": {},
   "outputs": [
    {
     "data": {
      "text/html": [
       "<div>\n",
       "<style scoped>\n",
       "    .dataframe tbody tr th:only-of-type {\n",
       "        vertical-align: middle;\n",
       "    }\n",
       "\n",
       "    .dataframe tbody tr th {\n",
       "        vertical-align: top;\n",
       "    }\n",
       "\n",
       "    .dataframe thead th {\n",
       "        text-align: right;\n",
       "    }\n",
       "</style>\n",
       "<table border=\"1\" class=\"dataframe\">\n",
       "  <thead>\n",
       "    <tr style=\"text-align: right;\">\n",
       "      <th></th>\n",
       "      <th>用户名</th>\n",
       "      <th>性别</th>\n",
       "      <th>评论内容</th>\n",
       "      <th>IP属地</th>\n",
       "    </tr>\n",
       "  </thead>\n",
       "  <tbody>\n",
       "    <tr>\n",
       "      <th>count</th>\n",
       "      <td>6015</td>\n",
       "      <td>6015</td>\n",
       "      <td>6015</td>\n",
       "      <td>6015</td>\n",
       "    </tr>\n",
       "    <tr>\n",
       "      <th>unique</th>\n",
       "      <td>5657</td>\n",
       "      <td>3</td>\n",
       "      <td>5804</td>\n",
       "      <td>65</td>\n",
       "    </tr>\n",
       "    <tr>\n",
       "      <th>top</th>\n",
       "      <td>账号已注销</td>\n",
       "      <td>unknown</td>\n",
       "      <td>见证历史</td>\n",
       "      <td>中国-广东</td>\n",
       "    </tr>\n",
       "    <tr>\n",
       "      <th>freq</th>\n",
       "      <td>15</td>\n",
       "      <td>3109</td>\n",
       "      <td>54</td>\n",
       "      <td>853</td>\n",
       "    </tr>\n",
       "  </tbody>\n",
       "</table>\n",
       "</div>"
      ],
      "text/plain": [
       "          用户名       性别  评论内容   IP属地\n",
       "count    6015     6015  6015   6015\n",
       "unique   5657        3  5804     65\n",
       "top     账号已注销  unknown  见证历史  中国-广东\n",
       "freq       15     3109    54    853"
      ]
     },
     "execution_count": 250,
     "metadata": {},
     "output_type": "execute_result"
    }
   ],
   "source": [
    "clean_df.describe()"
   ]
  },
  {
   "cell_type": "code",
   "execution_count": 251,
   "metadata": {},
   "outputs": [
    {
     "name": "stderr",
     "output_type": "stream",
     "text": [
      "<>:1: SyntaxWarning: invalid escape sequence '\\G'\n",
      "<>:1: SyntaxWarning: invalid escape sequence '\\G'\n",
      "C:\\Users\\wjw20\\AppData\\Local\\Temp\\ipykernel_7352\\2832142298.py:1: SyntaxWarning: invalid escape sequence '\\G'\n",
      "  clean_df.to_csv('D:\\GitHubRepos\\is6941-ml-social-media\\\\analysis\\data\\cleaned_BV1dZwLeKEzG_comments.csv', index=False, encoding='utf_8_sig')\n"
     ]
    }
   ],
   "source": [
    "clean_df.to_csv('D:\\GitHubRepos\\is6941-ml-social-media\\\\analysis\\data\\cleaned_BV1dZwLeKEzG_comments.csv', index=False, encoding='utf_8_sig')"
   ]
  }
 ],
 "metadata": {
  "kernelspec": {
   "display_name": "IS6941",
   "language": "python",
   "name": "python3"
  },
  "language_info": {
   "codemirror_mode": {
    "name": "ipython",
    "version": 3
   },
   "file_extension": ".py",
   "mimetype": "text/x-python",
   "name": "python",
   "nbconvert_exporter": "python",
   "pygments_lexer": "ipython3",
   "version": "3.11.11"
  }
 },
 "nbformat": 4,
 "nbformat_minor": 2
}
