{
 "cells": [
  {
   "cell_type": "code",
   "execution_count": 168,
   "id": "7a8576c4",
   "metadata": {},
   "outputs": [],
   "source": [
    "import torch\n",
    "import pandas as pd\n",
    "from transformers import BertTokenizer, BertForSequenceClassification, Trainer, TrainingArguments\n",
    "from sklearn.model_selection import train_test_split\n",
    "from sklearn.metrics import classification_report, confusion_matrix\n",
    "from torch.utils.data import Dataset\n",
    "from transformers import EarlyStoppingCallback\n",
    "from torch.nn import CrossEntropyLoss"
   ]
  },
  {
   "cell_type": "code",
   "execution_count": 169,
   "id": "9b6d6131",
   "metadata": {},
   "outputs": [
    {
     "name": "stdout",
     "output_type": "stream",
     "text": [
      "Using device: cuda\n"
     ]
    }
   ],
   "source": [
    "# 检查GPU可用性\n",
    "device = torch.device(\"cuda\" if torch.cuda.is_available() else \"cpu\")\n",
    "print(f\"Using device: {device}\")"
   ]
  },
  {
   "cell_type": "code",
   "execution_count": 170,
   "id": "67307505",
   "metadata": {},
   "outputs": [],
   "source": [
    "# 数据加载\n",
    "df = pd.read_csv(r\"D:\\GitHubRepos\\is6941-ml-social-media\\taptap\\data\\integrated\\lm_cleaned_taptap_reviews.csv\")\n",
    "df = df[['review_content', 'sentiment']].dropna()\n",
    "df['sentiment'] = df['sentiment'].astype(int)"
   ]
  },
  {
   "cell_type": "code",
   "execution_count": 171,
   "id": "ea3bb53c",
   "metadata": {},
   "outputs": [],
   "source": [
    "# 划分数据集\n",
    "train_texts, test_texts, train_labels, test_labels = train_test_split(\n",
    "    df['review_content'].tolist(),\n",
    "    df['sentiment'].tolist(),\n",
    "    test_size=0.2,\n",
    "    random_state=42\n",
    ")"
   ]
  },
  {
   "cell_type": "code",
   "execution_count": 172,
   "id": "3ac56dc2",
   "metadata": {},
   "outputs": [],
   "source": [
    "# 修正后的数据集类\n",
    "class SentimentDataset(Dataset):\n",
    "    def __init__(self, texts, labels, tokenizer):\n",
    "        self.encodings = tokenizer(texts, \n",
    "                                 padding='max_length',  # 统一填充长度\n",
    "                                 truncation=True, \n",
    "                                 max_length=256)\n",
    "        self.labels = labels\n",
    "\n",
    "    def __getitem__(self, idx):\n",
    "        return {\n",
    "            'input_ids': torch.tensor(self.encodings['input_ids'][idx]),\n",
    "            'attention_mask': torch.tensor(self.encodings['attention_mask'][idx]),\n",
    "            'labels': torch.tensor(self.labels[idx])\n",
    "        }\n",
    "\n",
    "    def __len__(self):\n",
    "        return len(self.labels)"
   ]
  },
  {
   "cell_type": "code",
   "execution_count": 173,
   "id": "80a80e64",
   "metadata": {},
   "outputs": [],
   "source": [
    "# 计算类别权重\n",
    "class_weights = torch.tensor(\n",
    "    [len(train_labels)/sum(train_labels),  # 正样本权重\n",
    "     len(train_labels)/(len(train_labels)-sum(train_labels))],  # 负样本权重\n",
    "    device=device\n",
    ")"
   ]
  },
  {
   "cell_type": "code",
   "execution_count": 174,
   "id": "a5f697f6",
   "metadata": {},
   "outputs": [
    {
     "name": "stderr",
     "output_type": "stream",
     "text": [
      "c:\\Users\\wjw20\\miniconda3\\envs\\IS6941\\Lib\\site-packages\\huggingface_hub\\file_download.py:896: FutureWarning: `resume_download` is deprecated and will be removed in version 1.0.0. Downloads always resume when possible. If you want to force a new download, use `force_download=True`.\n",
      "  warnings.warn(\n",
      "Some weights of the model checkpoint at bert-base-chinese were not used when initializing BertForSequenceClassification: ['cls.predictions.transform.dense.bias', 'cls.predictions.transform.dense.weight', 'cls.seq_relationship.bias', 'cls.predictions.bias', 'cls.seq_relationship.weight', 'cls.predictions.transform.LayerNorm.weight', 'cls.predictions.transform.LayerNorm.bias']\n",
      "- This IS expected if you are initializing BertForSequenceClassification from the checkpoint of a model trained on another task or with another architecture (e.g. initializing a BertForSequenceClassification model from a BertForPreTraining model).\n",
      "- This IS NOT expected if you are initializing BertForSequenceClassification from the checkpoint of a model that you expect to be exactly identical (initializing a BertForSequenceClassification model from a BertForSequenceClassification model).\n",
      "Some weights of BertForSequenceClassification were not initialized from the model checkpoint at bert-base-chinese and are newly initialized: ['classifier.bias', 'classifier.weight']\n",
      "You should probably TRAIN this model on a down-stream task to be able to use it for predictions and inference.\n"
     ]
    }
   ],
   "source": [
    "# 初始化模型和分词器\n",
    "tokenizer = BertTokenizer.from_pretrained(\"bert-base-chinese\")\n",
    "# 修改模型初始化\n",
    "model = BertForSequenceClassification.from_pretrained(\n",
    "    \"bert-base-chinese\",\n",
    "    num_labels=2,\n",
    "    # problem_type=\"single_label_classification\",\n",
    "    # hidden_dropout_prob=0.3,\n",
    "    # classifier_dropout=0.2\n",
    ")\n",
    "\n",
    "# 将类别权重移动到GPU\n",
    "class_weights = class_weights.to(device)"
   ]
  },
  {
   "cell_type": "code",
   "execution_count": 175,
   "id": "58b3f314",
   "metadata": {},
   "outputs": [],
   "source": [
    "# 创建数据集（保持CPU张量）\n",
    "train_dataset = SentimentDataset(train_texts, train_labels, tokenizer)\n",
    "test_dataset = SentimentDataset(test_texts, test_labels, tokenizer)"
   ]
  },
  {
   "cell_type": "code",
   "execution_count": 176,
   "id": "2ccf08f1",
   "metadata": {},
   "outputs": [],
   "source": [
    "# 训练配置（自动处理数据到GPU）\n",
    "training_args = TrainingArguments(\n",
    "    output_dir='./results',\n",
    "    per_device_train_batch_size=32,\n",
    "    per_device_eval_batch_size=64,\n",
    "    num_train_epochs=3,\n",
    "    evaluation_strategy=\"epoch\",\n",
    "    fp16=True,  # 自动启用pin_memory\n",
    "    dataloader_pin_memory=True,  # 显式启用内存固定\n",
    "    # learning_rate=3e-5,  # 初始学习率从默认的5e-5调低\n",
    "    # warmup_ratio=0.1,    # 添加学习率预热\n",
    "    # weight_decay=0.01,   # L2正则化\n",
    "    # gradient_accumulation_steps=2,   # 梯度累积\n",
    ")"
   ]
  },
  {
   "cell_type": "code",
   "execution_count": 177,
   "id": "8e732d71",
   "metadata": {},
   "outputs": [],
   "source": [
    "# 自定义评估函数\n",
    "def compute_metrics(pred):\n",
    "    labels = pred.label_ids\n",
    "    preds = pred.predictions.argmax(-1)\n",
    "    print(\"\\nClassification Report:\")\n",
    "    print(classification_report(labels, preds))\n",
    "    print(\"Confusion Matrix:\")\n",
    "    print(confusion_matrix(labels, preds))\n",
    "    return {'accuracy': (preds == labels).mean()}"
   ]
  },
  {
   "cell_type": "code",
   "execution_count": null,
   "id": "07146ef0",
   "metadata": {},
   "outputs": [],
   "source": [
    "# 创建训练器\n",
    "trainer = Trainer(\n",
    "    model=model,\n",
    "    args=training_args,\n",
    "    train_dataset=train_dataset,\n",
    "    eval_dataset=test_dataset,\n",
    "    compute_metrics=compute_metrics,\n",
    ")"
   ]
  },
  {
   "cell_type": "code",
   "execution_count": 179,
   "id": "1f835f8c",
   "metadata": {},
   "outputs": [
    {
     "name": "stderr",
     "output_type": "stream",
     "text": [
      "c:\\Users\\wjw20\\miniconda3\\envs\\IS6941\\Lib\\site-packages\\transformers\\optimization.py:411: FutureWarning: This implementation of AdamW is deprecated and will be removed in a future version. Use the PyTorch implementation torch.optim.AdamW instead, or set `no_deprecation_warning=True` to disable this warning\n",
      "  warnings.warn(\n"
     ]
    },
    {
     "data": {
      "application/vnd.jupyter.widget-view+json": {
       "model_id": "1533fcb6320f466d848d93e159ae884f",
       "version_major": 2,
       "version_minor": 0
      },
      "text/plain": [
       "  0%|          | 0/3000 [00:00<?, ?it/s]"
      ]
     },
     "metadata": {},
     "output_type": "display_data"
    },
    {
     "name": "stdout",
     "output_type": "stream",
     "text": [
      "{'loss': 0.441, 'learning_rate': 4.166666666666667e-05, 'epoch': 0.5}\n",
      "{'loss': 0.3935, 'learning_rate': 3.3333333333333335e-05, 'epoch': 1.0}\n"
     ]
    },
    {
     "data": {
      "application/vnd.jupyter.widget-view+json": {
       "model_id": "aaaeceae573f49fdbc57eaad6d9bbb3d",
       "version_major": 2,
       "version_minor": 0
      },
      "text/plain": [
       "  0%|          | 0/125 [00:00<?, ?it/s]"
      ]
     },
     "metadata": {},
     "output_type": "display_data"
    },
    {
     "name": "stdout",
     "output_type": "stream",
     "text": [
      "\n",
      "Classification Report:\n",
      "              precision    recall  f1-score   support\n",
      "\n",
      "           0       0.78      0.73      0.75      2740\n",
      "           1       0.86      0.89      0.88      5257\n",
      "\n",
      "    accuracy                           0.84      7997\n",
      "   macro avg       0.82      0.81      0.82      7997\n",
      "weighted avg       0.84      0.84      0.84      7997\n",
      "\n",
      "Confusion Matrix:\n",
      "[[1999  741]\n",
      " [ 560 4697]]\n",
      "{'eval_loss': 0.36735033988952637, 'eval_accuracy': 0.8373139927472802, 'eval_runtime': 15.6136, 'eval_samples_per_second': 512.183, 'eval_steps_per_second': 8.006, 'epoch': 1.0}\n",
      "{'loss': 0.3063, 'learning_rate': 2.5e-05, 'epoch': 1.5}\n",
      "{'loss': 0.2937, 'learning_rate': 1.6683333333333333e-05, 'epoch': 2.0}\n"
     ]
    },
    {
     "data": {
      "application/vnd.jupyter.widget-view+json": {
       "model_id": "70704d542492422c95b3fa3c50aba655",
       "version_major": 2,
       "version_minor": 0
      },
      "text/plain": [
       "  0%|          | 0/125 [00:00<?, ?it/s]"
      ]
     },
     "metadata": {},
     "output_type": "display_data"
    },
    {
     "name": "stdout",
     "output_type": "stream",
     "text": [
      "\n",
      "Classification Report:\n",
      "              precision    recall  f1-score   support\n",
      "\n",
      "           0       0.80      0.72      0.76      2740\n",
      "           1       0.86      0.90      0.88      5257\n",
      "\n",
      "    accuracy                           0.84      7997\n",
      "   macro avg       0.83      0.81      0.82      7997\n",
      "weighted avg       0.84      0.84      0.84      7997\n",
      "\n",
      "Confusion Matrix:\n",
      "[[1968  772]\n",
      " [ 501 4756]]\n",
      "{'eval_loss': 0.3690436780452728, 'eval_accuracy': 0.8408153057396524, 'eval_runtime': 15.9317, 'eval_samples_per_second': 501.956, 'eval_steps_per_second': 7.846, 'epoch': 2.0}\n",
      "{'loss': 0.1862, 'learning_rate': 8.350000000000001e-06, 'epoch': 2.5}\n",
      "{'loss': 0.1867, 'learning_rate': 1.6666666666666667e-08, 'epoch': 3.0}\n"
     ]
    },
    {
     "data": {
      "application/vnd.jupyter.widget-view+json": {
       "model_id": "940a3278555d4bac9137167ea3697810",
       "version_major": 2,
       "version_minor": 0
      },
      "text/plain": [
       "  0%|          | 0/125 [00:00<?, ?it/s]"
      ]
     },
     "metadata": {},
     "output_type": "display_data"
    },
    {
     "name": "stdout",
     "output_type": "stream",
     "text": [
      "\n",
      "Classification Report:\n",
      "              precision    recall  f1-score   support\n",
      "\n",
      "           0       0.78      0.76      0.77      2740\n",
      "           1       0.87      0.89      0.88      5257\n",
      "\n",
      "    accuracy                           0.84      7997\n",
      "   macro avg       0.83      0.82      0.82      7997\n",
      "weighted avg       0.84      0.84      0.84      7997\n",
      "\n",
      "Confusion Matrix:\n",
      "[[2072  668]\n",
      " [ 585 4672]]\n",
      "{'eval_loss': 0.43909624218940735, 'eval_accuracy': 0.8433162435913467, 'eval_runtime': 15.927, 'eval_samples_per_second': 502.104, 'eval_steps_per_second': 7.848, 'epoch': 3.0}\n",
      "{'train_runtime': 667.4412, 'train_samples_per_second': 143.779, 'train_steps_per_second': 4.495, 'train_loss': 0.3012294667561849, 'epoch': 3.0}\n"
     ]
    },
    {
     "data": {
      "text/plain": [
       "TrainOutput(global_step=3000, training_loss=0.3012294667561849, metrics={'train_runtime': 667.4412, 'train_samples_per_second': 143.779, 'train_steps_per_second': 4.495, 'train_loss': 0.3012294667561849, 'epoch': 3.0})"
      ]
     },
     "execution_count": 179,
     "metadata": {},
     "output_type": "execute_result"
    }
   ],
   "source": [
    "# 开始训练（自动处理数据迁移）\n",
    "trainer.train()"
   ]
  },
  {
   "cell_type": "code",
   "execution_count": 181,
   "id": "4641def6",
   "metadata": {},
   "outputs": [
    {
     "data": {
      "application/vnd.jupyter.widget-view+json": {
       "model_id": "3e84b6e82b0e4f6db0860f344e68becd",
       "version_major": 2,
       "version_minor": 0
      },
      "text/plain": [
       "  0%|          | 0/125 [00:00<?, ?it/s]"
      ]
     },
     "metadata": {},
     "output_type": "display_data"
    },
    {
     "name": "stdout",
     "output_type": "stream",
     "text": [
      "\n",
      "Classification Report:\n",
      "              precision    recall  f1-score   support\n",
      "\n",
      "           0       0.78      0.76      0.77      2740\n",
      "           1       0.87      0.89      0.88      5257\n",
      "\n",
      "    accuracy                           0.84      7997\n",
      "   macro avg       0.83      0.82      0.82      7997\n",
      "weighted avg       0.84      0.84      0.84      7997\n",
      "\n",
      "Confusion Matrix:\n",
      "[[2072  668]\n",
      " [ 585 4672]]\n",
      "\n",
      "Final Test Set Evaluation:\n",
      "\n",
      "Classification Report:\n",
      "              precision    recall  f1-score   support\n",
      "\n",
      "           0       0.78      0.76      0.77      2740\n",
      "           1       0.87      0.89      0.88      5257\n",
      "\n",
      "    accuracy                           0.84      7997\n",
      "   macro avg       0.83      0.82      0.82      7997\n",
      "weighted avg       0.84      0.84      0.84      7997\n",
      "\n",
      "Confusion Matrix:\n",
      "[[2072  668]\n",
      " [ 585 4672]]\n"
     ]
    },
    {
     "data": {
      "text/plain": [
       "{'accuracy': 0.8433162435913467}"
      ]
     },
     "execution_count": 181,
     "metadata": {},
     "output_type": "execute_result"
    }
   ],
   "source": [
    "# 最终测试集评估\n",
    "test_results = trainer.predict(test_dataset)\n",
    "print(\"\\nFinal Test Set Evaluation:\")\n",
    "compute_metrics(test_results)"
   ]
  }
 ],
 "metadata": {
  "kernelspec": {
   "display_name": "IS6941",
   "language": "python",
   "name": "python3"
  },
  "language_info": {
   "codemirror_mode": {
    "name": "ipython",
    "version": 3
   },
   "file_extension": ".py",
   "mimetype": "text/x-python",
   "name": "python",
   "nbconvert_exporter": "python",
   "pygments_lexer": "ipython3",
   "version": "3.11.11"
  }
 },
 "nbformat": 4,
 "nbformat_minor": 5
}
